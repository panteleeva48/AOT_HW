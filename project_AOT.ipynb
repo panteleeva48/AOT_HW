{
 "cells": [
  {
   "cell_type": "markdown",
   "metadata": {
    "collapsed": true
   },
   "source": [
    "# Отчёт по конкурсу \"Avito Demand Prediction Challenge\"\n",
    "##### Выполнили:\n",
    "Женя Глазунов и Ира Пантелеева"
   ]
  },
  {
   "cell_type": "code",
   "execution_count": 94,
   "metadata": {
    "collapsed": true
   },
   "outputs": [],
   "source": [
    "import pymorphy2\n",
    "morph = pymorphy2.MorphAnalyzer()\n",
    "from nltk.corpus import stopwords\n",
    "import pandas as pd\n",
    "from nltk.tokenize import TweetTokenizer\n",
    "import re\n",
    "from tqdm import tqdm\n",
    "from model import Model\n",
    "import numpy as np"
   ]
  },
  {
   "cell_type": "markdown",
   "metadata": {},
   "source": [
    "Загружаем тестовую и обучающую выборки:"
   ]
  },
  {
   "cell_type": "code",
   "execution_count": 96,
   "metadata": {},
   "outputs": [],
   "source": [
    "train_data = pd.read_csv('/Users/irene/Downloads/project/train_avito.csv')\n",
    "test_data = pd.read_csv('/Users/irene/Downloads/project/test_avito.csv')\n",
    "train_data = train_data[['description', 'title']]\n",
    "test_data = test_data[['description', 'title']]"
   ]
  },
  {
   "cell_type": "code",
   "execution_count": 97,
   "metadata": {},
   "outputs": [
    {
     "data": {
      "text/html": [
       "<div>\n",
       "<style scoped>\n",
       "    .dataframe tbody tr th:only-of-type {\n",
       "        vertical-align: middle;\n",
       "    }\n",
       "\n",
       "    .dataframe tbody tr th {\n",
       "        vertical-align: top;\n",
       "    }\n",
       "\n",
       "    .dataframe thead th {\n",
       "        text-align: right;\n",
       "    }\n",
       "</style>\n",
       "<table border=\"1\" class=\"dataframe\">\n",
       "  <thead>\n",
       "    <tr style=\"text-align: right;\">\n",
       "      <th></th>\n",
       "      <th>description</th>\n",
       "      <th>title</th>\n",
       "    </tr>\n",
       "  </thead>\n",
       "  <tbody>\n",
       "    <tr>\n",
       "      <th>0</th>\n",
       "      <td>Кокон для сна малыша,пользовались меньше месяц...</td>\n",
       "      <td>Кокоби(кокон для сна)</td>\n",
       "    </tr>\n",
       "    <tr>\n",
       "      <th>1</th>\n",
       "      <td>Стойка для одежды, под вешалки. С бутика.</td>\n",
       "      <td>Стойка для Одежды</td>\n",
       "    </tr>\n",
       "    <tr>\n",
       "      <th>2</th>\n",
       "      <td>В хорошем состоянии, домашний кинотеатр с blu ...</td>\n",
       "      <td>Philips bluray</td>\n",
       "    </tr>\n",
       "    <tr>\n",
       "      <th>3</th>\n",
       "      <td>Продам кресло от0-25кг</td>\n",
       "      <td>Автокресло</td>\n",
       "    </tr>\n",
       "    <tr>\n",
       "      <th>4</th>\n",
       "      <td>Все вопросы по телефону.</td>\n",
       "      <td>ВАЗ 2110, 2003</td>\n",
       "    </tr>\n",
       "  </tbody>\n",
       "</table>\n",
       "</div>"
      ],
      "text/plain": [
       "                                         description                  title\n",
       "0  Кокон для сна малыша,пользовались меньше месяц...  Кокоби(кокон для сна)\n",
       "1          Стойка для одежды, под вешалки. С бутика.      Стойка для Одежды\n",
       "2  В хорошем состоянии, домашний кинотеатр с blu ...         Philips bluray\n",
       "3                             Продам кресло от0-25кг             Автокресло\n",
       "4                           Все вопросы по телефону.         ВАЗ 2110, 2003"
      ]
     },
     "execution_count": 97,
     "metadata": {},
     "output_type": "execute_result"
    }
   ],
   "source": [
    "train_data.head()"
   ]
  },
  {
   "cell_type": "markdown",
   "metadata": {},
   "source": [
    "# Препроцессинг"
   ]
  },
  {
   "cell_type": "markdown",
   "metadata": {},
   "source": [
    "## Токенизация"
   ]
  },
  {
   "cell_type": "code",
   "execution_count": 10,
   "metadata": {
    "collapsed": true
   },
   "outputs": [],
   "source": [
    "tknzr = TweetTokenizer()\n",
    "stops = stopwords.words('russian')"
   ]
  },
  {
   "cell_type": "markdown",
   "metadata": {},
   "source": [
    "Удаляем адреса:"
   ]
  },
  {
   "cell_type": "code",
   "execution_count": 11,
   "metadata": {
    "collapsed": true
   },
   "outputs": [],
   "source": [
    "def remove_sites(text):\n",
    "    no_sites_text = re.sub(r'(https?:\\/\\/)?([\\da-z\\.-]+)\\.([a-z\\.]{2,6})([\\/\\w\\.-]*)*\\/?\\S',\n",
    "                           ' ', text, flags=re.MULTILINE)\n",
    "    no_space_sequences_text = re.sub('  +', ' ', no_sites_text)\n",
    "    return no_space_sequences_text"
   ]
  },
  {
   "cell_type": "markdown",
   "metadata": {},
   "source": [
    "Убираем стоп-слова:"
   ]
  },
  {
   "cell_type": "code",
   "execution_count": 12,
   "metadata": {
    "collapsed": true
   },
   "outputs": [],
   "source": [
    "def normalize_stop(text):\n",
    "    text = remove_sites(text)\n",
    "    lemmas = [morph.parse(token)[0].normal_form for token in tknzr.tokenize(text)]\n",
    "    return ' '.join(lemmas)"
   ]
  },
  {
   "cell_type": "code",
   "execution_count": 19,
   "metadata": {
    "collapsed": true
   },
   "outputs": [],
   "source": [
    "train_data['tokenized_title'] = train_data['title'].apply(normalize_stop)\n",
    "train_data['description'] = train_data['description'].fillna(value='')\n",
    "train_data['tokenized_description'] = train_data['description'].apply(normalize_stop)"
   ]
  },
  {
   "cell_type": "code",
   "execution_count": 22,
   "metadata": {},
   "outputs": [
    {
     "data": {
      "text/html": [
       "<div>\n",
       "<style scoped>\n",
       "    .dataframe tbody tr th:only-of-type {\n",
       "        vertical-align: middle;\n",
       "    }\n",
       "\n",
       "    .dataframe tbody tr th {\n",
       "        vertical-align: top;\n",
       "    }\n",
       "\n",
       "    .dataframe thead th {\n",
       "        text-align: right;\n",
       "    }\n",
       "</style>\n",
       "<table border=\"1\" class=\"dataframe\">\n",
       "  <thead>\n",
       "    <tr style=\"text-align: right;\">\n",
       "      <th></th>\n",
       "      <th>description</th>\n",
       "      <th>title</th>\n",
       "      <th>tokenized_title</th>\n",
       "      <th>tokenized_description</th>\n",
       "    </tr>\n",
       "  </thead>\n",
       "  <tbody>\n",
       "    <tr>\n",
       "      <th>0</th>\n",
       "      <td>Кокон для сна малыша,пользовались меньше месяц...</td>\n",
       "      <td>Кокоби(кокон для сна)</td>\n",
       "      <td>кокоби ( кокон для сон )</td>\n",
       "      <td>кокон для сон малыш , пользоваться маленький м...</td>\n",
       "    </tr>\n",
       "    <tr>\n",
       "      <th>1</th>\n",
       "      <td>Стойка для одежды, под вешалки. С бутика.</td>\n",
       "      <td>Стойка для Одежды</td>\n",
       "      <td>стойка для одежда</td>\n",
       "      <td>стойка для одежда , под вешалка . с бутик .</td>\n",
       "    </tr>\n",
       "    <tr>\n",
       "      <th>2</th>\n",
       "      <td>В хорошем состоянии, домашний кинотеатр с blu ...</td>\n",
       "      <td>Philips bluray</td>\n",
       "      <td>philips bluray</td>\n",
       "      <td>в хороший состояние , домашний кинотеатр с blu...</td>\n",
       "    </tr>\n",
       "    <tr>\n",
       "      <th>3</th>\n",
       "      <td>Продам кресло от0-25кг</td>\n",
       "      <td>Автокресло</td>\n",
       "      <td>автокресло</td>\n",
       "      <td>продать кресло от0 - 25кг</td>\n",
       "    </tr>\n",
       "    <tr>\n",
       "      <th>4</th>\n",
       "      <td>Все вопросы по телефону.</td>\n",
       "      <td>ВАЗ 2110, 2003</td>\n",
       "      <td>ваза 2110 , 2003</td>\n",
       "      <td>весь вопрос по телефон .</td>\n",
       "    </tr>\n",
       "  </tbody>\n",
       "</table>\n",
       "</div>"
      ],
      "text/plain": [
       "                                         description                  title  \\\n",
       "0  Кокон для сна малыша,пользовались меньше месяц...  Кокоби(кокон для сна)   \n",
       "1          Стойка для одежды, под вешалки. С бутика.      Стойка для Одежды   \n",
       "2  В хорошем состоянии, домашний кинотеатр с blu ...         Philips bluray   \n",
       "3                             Продам кресло от0-25кг             Автокресло   \n",
       "4                           Все вопросы по телефону.         ВАЗ 2110, 2003   \n",
       "\n",
       "            tokenized_title                              tokenized_description  \n",
       "0  кокоби ( кокон для сон )  кокон для сон малыш , пользоваться маленький м...  \n",
       "1         стойка для одежда        стойка для одежда , под вешалка . с бутик .  \n",
       "2            philips bluray  в хороший состояние , домашний кинотеатр с blu...  \n",
       "3                автокресло                          продать кресло от0 - 25кг  \n",
       "4          ваза 2110 , 2003                           весь вопрос по телефон .  "
      ]
     },
     "execution_count": 22,
     "metadata": {},
     "output_type": "execute_result"
    }
   ],
   "source": [
    "train_data.head()"
   ]
  },
  {
   "cell_type": "markdown",
   "metadata": {},
   "source": [
    "## Стемминг"
   ]
  },
  {
   "cell_type": "code",
   "execution_count": 24,
   "metadata": {
    "collapsed": true
   },
   "outputs": [],
   "source": [
    "from nltk.stem.snowball import SnowballStemmer \n",
    "stemmer = SnowballStemmer('russian')"
   ]
  },
  {
   "cell_type": "code",
   "execution_count": 25,
   "metadata": {
    "collapsed": true
   },
   "outputs": [],
   "source": [
    "def normalize_stem(text):\n",
    "    stems = [stemmer.stem(token) for token in tknzr.tokenize(text)]\n",
    "    return ' '.join(stems)"
   ]
  },
  {
   "cell_type": "code",
   "execution_count": 26,
   "metadata": {
    "collapsed": true
   },
   "outputs": [],
   "source": [
    "train_data['tokenized_stemmed_title'] = train_data['tokenized_title'].apply(normalize_stem)\n",
    "train_data['tokenized_stemmed_description'] = train_data['tokenized_description'].apply(normalize_stem)\n",
    "train_data.to_csv('train_data_normalized.csv', encoding='utf-8')"
   ]
  },
  {
   "cell_type": "markdown",
   "metadata": {},
   "source": [
    "Токенизируем и делаем стемминг на тестовой выборке:"
   ]
  },
  {
   "cell_type": "code",
   "execution_count": 28,
   "metadata": {
    "collapsed": true
   },
   "outputs": [],
   "source": [
    "test_data['tokenized_title'] = test_data['title'].apply(normalize_stop)\n",
    "test_data['description'] = test_data['description'].fillna(value='')\n",
    "test_data['tokenized_description'] = test_data['description'].apply(normalize_stop)\n",
    "test_data['tokenized_stemmed_title'] = test_data['tokenized_title'].apply(normalize_stem)\n",
    "test_data['tokenized_stemmed_description'] = test_data['tokenized_description'].apply(normalize_stem)\n",
    "test_data.to_csv('test_data_normalized.csv', encoding='utf-8')"
   ]
  },
  {
   "cell_type": "markdown",
   "metadata": {
    "collapsed": true
   },
   "source": [
    "## Частеречная разметка c помощью UDPipe (+ типы связи)"
   ]
  },
  {
   "cell_type": "code",
   "execution_count": 2,
   "metadata": {
    "collapsed": true
   },
   "outputs": [],
   "source": [
    "model = Model('russian-ud-2.0-170801.udpipe')"
   ]
  },
  {
   "cell_type": "code",
   "execution_count": 3,
   "metadata": {
    "collapsed": true
   },
   "outputs": [],
   "source": [
    "def get_chains(text):\n",
    "    try:\n",
    "        sentences = model.tokenize(text)\n",
    "        for s in sentences:\n",
    "            model.tag(s)\n",
    "            model.parse(s)\n",
    "        conllu = model.write(sentences, \"conllu\")\n",
    "        rows = conllu.split('\\n')\n",
    "        string_pos = ''\n",
    "        string_rel_type = ''\n",
    "        string_token = ''\n",
    "        for row in rows:\n",
    "            if '#' not in row and row != '':\n",
    "                pos = re.search('\\t.+?\\t.+?\\t(.+?)\\t', row).group(1)\n",
    "                rel_type = re.search('\\t.+?\\t.+?\\t.+?\\t.+?\\t.+?\\t.+?\\t(.+?)\\t', row).group(1)\n",
    "                token = re.search('\\t(.+?)\\t', row).group(1)\n",
    "                string_pos = string_pos + pos + ' '\n",
    "                string_rel_type = string_rel_type + rel_type + ' '\n",
    "                string_token = string_token + token + ' '\n",
    "        return string_token[:-1], string_pos[:-1], string_rel_type[:-1]\n",
    "    except:\n",
    "        return '', '', ''"
   ]
  },
  {
   "cell_type": "markdown",
   "metadata": {},
   "source": [
    "Пример:"
   ]
  },
  {
   "cell_type": "code",
   "execution_count": 4,
   "metadata": {},
   "outputs": [
    {
     "data": {
      "text/plain": [
       "('Ира пришла в вуз . Она ушла в магазин .',\n",
       " 'NOUN VERB ADP NOUN PUNCT PRON VERB ADP NOUN PUNCT',\n",
       " 'nsubj root case obl punct nsubj root case obl punct')"
      ]
     },
     "execution_count": 4,
     "metadata": {},
     "output_type": "execute_result"
    }
   ],
   "source": [
    "get_chains('Ира пришла в вуз. Она ушла в магазин.')"
   ]
  },
  {
   "cell_type": "code",
   "execution_count": 5,
   "metadata": {
    "collapsed": true
   },
   "outputs": [],
   "source": [
    "train_data = pd.read_csv('train_data_normalized.csv')\n",
    "train_data = train_data.drop(['Unnamed: 0'], axis=1)"
   ]
  },
  {
   "cell_type": "code",
   "execution_count": 10,
   "metadata": {},
   "outputs": [
    {
     "data": {
      "text/html": [
       "<div>\n",
       "<style scoped>\n",
       "    .dataframe tbody tr th:only-of-type {\n",
       "        vertical-align: middle;\n",
       "    }\n",
       "\n",
       "    .dataframe tbody tr th {\n",
       "        vertical-align: top;\n",
       "    }\n",
       "\n",
       "    .dataframe thead th {\n",
       "        text-align: right;\n",
       "    }\n",
       "</style>\n",
       "<table border=\"1\" class=\"dataframe\">\n",
       "  <thead>\n",
       "    <tr style=\"text-align: right;\">\n",
       "      <th></th>\n",
       "      <th>description</th>\n",
       "      <th>title</th>\n",
       "      <th>tokenized_title</th>\n",
       "      <th>tokenized_description</th>\n",
       "      <th>tokenized_stemmed_title</th>\n",
       "      <th>tokenized_stemmed_description</th>\n",
       "    </tr>\n",
       "  </thead>\n",
       "  <tbody>\n",
       "    <tr>\n",
       "      <th>0</th>\n",
       "      <td>Кокон для сна малыша,пользовались меньше месяц...</td>\n",
       "      <td>Кокоби(кокон для сна)</td>\n",
       "      <td>кокоби ( кокон для сон )</td>\n",
       "      <td>кокон для сон малыш , пользоваться маленький м...</td>\n",
       "      <td>кокоб ( кокон для сон )</td>\n",
       "      <td>кокон для сон малыш , пользова маленьк месяц ....</td>\n",
       "    </tr>\n",
       "    <tr>\n",
       "      <th>1</th>\n",
       "      <td>Стойка для одежды, под вешалки. С бутика.</td>\n",
       "      <td>Стойка для Одежды</td>\n",
       "      <td>стойка для одежда</td>\n",
       "      <td>стойка для одежда , под вешалка . с бутик .</td>\n",
       "      <td>стойк для одежд</td>\n",
       "      <td>стойк для одежд , под вешалк . с бутик .</td>\n",
       "    </tr>\n",
       "    <tr>\n",
       "      <th>2</th>\n",
       "      <td>В хорошем состоянии, домашний кинотеатр с blu ...</td>\n",
       "      <td>Philips bluray</td>\n",
       "      <td>philips bluray</td>\n",
       "      <td>в хороший состояние , домашний кинотеатр с blu...</td>\n",
       "      <td>philips blura</td>\n",
       "      <td>в хорош состоян , домашн кинотеатр с blu ra , ...</td>\n",
       "    </tr>\n",
       "    <tr>\n",
       "      <th>3</th>\n",
       "      <td>Продам кресло от0-25кг</td>\n",
       "      <td>Автокресло</td>\n",
       "      <td>автокресло</td>\n",
       "      <td>продать кресло от0 - 25кг</td>\n",
       "      <td>автокресл</td>\n",
       "      <td>прода кресл от0 - 25кг</td>\n",
       "    </tr>\n",
       "    <tr>\n",
       "      <th>4</th>\n",
       "      <td>Все вопросы по телефону.</td>\n",
       "      <td>ВАЗ 2110, 2003</td>\n",
       "      <td>ваза 2110 , 2003</td>\n",
       "      <td>весь вопрос по телефон .</td>\n",
       "      <td>ваз 2110 , 2003</td>\n",
       "      <td>ве вопрос по телефон .</td>\n",
       "    </tr>\n",
       "  </tbody>\n",
       "</table>\n",
       "</div>"
      ],
      "text/plain": [
       "                                         description                  title  \\\n",
       "0  Кокон для сна малыша,пользовались меньше месяц...  Кокоби(кокон для сна)   \n",
       "1          Стойка для одежды, под вешалки. С бутика.      Стойка для Одежды   \n",
       "2  В хорошем состоянии, домашний кинотеатр с blu ...         Philips bluray   \n",
       "3                             Продам кресло от0-25кг             Автокресло   \n",
       "4                           Все вопросы по телефону.         ВАЗ 2110, 2003   \n",
       "\n",
       "            tokenized_title  \\\n",
       "0  кокоби ( кокон для сон )   \n",
       "1         стойка для одежда   \n",
       "2            philips bluray   \n",
       "3                автокресло   \n",
       "4          ваза 2110 , 2003   \n",
       "\n",
       "                               tokenized_description  tokenized_stemmed_title  \\\n",
       "0  кокон для сон малыш , пользоваться маленький м...  кокоб ( кокон для сон )   \n",
       "1        стойка для одежда , под вешалка . с бутик .          стойк для одежд   \n",
       "2  в хороший состояние , домашний кинотеатр с blu...            philips blura   \n",
       "3                          продать кресло от0 - 25кг                автокресл   \n",
       "4                           весь вопрос по телефон .          ваз 2110 , 2003   \n",
       "\n",
       "                       tokenized_stemmed_description  \n",
       "0  кокон для сон малыш , пользова маленьк месяц ....  \n",
       "1           стойк для одежд , под вешалк . с бутик .  \n",
       "2  в хорош состоян , домашн кинотеатр с blu ra , ...  \n",
       "3                             прода кресл от0 - 25кг  \n",
       "4                             ве вопрос по телефон .  "
      ]
     },
     "execution_count": 10,
     "metadata": {},
     "output_type": "execute_result"
    }
   ],
   "source": [
    "train_data.head()"
   ]
  },
  {
   "cell_type": "code",
   "execution_count": 49,
   "metadata": {
    "collapsed": true
   },
   "outputs": [],
   "source": [
    "res_train = pd.DataFrame(data={'tokens': [], 'pos': [], 'type': []})"
   ]
  },
  {
   "cell_type": "markdown",
   "metadata": {},
   "source": [
    "Делим выборку на части для отслеживания работы функции:"
   ]
  },
  {
   "cell_type": "code",
   "execution_count": 51,
   "metadata": {
    "collapsed": true
   },
   "outputs": [],
   "source": [
    "l = []\n",
    "k = 0\n",
    "for i in range(0, 1503424, 500):\n",
    "    l.append((k, i))\n",
    "    k = i\n",
    "l = l[1:]\n",
    "l.append((1503000, 1503424))"
   ]
  },
  {
   "cell_type": "code",
   "execution_count": 98,
   "metadata": {},
   "outputs": [],
   "source": [
    "for every in l:\n",
    "    tok_pos_type_train = train_data[every[0]:every[1]].description.apply(lambda s: pd.Series(get_chains(s)))\n",
    "    tok_pos_type_train.columns = ['tokens', 'pos', 'type']\n",
    "    res_train = pd.concat([res_train, tok_pos_type_train])\n",
    "    #print('Конец обработки на', every)"
   ]
  },
  {
   "cell_type": "code",
   "execution_count": 56,
   "metadata": {
    "collapsed": true
   },
   "outputs": [],
   "source": [
    "res_train.to_csv('tok_pos_type_train.csv', encoding='utf-8')"
   ]
  },
  {
   "cell_type": "markdown",
   "metadata": {},
   "source": [
    "То же самое делаем на трейне:"
   ]
  },
  {
   "cell_type": "code",
   "execution_count": 66,
   "metadata": {
    "collapsed": true
   },
   "outputs": [],
   "source": [
    "l = []\n",
    "k = 0\n",
    "for i in range(0, 508438, 500):\n",
    "    l.append((k, i))\n",
    "    k = i\n",
    "l = l[1:]\n",
    "l.append((508000, 508438))"
   ]
  },
  {
   "cell_type": "code",
   "execution_count": 69,
   "metadata": {
    "collapsed": true
   },
   "outputs": [],
   "source": [
    "test_data = pd.read_csv('test_data_normalized.csv')"
   ]
  },
  {
   "cell_type": "code",
   "execution_count": 71,
   "metadata": {
    "collapsed": true
   },
   "outputs": [],
   "source": [
    "res_test = pd.DataFrame(data={'tokens': [], 'pos': [], 'type': []})"
   ]
  },
  {
   "cell_type": "code",
   "execution_count": 99,
   "metadata": {},
   "outputs": [],
   "source": [
    "for every in l:\n",
    "    tok_pos_type_test = test_data[every[0]:every[1]].description.apply(lambda s: pd.Series(get_chains(s)))\n",
    "    tok_pos_type_test.columns = ['tokens', 'pos', 'type']\n",
    "    res_test = pd.concat([res_test, tok_pos_type_test])\n",
    "    #print('Конец обработки на', every)"
   ]
  },
  {
   "cell_type": "code",
   "execution_count": 73,
   "metadata": {
    "collapsed": true
   },
   "outputs": [],
   "source": [
    "res_test.to_csv('tok_pos_type_test.csv', encoding='utf-8')"
   ]
  },
  {
   "cell_type": "markdown",
   "metadata": {
    "collapsed": true
   },
   "source": [
    "## Количество токенов"
   ]
  },
  {
   "cell_type": "code",
   "execution_count": 76,
   "metadata": {},
   "outputs": [],
   "source": [
    "train_data = pd.read_csv('/Users/irene/Downloads/project/train_data_normalized.csv')"
   ]
  },
  {
   "cell_type": "code",
   "execution_count": 77,
   "metadata": {},
   "outputs": [
    {
     "data": {
      "text/html": [
       "<div>\n",
       "<style scoped>\n",
       "    .dataframe tbody tr th:only-of-type {\n",
       "        vertical-align: middle;\n",
       "    }\n",
       "\n",
       "    .dataframe tbody tr th {\n",
       "        vertical-align: top;\n",
       "    }\n",
       "\n",
       "    .dataframe thead th {\n",
       "        text-align: right;\n",
       "    }\n",
       "</style>\n",
       "<table border=\"1\" class=\"dataframe\">\n",
       "  <thead>\n",
       "    <tr style=\"text-align: right;\">\n",
       "      <th></th>\n",
       "      <th>Unnamed: 0</th>\n",
       "      <th>description</th>\n",
       "      <th>title</th>\n",
       "      <th>tokenized_title</th>\n",
       "      <th>tokenized_description</th>\n",
       "      <th>tokenized_stemmed_title</th>\n",
       "      <th>tokenized_stemmed_description</th>\n",
       "    </tr>\n",
       "  </thead>\n",
       "  <tbody>\n",
       "    <tr>\n",
       "      <th>0</th>\n",
       "      <td>0</td>\n",
       "      <td>Кокон для сна малыша,пользовались меньше месяц...</td>\n",
       "      <td>Кокоби(кокон для сна)</td>\n",
       "      <td>кокоби ( кокон для сон )</td>\n",
       "      <td>кокон для сон малыш , пользоваться маленький м...</td>\n",
       "      <td>кокоб ( кокон для сон )</td>\n",
       "      <td>кокон для сон малыш , пользова маленьк месяц ....</td>\n",
       "    </tr>\n",
       "    <tr>\n",
       "      <th>1</th>\n",
       "      <td>1</td>\n",
       "      <td>Стойка для одежды, под вешалки. С бутика.</td>\n",
       "      <td>Стойка для Одежды</td>\n",
       "      <td>стойка для одежда</td>\n",
       "      <td>стойка для одежда , под вешалка . с бутик .</td>\n",
       "      <td>стойк для одежд</td>\n",
       "      <td>стойк для одежд , под вешалк . с бутик .</td>\n",
       "    </tr>\n",
       "    <tr>\n",
       "      <th>2</th>\n",
       "      <td>2</td>\n",
       "      <td>В хорошем состоянии, домашний кинотеатр с blu ...</td>\n",
       "      <td>Philips bluray</td>\n",
       "      <td>philips bluray</td>\n",
       "      <td>в хороший состояние , домашний кинотеатр с blu...</td>\n",
       "      <td>philips blura</td>\n",
       "      <td>в хорош состоян , домашн кинотеатр с blu ra , ...</td>\n",
       "    </tr>\n",
       "    <tr>\n",
       "      <th>3</th>\n",
       "      <td>3</td>\n",
       "      <td>Продам кресло от0-25кг</td>\n",
       "      <td>Автокресло</td>\n",
       "      <td>автокресло</td>\n",
       "      <td>продать кресло от0 - 25кг</td>\n",
       "      <td>автокресл</td>\n",
       "      <td>прода кресл от0 - 25кг</td>\n",
       "    </tr>\n",
       "    <tr>\n",
       "      <th>4</th>\n",
       "      <td>4</td>\n",
       "      <td>Все вопросы по телефону.</td>\n",
       "      <td>ВАЗ 2110, 2003</td>\n",
       "      <td>ваза 2110 , 2003</td>\n",
       "      <td>весь вопрос по телефон .</td>\n",
       "      <td>ваз 2110 , 2003</td>\n",
       "      <td>ве вопрос по телефон .</td>\n",
       "    </tr>\n",
       "  </tbody>\n",
       "</table>\n",
       "</div>"
      ],
      "text/plain": [
       "   Unnamed: 0                                        description  \\\n",
       "0           0  Кокон для сна малыша,пользовались меньше месяц...   \n",
       "1           1          Стойка для одежды, под вешалки. С бутика.   \n",
       "2           2  В хорошем состоянии, домашний кинотеатр с blu ...   \n",
       "3           3                             Продам кресло от0-25кг   \n",
       "4           4                           Все вопросы по телефону.   \n",
       "\n",
       "                   title           tokenized_title  \\\n",
       "0  Кокоби(кокон для сна)  кокоби ( кокон для сон )   \n",
       "1      Стойка для Одежды         стойка для одежда   \n",
       "2         Philips bluray            philips bluray   \n",
       "3             Автокресло                автокресло   \n",
       "4         ВАЗ 2110, 2003          ваза 2110 , 2003   \n",
       "\n",
       "                               tokenized_description  tokenized_stemmed_title  \\\n",
       "0  кокон для сон малыш , пользоваться маленький м...  кокоб ( кокон для сон )   \n",
       "1        стойка для одежда , под вешалка . с бутик .          стойк для одежд   \n",
       "2  в хороший состояние , домашний кинотеатр с blu...            philips blura   \n",
       "3                          продать кресло от0 - 25кг                автокресл   \n",
       "4                           весь вопрос по телефон .          ваз 2110 , 2003   \n",
       "\n",
       "                       tokenized_stemmed_description  \n",
       "0  кокон для сон малыш , пользова маленьк месяц ....  \n",
       "1           стойк для одежд , под вешалк . с бутик .  \n",
       "2  в хорош состоян , домашн кинотеатр с blu ra , ...  \n",
       "3                             прода кресл от0 - 25кг  \n",
       "4                             ве вопрос по телефон .  "
      ]
     },
     "execution_count": 77,
     "metadata": {},
     "output_type": "execute_result"
    }
   ],
   "source": [
    "train_data.head()"
   ]
  },
  {
   "cell_type": "code",
   "execution_count": 84,
   "metadata": {
    "collapsed": true
   },
   "outputs": [],
   "source": [
    "def length_in_tokens(text):\n",
    "    text = str(text)\n",
    "    num = text.split()\n",
    "    return len(num)"
   ]
  },
  {
   "cell_type": "markdown",
   "metadata": {},
   "source": [
    "Пример:"
   ]
  },
  {
   "cell_type": "code",
   "execution_count": 85,
   "metadata": {},
   "outputs": [
    {
     "data": {
      "text/plain": [
       "6"
      ]
     },
     "execution_count": 85,
     "metadata": {},
     "output_type": "execute_result"
    }
   ],
   "source": [
    "length_in_tokens('кокоби ( кокон для сон )')"
   ]
  },
  {
   "cell_type": "code",
   "execution_count": 86,
   "metadata": {},
   "outputs": [],
   "source": [
    "train_data['length_of_title_in_tokens'] = train_data['tokenized_title'].apply(length_in_tokens)\n",
    "train_data['length_of_description_in_tokens'] = train_data['tokenized_description'].apply(length_in_tokens)"
   ]
  },
  {
   "cell_type": "code",
   "execution_count": 88,
   "metadata": {},
   "outputs": [],
   "source": [
    "train_data = train_data.drop(['Unnamed: 0'], axis=1)"
   ]
  },
  {
   "cell_type": "code",
   "execution_count": 89,
   "metadata": {},
   "outputs": [
    {
     "data": {
      "text/html": [
       "<div>\n",
       "<style scoped>\n",
       "    .dataframe tbody tr th:only-of-type {\n",
       "        vertical-align: middle;\n",
       "    }\n",
       "\n",
       "    .dataframe tbody tr th {\n",
       "        vertical-align: top;\n",
       "    }\n",
       "\n",
       "    .dataframe thead th {\n",
       "        text-align: right;\n",
       "    }\n",
       "</style>\n",
       "<table border=\"1\" class=\"dataframe\">\n",
       "  <thead>\n",
       "    <tr style=\"text-align: right;\">\n",
       "      <th></th>\n",
       "      <th>description</th>\n",
       "      <th>title</th>\n",
       "      <th>tokenized_title</th>\n",
       "      <th>tokenized_description</th>\n",
       "      <th>tokenized_stemmed_title</th>\n",
       "      <th>tokenized_stemmed_description</th>\n",
       "      <th>length_of_title_in_tokens</th>\n",
       "      <th>length_of_description_in_tokens</th>\n",
       "    </tr>\n",
       "  </thead>\n",
       "  <tbody>\n",
       "    <tr>\n",
       "      <th>0</th>\n",
       "      <td>Кокон для сна малыша,пользовались меньше месяц...</td>\n",
       "      <td>Кокоби(кокон для сна)</td>\n",
       "      <td>кокоби ( кокон для сон )</td>\n",
       "      <td>кокон для сон малыш , пользоваться маленький м...</td>\n",
       "      <td>кокоб ( кокон для сон )</td>\n",
       "      <td>кокон для сон малыш , пользова маленьк месяц ....</td>\n",
       "      <td>6</td>\n",
       "      <td>11</td>\n",
       "    </tr>\n",
       "    <tr>\n",
       "      <th>1</th>\n",
       "      <td>Стойка для одежды, под вешалки. С бутика.</td>\n",
       "      <td>Стойка для Одежды</td>\n",
       "      <td>стойка для одежда</td>\n",
       "      <td>стойка для одежда , под вешалка . с бутик .</td>\n",
       "      <td>стойк для одежд</td>\n",
       "      <td>стойк для одежд , под вешалк . с бутик .</td>\n",
       "      <td>3</td>\n",
       "      <td>10</td>\n",
       "    </tr>\n",
       "    <tr>\n",
       "      <th>2</th>\n",
       "      <td>В хорошем состоянии, домашний кинотеатр с blu ...</td>\n",
       "      <td>Philips bluray</td>\n",
       "      <td>philips bluray</td>\n",
       "      <td>в хороший состояние , домашний кинотеатр с blu...</td>\n",
       "      <td>philips blura</td>\n",
       "      <td>в хорош состоян , домашн кинотеатр с blu ra , ...</td>\n",
       "      <td>2</td>\n",
       "      <td>21</td>\n",
       "    </tr>\n",
       "    <tr>\n",
       "      <th>3</th>\n",
       "      <td>Продам кресло от0-25кг</td>\n",
       "      <td>Автокресло</td>\n",
       "      <td>автокресло</td>\n",
       "      <td>продать кресло от0 - 25кг</td>\n",
       "      <td>автокресл</td>\n",
       "      <td>прода кресл от0 - 25кг</td>\n",
       "      <td>1</td>\n",
       "      <td>5</td>\n",
       "    </tr>\n",
       "    <tr>\n",
       "      <th>4</th>\n",
       "      <td>Все вопросы по телефону.</td>\n",
       "      <td>ВАЗ 2110, 2003</td>\n",
       "      <td>ваза 2110 , 2003</td>\n",
       "      <td>весь вопрос по телефон .</td>\n",
       "      <td>ваз 2110 , 2003</td>\n",
       "      <td>ве вопрос по телефон .</td>\n",
       "      <td>4</td>\n",
       "      <td>5</td>\n",
       "    </tr>\n",
       "  </tbody>\n",
       "</table>\n",
       "</div>"
      ],
      "text/plain": [
       "                                         description                  title  \\\n",
       "0  Кокон для сна малыша,пользовались меньше месяц...  Кокоби(кокон для сна)   \n",
       "1          Стойка для одежды, под вешалки. С бутика.      Стойка для Одежды   \n",
       "2  В хорошем состоянии, домашний кинотеатр с blu ...         Philips bluray   \n",
       "3                             Продам кресло от0-25кг             Автокресло   \n",
       "4                           Все вопросы по телефону.         ВАЗ 2110, 2003   \n",
       "\n",
       "            tokenized_title  \\\n",
       "0  кокоби ( кокон для сон )   \n",
       "1         стойка для одежда   \n",
       "2            philips bluray   \n",
       "3                автокресло   \n",
       "4          ваза 2110 , 2003   \n",
       "\n",
       "                               tokenized_description  tokenized_stemmed_title  \\\n",
       "0  кокон для сон малыш , пользоваться маленький м...  кокоб ( кокон для сон )   \n",
       "1        стойка для одежда , под вешалка . с бутик .          стойк для одежд   \n",
       "2  в хороший состояние , домашний кинотеатр с blu...            philips blura   \n",
       "3                          продать кресло от0 - 25кг                автокресл   \n",
       "4                           весь вопрос по телефон .          ваз 2110 , 2003   \n",
       "\n",
       "                       tokenized_stemmed_description  \\\n",
       "0  кокон для сон малыш , пользова маленьк месяц ....   \n",
       "1           стойк для одежд , под вешалк . с бутик .   \n",
       "2  в хорош состоян , домашн кинотеатр с blu ra , ...   \n",
       "3                             прода кресл от0 - 25кг   \n",
       "4                             ве вопрос по телефон .   \n",
       "\n",
       "   length_of_title_in_tokens  length_of_description_in_tokens  \n",
       "0                          6                               11  \n",
       "1                          3                               10  \n",
       "2                          2                               21  \n",
       "3                          1                                5  \n",
       "4                          4                                5  "
      ]
     },
     "execution_count": 89,
     "metadata": {},
     "output_type": "execute_result"
    }
   ],
   "source": [
    "train_data.head()"
   ]
  },
  {
   "cell_type": "code",
   "execution_count": 90,
   "metadata": {
    "collapsed": true
   },
   "outputs": [],
   "source": [
    "test_data = pd.read_csv('/Users/irene/Downloads/project/test_data_normalized.csv')\n",
    "test_data['length_of_title_in_tokens'] = test_data['tokenized_title'].apply(length_in_tokens)\n",
    "test_data['length_of_description_in_tokens'] = test_data['tokenized_description'].apply(length_in_tokens)\n",
    "test_data = test_data.drop(['Unnamed: 0'], axis=1)"
   ]
  },
  {
   "cell_type": "code",
   "execution_count": 91,
   "metadata": {
    "collapsed": true
   },
   "outputs": [],
   "source": [
    "train_data.to_csv('train_data_normalized_length.csv', encoding='utf-8')\n",
    "test_data.to_csv('test_data_normalized_length.csv', encoding='utf-8')"
   ]
  }
 ],
 "metadata": {
  "kernelspec": {
   "display_name": "Python 3",
   "language": "python",
   "name": "python3"
  },
  "language_info": {
   "codemirror_mode": {
    "name": "ipython",
    "version": 3
   },
   "file_extension": ".py",
   "mimetype": "text/x-python",
   "name": "python",
   "nbconvert_exporter": "python",
   "pygments_lexer": "ipython3",
   "version": "3.6.3"
  }
 },
 "nbformat": 4,
 "nbformat_minor": 2
}
