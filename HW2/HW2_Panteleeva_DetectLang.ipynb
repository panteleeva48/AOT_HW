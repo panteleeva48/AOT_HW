{
 "cells": [
  {
   "cell_type": "code",
   "execution_count": 64,
   "metadata": {
    "collapsed": true
   },
   "outputs": [],
   "source": [
    "import wikipedia\n",
    "import codecs\n",
    "import collections\n",
    "import sys\n",
    "import string\n",
    "import re\n",
    "import seaborn as sns\n",
    "import matplotlib.pyplot as plt\n",
    "%matplotlib inline"
   ]
  },
  {
   "cell_type": "markdown",
   "metadata": {},
   "source": [
    "#### Скачивание статей из Википедии"
   ]
  },
  {
   "cell_type": "code",
   "execution_count": 65,
   "metadata": {
    "collapsed": true
   },
   "outputs": [],
   "source": [
    "def get_texts_for_lang(lang, n=10): # функция для скачивания статей из википедии\n",
    "    wikipedia.set_lang(lang)\n",
    "    wiki_content = []\n",
    "    pages = wikipedia.random(n)\n",
    "    for page_name in pages:\n",
    "        try:\n",
    "            page = wikipedia.page(page_name)\n",
    "        except wikipedia.exceptions.WikipediaException:\n",
    "            print('Skipping page {}'.format(page_name))\n",
    "            continue\n",
    "\n",
    "        wiki_content.append('{}\\n{}'.format(page.title, page.content.replace('==', '')))\n",
    "\n",
    "    return wiki_content"
   ]
  },
  {
   "cell_type": "markdown",
   "metadata": {},
   "source": [
    "## Языки"
   ]
  },
  {
   "cell_type": "code",
   "execution_count": 66,
   "metadata": {
    "collapsed": true
   },
   "outputs": [],
   "source": [
    "code2lang = wikipedia.languages()"
   ]
  },
  {
   "cell_type": "markdown",
   "metadata": {},
   "source": [
    "#### Будем работать со следующими языками"
   ]
  },
  {
   "cell_type": "code",
   "execution_count": 67,
   "metadata": {
    "collapsed": true
   },
   "outputs": [],
   "source": [
    "langs = ['be', 'bg', 'ru', 'uk', 'fr', 'en', 'de', 'es']"
   ]
  },
  {
   "cell_type": "code",
   "execution_count": 68,
   "metadata": {},
   "outputs": [
    {
     "name": "stdout",
     "output_type": "stream",
     "text": [
      "беларуская ( be )\n",
      "български ( bg )\n",
      "русский ( ru )\n",
      "українська ( uk )\n",
      "français ( fr )\n",
      "English ( en )\n",
      "Deutsch ( de )\n",
      "español ( es )\n"
     ]
    }
   ],
   "source": [
    "k = 0\n",
    "for every_lang in langs:\n",
    "    print([code2lang[lang] for lang  in langs][k], '(', every_lang, ')')\n",
    "    k += 1"
   ]
  },
  {
   "cell_type": "markdown",
   "metadata": {},
   "source": [
    "#### Создание корпусов"
   ]
  },
  {
   "cell_type": "code",
   "execution_count": 69,
   "metadata": {},
   "outputs": [
    {
     "name": "stderr",
     "output_type": "stream",
     "text": [
      "/anaconda3/lib/python3.6/site-packages/bs4/__init__.py:181: UserWarning: No parser was explicitly specified, so I'm using the best available HTML parser for this system (\"lxml\"). This usually isn't a problem, but if you run this code on another system, or in a different virtual environment, it may use a different parser and behave differently.\n",
      "\n",
      "The code that caused this warning is on line 193 of the file /anaconda3/lib/python3.6/runpy.py. To get rid of this warning, change code that looks like this:\n",
      "\n",
      " BeautifulSoup(YOUR_MARKUP})\n",
      "\n",
      "to this:\n",
      "\n",
      " BeautifulSoup(YOUR_MARKUP, \"lxml\")\n",
      "\n",
      "  markup_type=markup_type))\n"
     ]
    },
    {
     "name": "stdout",
     "output_type": "stream",
     "text": [
      "Skipping page Барышаўка\n",
      "Skipping page Астрэй\n",
      "Skipping page Азгур\n",
      "Skipping page Фландрыя\n",
      "Skipping page Вялікая вайна\n",
      "Skipping page Камода\n",
      "Skipping page Новыя Лукі\n",
      "be 93\n",
      "Skipping page Челопек (пояснение)\n",
      "Skipping page Кордоба (пояснение)\n",
      "Skipping page Поп (пояснение)\n",
      "bg 97\n",
      "Skipping page Стефанос\n",
      "Skipping page Киевец\n",
      "Skipping page Карлссон, Никлас\n",
      "Skipping page Коррез (значения)\n",
      "Skipping page Берёзка\n",
      "Skipping page Джоус, Джеймс\n",
      "ru 94\n",
      "Skipping page Ота\n",
      "Skipping page 1837 (значення)\n",
      "uk 98\n",
      "Skipping page Saison 1974-1975 de la LNH\n",
      "Skipping page Beccaria\n",
      "Skipping page Baland\n",
      "Skipping page Le Sport\n",
      "Skipping page Double Vision (album de Foreigner)\n",
      "Skipping page Duboys\n",
      "Skipping page Inch'Allah (homonymie)\n",
      "fr 93\n",
      "Skipping page Jalikan\n",
      "Skipping page The Double Man\n",
      "Skipping page Australian tigers\n",
      "Skipping page Victor Rydberg\n",
      "Skipping page First United Presbyterian Church\n",
      "Skipping page Zomba\n",
      "Skipping page Baena (disambiguation)\n",
      "en 93\n",
      "Skipping page Oskar Graf (Politiker)\n",
      "Skipping page Critical Care\n",
      "Skipping page Filly\n",
      "Skipping page Dieter Schönbach\n",
      "Skipping page JKU\n",
      "Skipping page Bazel\n",
      "Skipping page Ungarische Revolution\n",
      "Skipping page Herkommer\n",
      "Skipping page Deštná (Begriffsklärung)\n",
      "Skipping page Neuseeländische Cricket-Nationalmannschaft in Simbabwe in der Saison 2016\n",
      "Skipping page Lennart Nilsson\n",
      "Skipping page Bildformat\n",
      "de 88\n",
      "Skipping page Municipio de Norwood\n",
      "Skipping page Andes (Nueva York)\n",
      "es 98\n"
     ]
    }
   ],
   "source": [
    "wiki_texts = {}\n",
    "for lang in langs:\n",
    "    wiki_texts[lang] = get_texts_for_lang(lang, 100)\n",
    "    print(lang, len(wiki_texts[lang]))"
   ]
  },
  {
   "cell_type": "markdown",
   "metadata": {},
   "source": [
    "## Первый метод: частотные слова"
   ]
  },
  {
   "cell_type": "markdown",
   "metadata": {},
   "source": [
    "#### Чистим текст от тегов"
   ]
  },
  {
   "cell_type": "code",
   "execution_count": 70,
   "metadata": {
    "collapsed": true
   },
   "outputs": [],
   "source": [
    "def remove_tags(text):\n",
    "    no_tags_text = re.sub(r'<[^>]+>', ' ', text)\n",
    "    no_space_sequences_text = re.sub('  +', ' ', no_tags_text)\n",
    "    return no_space_sequences_text"
   ]
  },
  {
   "cell_type": "markdown",
   "metadata": {},
   "source": [
    "#### Токенизация"
   ]
  },
  {
   "cell_type": "code",
   "execution_count": 71,
   "metadata": {
    "collapsed": true
   },
   "outputs": [],
   "source": [
    "# удаляем знаки препинания\n",
    "def tokenize(text):\n",
    "    punct_extended = string.punctuation + '«»—…“”'\n",
    "    table = str.maketrans({ch: None for ch in punct_extended})\n",
    "    return [word.translate(table) for word in text.split()]"
   ]
  },
  {
   "cell_type": "markdown",
   "metadata": {},
   "source": [
    "#### Список частотных слов"
   ]
  },
  {
   "cell_type": "code",
   "execution_count": 72,
   "metadata": {
    "collapsed": true
   },
   "outputs": [],
   "source": [
    "def frequent_list(langs, wiki_texts):\n",
    "    lang_freqs = {}\n",
    "    for lang in wiki_texts:\n",
    "        corpus = wiki_texts[lang]\n",
    "        lang_freqs[lang] = collections.defaultdict(lambda: 0)\n",
    "        for article in corpus:\n",
    "            for word in tokenize(remove_tags(article.replace('\\n', '').lower())):\n",
    "                lang_freqs[lang][word] += 1\n",
    "    return lang_freqs"
   ]
  },
  {
   "cell_type": "markdown",
   "metadata": {},
   "source": [
    "#### Фильтрация повторяющихся токенов"
   ]
  },
  {
   "cell_type": "code",
   "execution_count": 73,
   "metadata": {
    "collapsed": true
   },
   "outputs": [],
   "source": [
    "def filter_tokens(d):\n",
    "    result = {}\n",
    "    toks = []\n",
    "    for key, value in d.items():\n",
    "        result[key] = {}\n",
    "        toks = toks + list(value.keys())\n",
    "    duplicates  = [item for item, count in collections.Counter(toks).items() if count > 1]\n",
    "    for key2, value2 in d.items():\n",
    "        for key3, value3 in value2.items():\n",
    "            if key3 not in duplicates:\n",
    "                result[key2].update({key3 : value3})\n",
    "    return(result)"
   ]
  },
  {
   "cell_type": "markdown",
   "metadata": {},
   "source": [
    "#### Список  самых частотных слов"
   ]
  },
  {
   "cell_type": "code",
   "execution_count": 74,
   "metadata": {
    "collapsed": true
   },
   "outputs": [],
   "source": [
    "def most_frequent(d, keys, num):\n",
    "    most_freqs = {}\n",
    "    for k in keys:\n",
    "        most_freqs[k] = set(sorted(d[k], key=lambda w: d[k][w], reverse=True)[:num])\n",
    "    return most_freqs"
   ]
  },
  {
   "cell_type": "code",
   "execution_count": 75,
   "metadata": {
    "collapsed": true
   },
   "outputs": [],
   "source": [
    "def main_freq(langs, wiki_texts):\n",
    "    # составляем частотный список\n",
    "    lang_freqs = frequent_list(langs, wiki_texts)\n",
    "    # фильтруем токены\n",
    "    lang_freqs_filtered = filter_tokens(lang_freqs)\n",
    "    # достаём самые частотные\n",
    "    most_freq = most_frequent(lang_freqs_filtered, langs, 300)\n",
    "    return most_freq"
   ]
  },
  {
   "cell_type": "markdown",
   "metadata": {},
   "source": [
    "#### Определение языка корпусным методом"
   ]
  },
  {
   "cell_type": "code",
   "execution_count": 76,
   "metadata": {
    "collapsed": true
   },
   "outputs": [],
   "source": [
    "def corpus_method(text, most_freq):\n",
    "    result = {}\n",
    "    for lang in most_freq:\n",
    "        result[lang] = len([word for word in tokenize(remove_tags(text.replace('\\n', '').lower())) if word in most_freq[lang]])\n",
    "    return sorted(result, key=lambda w: result[w], reverse=True)[0]"
   ]
  },
  {
   "cell_type": "markdown",
   "metadata": {},
   "source": [
    "# Второй метод: частотные символьные n-граммы"
   ]
  },
  {
   "cell_type": "markdown",
   "metadata": {},
   "source": [
    "#### Преобразование строки в массив n-грамм заданной длины"
   ]
  },
  {
   "cell_type": "code",
   "execution_count": 77,
   "metadata": {
    "collapsed": true
   },
   "outputs": [],
   "source": [
    "from itertools import islice, tee\n",
    "\n",
    "def make_ngrams(text):\n",
    "    N = 3 # задаем длину n-граммы\n",
    "    ngrams = zip(*(islice(seq, index, None) for index, seq in enumerate(tee(text, N))))\n",
    "    ngrams = [''.join(x) for x in ngrams]\n",
    "    return ngrams"
   ]
  },
  {
   "cell_type": "markdown",
   "metadata": {},
   "source": [
    "#### Список частотных ngram"
   ]
  },
  {
   "cell_type": "code",
   "execution_count": 78,
   "metadata": {
    "collapsed": true
   },
   "outputs": [],
   "source": [
    "def frequent_ngram_list(langs, wiki_texts):\n",
    "    lang_freqs = {}\n",
    "    for lang in wiki_texts:\n",
    "        corpus = wiki_texts[lang]\n",
    "        lang_freqs[lang] = collections.defaultdict(lambda: 0)\n",
    "        for article in corpus:\n",
    "            for ngram in make_ngrams(remove_tags(article.replace('\\n', '').lower())):\n",
    "                lang_freqs[lang][ngram] += 1\n",
    "    return lang_freqs"
   ]
  },
  {
   "cell_type": "code",
   "execution_count": 79,
   "metadata": {
    "collapsed": true
   },
   "outputs": [],
   "source": [
    "def main_freq_ngram(langs, wiki_texts):\n",
    "    # составляем частотный список\n",
    "    lang_freqs = frequent_ngram_list(langs, wiki_texts)\n",
    "    # фильтруем ngramы\n",
    "    lang_freqs_filtered = filter_tokens(lang_freqs)\n",
    "    # достаём самые частотные ngramы\n",
    "    most_freq = most_frequent(lang_freqs_filtered, langs, 300)\n",
    "    return most_freq"
   ]
  },
  {
   "cell_type": "markdown",
   "metadata": {},
   "source": [
    "#### Определение языка n-граммным методом"
   ]
  },
  {
   "cell_type": "code",
   "execution_count": 80,
   "metadata": {
    "collapsed": true
   },
   "outputs": [],
   "source": [
    "def ngram_method(text, most_freq):\n",
    "    result = {}\n",
    "    for lang in most_freq:\n",
    "        result[lang] = len([ngram for ngram in make_ngrams(remove_tags(text.replace('\\n', '').lower())) if ngram in most_freq[lang]])\n",
    "    return sorted(result, key=lambda w: result[w], reverse=True)[0]"
   ]
  },
  {
   "cell_type": "markdown",
   "metadata": {},
   "source": [
    "#### Определяем язык двумя методами"
   ]
  },
  {
   "cell_type": "code",
   "execution_count": 83,
   "metadata": {
    "collapsed": true
   },
   "outputs": [],
   "source": [
    "def predict_lang(filename, most_freq, most_freq_n):\n",
    "    text = open(filename,'r',encoding='utf-8').read()\n",
    "    print('Корпусный метод: ', corpus_method(text, most_freq))\n",
    "    print('n-граммный метод: ', ngram_method(text, most_freq_n))"
   ]
  },
  {
   "cell_type": "code",
   "execution_count": 84,
   "metadata": {},
   "outputs": [],
   "source": [
    "most_freq = main_freq(langs, wiki_texts)\n",
    "most_freq_n = main_freq_ngram(langs, wiki_texts)"
   ]
  },
  {
   "cell_type": "code",
   "execution_count": 85,
   "metadata": {},
   "outputs": [
    {
     "name": "stdout",
     "output_type": "stream",
     "text": [
      "Язык текста:  be\n",
      "Корпусный метод:  be\n",
      "n-граммный метод:  be\n",
      "Язык текста:  bg\n",
      "Корпусный метод:  bg\n",
      "n-граммный метод:  bg\n",
      "Язык текста:  ru\n",
      "Корпусный метод:  ru\n",
      "n-граммный метод:  ru\n",
      "Язык текста:  uk\n",
      "Корпусный метод:  uk\n",
      "n-граммный метод:  uk\n",
      "Язык текста:  fr\n",
      "Корпусный метод:  fr\n",
      "n-граммный метод:  fr\n",
      "Язык текста:  en\n",
      "Корпусный метод:  en\n",
      "n-граммный метод:  en\n",
      "Язык текста:  de\n",
      "Корпусный метод:  de\n",
      "n-граммный метод:  de\n",
      "Язык текста:  es\n",
      "Корпусный метод:  es\n",
      "n-граммный метод:  es\n"
     ]
    }
   ],
   "source": [
    "for lang in langs:\n",
    "    print('Язык текста: ', lang)\n",
    "    predict_lang('/Users/irene/Downloads/HW2/' + lang + '.txt', most_freq, most_freq_n)"
   ]
  },
  {
   "cell_type": "markdown",
   "metadata": {},
   "source": [
    "Везде определяется правильно."
   ]
  },
  {
   "cell_type": "markdown",
   "metadata": {},
   "source": [
    "# Отчет"
   ]
  },
  {
   "cell_type": "code",
   "execution_count": 86,
   "metadata": {},
   "outputs": [
    {
     "name": "stderr",
     "output_type": "stream",
     "text": [
      "/anaconda3/lib/python3.6/site-packages/bs4/__init__.py:181: UserWarning: No parser was explicitly specified, so I'm using the best available HTML parser for this system (\"lxml\"). This usually isn't a problem, but if you run this code on another system, or in a different virtual environment, it may use a different parser and behave differently.\n",
      "\n",
      "The code that caused this warning is on line 193 of the file /anaconda3/lib/python3.6/runpy.py. To get rid of this warning, change code that looks like this:\n",
      "\n",
      " BeautifulSoup(YOUR_MARKUP})\n",
      "\n",
      "to this:\n",
      "\n",
      " BeautifulSoup(YOUR_MARKUP, \"lxml\")\n",
      "\n",
      "  markup_type=markup_type))\n"
     ]
    },
    {
     "name": "stdout",
     "output_type": "stream",
     "text": [
      "Skipping page Саковіч\n",
      "Skipping page Рублева\n",
      "Skipping page Скачок\n",
      "Skipping page Пякарскі\n",
      "be 96\n",
      "Skipping page Сара (пояснение)\n",
      "Skipping page Цветан Минков\n",
      "Skipping page Бачев\n",
      "Skipping page Бейшехир\n",
      "bg 96\n",
      "Skipping page СН\n",
      "Skipping page Остапенко, Пётр\n",
      "Skipping page Синий мост\n",
      "Skipping page Хомейн (значения)\n",
      "Skipping page Ток (Аляска)\n",
      "Skipping page Зюзинское (сельское поселение)\n",
      "Skipping page Нисимура\n",
      "Skipping page Честерфилд\n",
      "ru 92\n",
      "Skipping page Хасін\n",
      "Skipping page Сокур (значення)\n",
      "Skipping page Бор (значення)\n",
      "Skipping page Пинзеник (прізвище)\n",
      "Skipping page Ойодо\n",
      "uk 95\n",
      "Skipping page Tropidonotus johannis\n",
      "Skipping page Nana (film, 1934)\n",
      "Skipping page Alvaro Mejia\n",
      "Skipping page Wilhelmine-Louise de Hesse-Darmstadt\n",
      "Skipping page Salvat\n",
      "Skipping page Romain-aux-Bois\n",
      "Skipping page Calama\n",
      "Skipping page Dolores (Copán)\n",
      "fr 92\n",
      "Skipping page Middle of the road\n",
      "Skipping page Mary Lake (Ontario)\n",
      "Skipping page Tharrawaddy\n",
      "Skipping page This Fire\n",
      "Skipping page William Agnew\n",
      "Skipping page Oconto\n",
      "en 94\n",
      "Skipping page Minturn\n",
      "Skipping page Alfred Kern\n",
      "Skipping page Santee\n",
      "Skipping page Conway River\n",
      "Skipping page André Masset\n",
      "Skipping page David González\n",
      "Skipping page MVG\n",
      "Skipping page Eulenburg\n",
      "de 92\n",
      "Skipping page Rafael Méndez\n",
      "Skipping page Cristián Cuevas\n",
      "Skipping page Teodora (desambiguación)\n",
      "Skipping page Huarte (desambiguación)\n",
      "Skipping page Amenábar\n",
      "Skipping page Peonía\n",
      "Skipping page James Jones\n",
      "es 93\n"
     ]
    }
   ],
   "source": [
    "wiki_texts_test = {}\n",
    "for lang in langs:\n",
    "    wiki_texts_test[lang] = get_texts_for_lang(lang, 100)\n",
    "    print(lang, len(wiki_texts_test[lang]))"
   ]
  },
  {
   "cell_type": "markdown",
   "metadata": {},
   "source": [
    "#### Проверяем каждый текст (статья в Википедии) на язык"
   ]
  },
  {
   "cell_type": "code",
   "execution_count": 87,
   "metadata": {
    "collapsed": true
   },
   "outputs": [],
   "source": [
    "def check_errors(wiki_texts_test, most_freq, most_freq_n):\n",
    "    err_corp = 0# кол-во текстов с неправильным определением языка корпусным методом\n",
    "    err_n = 0# кол-во текстов с неправильным определением языка n-граммным методом\n",
    "    num_texts = 0# кол-во всех текстов\n",
    "    for lang in wiki_texts_test:\n",
    "        corpus = wiki_texts_test[lang]\n",
    "        for article in corpus:\n",
    "            num_texts += 1\n",
    "            if lang != corpus_method(article, most_freq):\n",
    "                err_corp += 1\n",
    "            if lang != ngram_method(article, most_freq_n):\n",
    "                err_n += 1\n",
    "    return err_corp/num_texts, err_n/num_texts"
   ]
  },
  {
   "cell_type": "code",
   "execution_count": 88,
   "metadata": {
    "collapsed": true
   },
   "outputs": [],
   "source": [
    "err_pr_corp, err_pr_n = check_errors(wiki_texts_test, most_freq, most_freq_n)"
   ]
  },
  {
   "cell_type": "code",
   "execution_count": 89,
   "metadata": {},
   "outputs": [
    {
     "name": "stdout",
     "output_type": "stream",
     "text": [
      "Процент ошибки у корпусного метода: 0.006666666666666667\n",
      "Процент ошибки у n-граммного метода: 0.05333333333333334\n"
     ]
    }
   ],
   "source": [
    "print('Процент ошибки у корпусного метода:', err_pr_corp)\n",
    "print('Процент ошибки у n-граммного метода:', err_pr_n)"
   ]
  },
  {
   "cell_type": "code",
   "execution_count": 90,
   "metadata": {
    "collapsed": true
   },
   "outputs": [],
   "source": [
    "def predict_lang_corp(text, most_freq):\n",
    "    return corpus_method(text, most_freq)\n",
    "def predict_lang_n(text, most_freq_n):\n",
    "    return ngram_method(text, most_freq_n)"
   ]
  },
  {
   "cell_type": "code",
   "execution_count": 91,
   "metadata": {
    "collapsed": true
   },
   "outputs": [],
   "source": [
    "from sklearn.metrics import classification_report, confusion_matrix"
   ]
  },
  {
   "cell_type": "code",
   "execution_count": 92,
   "metadata": {
    "collapsed": true
   },
   "outputs": [],
   "source": [
    "true_labels_corp = []\n",
    "predicted_labels_corp = []\n",
    "true_labels_n = []\n",
    "predicted_labels_n = []\n",
    "\n",
    "for lang in wiki_texts_test:\n",
    "    for text in wiki_texts_test[lang]:\n",
    "        true_labels_corp.append(lang)\n",
    "        predicted_labels_corp.append(predict_lang_corp(text, most_freq))\n",
    "        true_labels_n.append(lang)\n",
    "        predicted_labels_n.append(predict_lang_n(text, most_freq_n))"
   ]
  },
  {
   "cell_type": "markdown",
   "metadata": {},
   "source": [
    "#### Классификация текстов с помощью корпусного метода"
   ]
  },
  {
   "cell_type": "code",
   "execution_count": 93,
   "metadata": {},
   "outputs": [
    {
     "name": "stdout",
     "output_type": "stream",
     "text": [
      "             precision    recall  f1-score   support\n",
      "\n",
      "         be       0.97      1.00      0.98        96\n",
      "         bg       1.00      0.99      0.99        96\n",
      "         de       1.00      1.00      1.00        92\n",
      "         en       0.99      0.98      0.98        94\n",
      "         es       1.00      0.99      0.99        93\n",
      "         fr       0.99      1.00      0.99        92\n",
      "         ru       1.00      0.99      0.99        92\n",
      "         uk       1.00      1.00      1.00        95\n",
      "\n",
      "avg / total       0.99      0.99      0.99       750\n",
      "\n"
     ]
    }
   ],
   "source": [
    "print(classification_report(true_labels_corp, predicted_labels_corp))"
   ]
  },
  {
   "cell_type": "code",
   "execution_count": 94,
   "metadata": {
    "collapsed": true
   },
   "outputs": [],
   "source": [
    "labels_corp = list(set(true_labels_corp))"
   ]
  },
  {
   "cell_type": "code",
   "execution_count": 95,
   "metadata": {},
   "outputs": [
    {
     "data": {
      "image/png": "[encoded data removed]",
      "text/plain": [
       "<matplotlib.figure.Figure at 0x1125bdc50>"
      ]
     },
     "metadata": {},
     "output_type": "display_data"
    }
   ],
   "source": [
    "fig, ax = plt.subplots(figsize=(10,5))\n",
    "sns.heatmap(data=confusion_matrix(true_labels_corp, predicted_labels_corp, labels = labels_corp), \n",
    "            annot=True, \n",
    "            fmt=\"d\", xticklabels=labels_corp, yticklabels=labels_corp, ax=ax)\n",
    "plt.title(\"Confusion matrix\")\n",
    "plt.show()"
   ]
  },
  {
   "cell_type": "markdown",
   "metadata": {},
   "source": [
    "#### Классификация текстов с помощью n-граммного метода"
   ]
  },
  {
   "cell_type": "code",
   "execution_count": 96,
   "metadata": {},
   "outputs": [
    {
     "name": "stdout",
     "output_type": "stream",
     "text": [
      "             precision    recall  f1-score   support\n",
      "\n",
      "         be       0.79      1.00      0.88        96\n",
      "         bg       0.99      1.00      0.99        96\n",
      "         de       0.95      0.99      0.97        92\n",
      "         en       1.00      0.65      0.79        94\n",
      "         es       0.96      0.99      0.97        93\n",
      "         fr       0.96      0.98      0.97        92\n",
      "         ru       0.99      0.97      0.98        92\n",
      "         uk       1.00      1.00      1.00        95\n",
      "\n",
      "avg / total       0.95      0.95      0.94       750\n",
      "\n"
     ]
    }
   ],
   "source": [
    "print(classification_report(true_labels_n, predicted_labels_n))"
   ]
  },
  {
   "cell_type": "code",
   "execution_count": 97,
   "metadata": {
    "collapsed": true
   },
   "outputs": [],
   "source": [
    "labels_n = list(set(true_labels_n))"
   ]
  },
  {
   "cell_type": "code",
   "execution_count": 98,
   "metadata": {},
   "outputs": [
    {
     "data": {
      "image/png": "[encoded data removed]",
      "text/plain": [
       "<matplotlib.figure.Figure at 0x113428d68>"
      ]
     },
     "metadata": {},
     "output_type": "display_data"
    }
   ],
   "source": [
    "fig, ax = plt.subplots(figsize=(10,5))\n",
    "sns.heatmap(data=confusion_matrix(true_labels_n, predicted_labels_n, labels = labels_n), \n",
    "            annot=True, \n",
    "            fmt=\"d\", xticklabels=labels_n, yticklabels=labels_n, ax=ax)\n",
    "plt.title(\"Confusion matrix\")\n",
    "plt.show()"
   ]
  },
  {
   "cell_type": "markdown",
   "metadata": {},
   "source": [
    "## Корпусный метод работает лучше. У него процент ошибок меньше и, соответвенно, точность выше, чем у n-граммного. На confusion matrix видим, что путаются языки с одинаковым алфавитом (кириллическим / латиницей). Корпусный (словарный) метод лучше: мы отфильтровали повторяющиеся n-граммы, то есть в список попали менее частноные n-граммы (стоит учесть, что в языках больше совпадений n-грамм, чем слов). Возможно, это сказалось на точность второго метода."
   ]
  },
  {
   "cell_type": "code",
   "execution_count": null,
   "metadata": {
    "collapsed": true
   },
   "outputs": [],
   "source": []
  }
 ],
 "metadata": {
  "kernelspec": {
   "display_name": "Python 3",
   "language": "python",
   "name": "python3"
  },
  "language_info": {
   "codemirror_mode": {
    "name": "ipython",
    "version": 3
   },
   "file_extension": ".py",
   "mimetype": "text/x-python",
   "name": "python",
   "nbconvert_exporter": "python",
   "pygments_lexer": "ipython3",
   "version": "3.6.3"
  }
 },
 "nbformat": 4,
 "nbformat_minor": 2
}
