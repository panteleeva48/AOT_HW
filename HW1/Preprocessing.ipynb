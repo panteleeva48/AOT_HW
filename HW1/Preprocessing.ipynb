{
 "cells": [
  {
   "cell_type": "code",
   "execution_count": 254,
   "metadata": {
    "collapsed": true
   },
   "outputs": [],
   "source": [
    "import pandas as pd\n",
    "import numpy as np\n",
    "from sklearn.feature_extraction.text import TfidfVectorizer, CountVectorizer\n",
    "from sklearn.linear_model import LogisticRegression\n",
    "from sklearn.ensemble import RandomForestClassifier\n",
    "from sklearn.metrics import precision_score, recall_score, f1_score, confusion_matrix, classification_report\n",
    "import matplotlib.pyplot as plt\n",
    "%matplotlib inline  \n",
    "pd.set_option('max_colwidth', 1000)"
   ]
  },
  {
   "cell_type": "markdown",
   "metadata": {},
   "source": [
    "# 1.0"
   ]
  },
  {
   "cell_type": "markdown",
   "metadata": {},
   "source": [
    "# Бейзлайн без нормализации"
   ]
  },
  {
   "cell_type": "code",
   "execution_count": 255,
   "metadata": {
    "collapsed": true
   },
   "outputs": [],
   "source": [
    "train_data = pd.read_csv('sentiment_twitter/train_sentiment_ttk.tsv', sep='\\t')\n",
    "test_data = pd.read_csv('sentiment_twitter/test_sentiment_ttk.tsv', sep='\\t')"
   ]
  },
  {
   "cell_type": "markdown",
   "metadata": {},
   "source": [
    "Распределение по классам:"
   ]
  },
  {
   "cell_type": "code",
   "execution_count": 256,
   "metadata": {},
   "outputs": [
    {
     "data": {
      "text/plain": [
       "<matplotlib.axes._subplots.AxesSubplot at 0x112a8db70>"
      ]
     },
     "execution_count": 256,
     "metadata": {},
     "output_type": "execute_result"
    },
    {
     "data": {
      "image/png": "[encoded data removed]",
      "text/plain": [
       "<matplotlib.figure.Figure at 0x11067cfd0>"
      ]
     },
     "metadata": {},
     "output_type": "display_data"
    }
   ],
   "source": [
    "train_data.label.hist()"
   ]
  },
  {
   "cell_type": "code",
   "execution_count": 257,
   "metadata": {},
   "outputs": [
    {
     "data": {
      "text/plain": [
       "<matplotlib.axes._subplots.AxesSubplot at 0x110fc0cf8>"
      ]
     },
     "execution_count": 257,
     "metadata": {},
     "output_type": "execute_result"
    },
    {
     "data": {
      "image/png": "[encoded data removed]",
      "text/plain": [
       "<matplotlib.figure.Figure at 0x1100f6710>"
      ]
     },
     "metadata": {},
     "output_type": "display_data"
    }
   ],
   "source": [
    "test_data.label.hist()"
   ]
  },
  {
   "cell_type": "code",
   "execution_count": 401,
   "metadata": {
    "collapsed": true
   },
   "outputs": [],
   "source": [
    "compare = {}"
   ]
  },
  {
   "cell_type": "markdown",
   "metadata": {},
   "source": [
    "# CountVectorizer"
   ]
  },
  {
   "cell_type": "code",
   "execution_count": 402,
   "metadata": {
    "collapsed": true
   },
   "outputs": [],
   "source": [
    "count_vectorizer = CountVectorizer()\n",
    "count_vectorizer.fit(train_data.text.values) \n",
    "\n",
    "X_train = count_vectorizer.transform(train_data.text.values)\n",
    "X_test = count_vectorizer.transform(test_data.text.values)"
   ]
  },
  {
   "cell_type": "code",
   "execution_count": 403,
   "metadata": {
    "collapsed": true
   },
   "outputs": [],
   "source": [
    "y_train = train_data.label.values\n",
    "y_test = test_data.label.values"
   ]
  },
  {
   "cell_type": "code",
   "execution_count": 404,
   "metadata": {},
   "outputs": [
    {
     "data": {
      "text/plain": [
       "LogisticRegression(C=0.1, class_weight=None, dual=False, fit_intercept=True,\n",
       "          intercept_scaling=1, max_iter=100, multi_class='ovr', n_jobs=1,\n",
       "          penalty='l1', random_state=None, solver='liblinear', tol=0.0001,\n",
       "          verbose=0, warm_start=False)"
      ]
     },
     "execution_count": 404,
     "metadata": {},
     "output_type": "execute_result"
    }
   ],
   "source": [
    "clf = LogisticRegression(penalty=\"l1\", C=0.1)\n",
    "clf.fit(X_train, y_train)"
   ]
  },
  {
   "cell_type": "code",
   "execution_count": 405,
   "metadata": {
    "collapsed": true
   },
   "outputs": [],
   "source": [
    "y_pred = clf.predict(X_test)"
   ]
  },
  {
   "cell_type": "markdown",
   "metadata": {},
   "source": [
    "Качество классификатора:"
   ]
  },
  {
   "cell_type": "code",
   "execution_count": 406,
   "metadata": {},
   "outputs": [
    {
     "name": "stdout",
     "output_type": "stream",
     "text": [
      "             precision    recall  f1-score   support\n",
      "\n",
      "         -1       0.69      0.59      0.64       902\n",
      "          0       0.61      0.80      0.69       972\n",
      "          1       0.30      0.03      0.06       180\n",
      "\n",
      "avg / total       0.62      0.64      0.61      2054\n",
      "\n",
      "Макросредняя F1 мера -  0.46306421211286786\n",
      "Микросредняя F1 мера -  0.6387536514118792\n"
     ]
    }
   ],
   "source": [
    "print(classification_report(y_test, y_pred))\n",
    "print('Макросредняя F1 мера - ',f1_score(y_test, y_pred, average='macro'))\n",
    "print('Микросредняя F1 мера - ',f1_score(y_test, y_pred, average='micro'))"
   ]
  },
  {
   "cell_type": "code",
   "execution_count": 414,
   "metadata": {},
   "outputs": [],
   "source": [
    "compare['CountVectorizer'] = [round(f1_score(y_test, y_pred, average='macro'),4), round(f1_score(y_test, y_pred, average='micro'),4)]"
   ]
  },
  {
   "cell_type": "code",
   "execution_count": 415,
   "metadata": {},
   "outputs": [
    {
     "data": {
      "image/png": "[encoded data removed]",
      "text/plain": [
       "<matplotlib.figure.Figure at 0x117c44da0>"
      ]
     },
     "metadata": {},
     "output_type": "display_data"
    }
   ],
   "source": [
    "labels = clf.classes_\n",
    "fig, ax = plt.subplots(figsize=(10,5))\n",
    "sns.heatmap(data=confusion_matrix(y_test, y_pred), annot=True, \n",
    "            fmt=\"d\", xticklabels=labels, yticklabels=labels, ax=ax)\n",
    "plt.title(\"Confusion matrix\")\n",
    "plt.show()"
   ]
  },
  {
   "cell_type": "code",
   "execution_count": 416,
   "metadata": {
    "collapsed": true
   },
   "outputs": [],
   "source": [
    "def print_important(vectorizer, clf, topn=10):\n",
    "    features = vectorizer.get_feature_names()\n",
    "    classes = clf.classes_\n",
    "    importances = clf.coef_\n",
    "    for i, cls in enumerate(classes):\n",
    "        print('Значимые слова для класса - ', cls)\n",
    "        important_words = sorted(list(zip(features, importances[i])), key=lambda x: abs(x[1]), reverse=True)[:topn]\n",
    "        print([word for word,_ in important_words])\n",
    "        print()"
   ]
  },
  {
   "cell_type": "code",
   "execution_count": 417,
   "metadata": {},
   "outputs": [
    {
     "name": "stdout",
     "output_type": "stream",
     "text": [
      "Значимые слова для класса -  -1\n",
      "['сбой', 'tele2', 'старые', 'нет', 'проблемы', 'тарифов', 'сука', 'просит', 'отключили', 'крыму']\n",
      "\n",
      "Значимые слова для класса -  0\n",
      "['пожалуйста', 'гонконгские', 'связь', 'просит', 'цены', '20', 'иа', 'здравствуйте', 'скачать', 'для']\n",
      "\n",
      "Значимые слова для класса -  1\n",
      "['узбекистан', 'спасибо', 'клиенты', 'люблю', 'запустил', 'области', 'пожалуйста', '4g', 'увеличил', 'теперь']\n",
      "\n"
     ]
    }
   ],
   "source": [
    "print_important(count_vectorizer, clf)"
   ]
  },
  {
   "cell_type": "code",
   "execution_count": 418,
   "metadata": {
    "collapsed": true
   },
   "outputs": [],
   "source": [
    "from wordcloud import WordCloud"
   ]
  },
  {
   "cell_type": "code",
   "execution_count": 419,
   "metadata": {},
   "outputs": [
    {
     "data": {
      "text/plain": [
       "(-0.5, 999.5, 499.5, -0.5)"
      ]
     },
     "execution_count": 419,
     "metadata": {},
     "output_type": "execute_result"
    },
    {
     "data": {
      "image/png": "[encoded data removed]",
      "text/plain": [
       "<matplotlib.figure.Figure at 0x1100f6860>"
      ]
     },
     "metadata": {},
     "output_type": "display_data"
    }
   ],
   "source": [
    "top = 150\n",
    "features = count_vectorizer.get_feature_names()\n",
    "importances = clf.coef_\n",
    "classes = clf.classes_\n",
    "words_with_weights = sorted(list(zip(features, importances[0])),key=lambda x: abs(x[1]), reverse=True)\n",
    "only_words = [word for word,_ in words_with_weights][:top]\n",
    "\n",
    "cloud = WordCloud(width=1000, height=500).generate(' '.join(only_words))\n",
    "plt.figure(figsize=(15, 15))\n",
    "plt.imshow(cloud)\n",
    "plt.axis('off')"
   ]
  },
  {
   "cell_type": "markdown",
   "metadata": {},
   "source": [
    "# TfidfVectorizer"
   ]
  },
  {
   "cell_type": "code",
   "execution_count": 420,
   "metadata": {
    "collapsed": true
   },
   "outputs": [],
   "source": [
    "tfidf = TfidfVectorizer()\n",
    "tfidf.fit(train_data.text.values)\n",
    "X_train = tfidf.transform(train_data.text.values)\n",
    "X_test = tfidf.transform(test_data.text.values)"
   ]
  },
  {
   "cell_type": "code",
   "execution_count": 421,
   "metadata": {},
   "outputs": [
    {
     "data": {
      "text/plain": [
       "LogisticRegression(C=1.0, class_weight=None, dual=False, fit_intercept=True,\n",
       "          intercept_scaling=1, max_iter=100, multi_class='ovr', n_jobs=1,\n",
       "          penalty='l1', random_state=None, solver='liblinear', tol=0.0001,\n",
       "          verbose=0, warm_start=False)"
      ]
     },
     "execution_count": 421,
     "metadata": {},
     "output_type": "execute_result"
    }
   ],
   "source": [
    "clf = LogisticRegression(penalty='l1')\n",
    "clf.fit(X_train, y_train)"
   ]
  },
  {
   "cell_type": "code",
   "execution_count": 422,
   "metadata": {
    "collapsed": true
   },
   "outputs": [],
   "source": [
    "y_pred = clf.predict(X_test)"
   ]
  },
  {
   "cell_type": "code",
   "execution_count": 423,
   "metadata": {},
   "outputs": [
    {
     "name": "stdout",
     "output_type": "stream",
     "text": [
      "             precision    recall  f1-score   support\n",
      "\n",
      "         -1       0.70      0.69      0.69       902\n",
      "          0       0.66      0.76      0.71       972\n",
      "          1       0.37      0.09      0.15       180\n",
      "\n",
      "avg / total       0.65      0.67      0.65      2054\n",
      "\n",
      "Макросредняя F1 мера -  0.5175955178511717\n",
      "Микросредняя F1 мера -  0.6713729308666018\n"
     ]
    }
   ],
   "source": [
    "print(classification_report(y_test, y_pred))\n",
    "print('Макросредняя F1 мера - ',f1_score(y_test, y_pred, average='macro'))\n",
    "print('Микросредняя F1 мера - ',f1_score(y_test, y_pred, average='micro'))"
   ]
  },
  {
   "cell_type": "code",
   "execution_count": 424,
   "metadata": {
    "collapsed": true
   },
   "outputs": [],
   "source": [
    "compare['TfidfVectorizer'] = [round(f1_score(y_test, y_pred, average='macro'),4), round(f1_score(y_test, y_pred, average='micro'),4)]"
   ]
  },
  {
   "cell_type": "code",
   "execution_count": 425,
   "metadata": {
    "collapsed": true
   },
   "outputs": [],
   "source": [
    "import seaborn as sns"
   ]
  },
  {
   "cell_type": "code",
   "execution_count": 426,
   "metadata": {},
   "outputs": [
    {
     "data": {
      "image/png": "[encoded data removed]",
      "text/plain": [
       "<matplotlib.figure.Figure at 0x11353ba58>"
      ]
     },
     "metadata": {},
     "output_type": "display_data"
    }
   ],
   "source": [
    "labels = clf.classes_\n",
    "fig, ax = plt.subplots(figsize=(10,5))\n",
    "sns.heatmap(data=confusion_matrix(y_test, y_pred), annot=True, \n",
    "            fmt=\"d\", xticklabels=labels, yticklabels=labels, ax=ax)\n",
    "plt.title(\"Confusion matrix\")\n",
    "plt.show()"
   ]
  },
  {
   "cell_type": "code",
   "execution_count": 427,
   "metadata": {},
   "outputs": [
    {
     "name": "stdout",
     "output_type": "stream",
     "text": [
      "Значимые слова для класса -  -1\n",
      "['сбой', 'tele2', 'старые', 'не', 'сука', 'говно', 'просит', 'проблемы', 'крыму', 'фас', 'нет', 'лежит', 'опять', 'спасибо', 'тарифов', 'украина', 'http', 'для', 'донецке', 'цены']\n",
      "\n",
      "Значимые слова для класса -  0\n",
      "['иа', 'просит', 'сбой', 'гонконгские', 'цены', 'границы', 'пожалуйста', 'сн', 'связь', 'ловит', 'здравствуйте', 'инструкция', 'http', 'люблю', 'для', 'ион', 'обратилась', 'долларов', 'даже', 'номер']\n",
      "\n",
      "Значимые слова для класса -  1\n",
      "['люблю', 'узбекистан', 'спасибо', 'расходы', 'пожалуйста', 'подарок', 'клиенты', 'бесплатный', 'увеличил', 'защиты', 'не', 'мировое', 'заработал', 'запустил', 'области', 'beeline_rus', 'хорошего', 'реклама', 'водителей', 'номер']\n",
      "\n"
     ]
    }
   ],
   "source": [
    "print_important(tfidf, clf, 20)"
   ]
  },
  {
   "cell_type": "markdown",
   "metadata": {},
   "source": [
    "# 1.1"
   ]
  },
  {
   "cell_type": "markdown",
   "metadata": {},
   "source": [
    "# Улучшение качества классификации"
   ]
  },
  {
   "cell_type": "code",
   "execution_count": 428,
   "metadata": {
    "collapsed": true
   },
   "outputs": [],
   "source": [
    "import re"
   ]
  },
  {
   "cell_type": "code",
   "execution_count": 429,
   "metadata": {},
   "outputs": [
    {
     "data": {
      "text/html": [
       "<div>\n",
       "<style scoped>\n",
       "    .dataframe tbody tr th:only-of-type {\n",
       "        vertical-align: middle;\n",
       "    }\n",
       "\n",
       "    .dataframe tbody tr th {\n",
       "        vertical-align: top;\n",
       "    }\n",
       "\n",
       "    .dataframe thead th {\n",
       "        text-align: right;\n",
       "    }\n",
       "</style>\n",
       "<table border=\"1\" class=\"dataframe\">\n",
       "  <thead>\n",
       "    <tr style=\"text-align: right;\">\n",
       "      <th></th>\n",
       "      <th>label</th>\n",
       "      <th>text</th>\n",
       "      <th>normalized</th>\n",
       "      <th>stemming</th>\n",
       "    </tr>\n",
       "  </thead>\n",
       "  <tbody>\n",
       "    <tr>\n",
       "      <th>0</th>\n",
       "      <td>0</td>\n",
       "      <td>@mkomov Максим, Вашем письмо мы получили. Наши сотрудники свяжутся с Вами завтра и направят запрос инженерам для проверки. #билайн</td>\n",
       "      <td>максим , ваш письмо мы получить . наш сотрудник связаться с вы завтра и направить запрос инженер для проверка . #билайн</td>\n",
       "      <td>макс , ваш письм мы получ . наш сотрудник свяжут с вам завтр и направ запрос инженер для проверк . #билайн</td>\n",
       "    </tr>\n",
       "    <tr>\n",
       "      <th>1</th>\n",
       "      <td>0</td>\n",
       "      <td>«Мегафон» стал владельцем 50% акций «Евросети»</td>\n",
       "      <td>« мегафон » стать владелец 50 % акция « евросеть »</td>\n",
       "      <td>« мегафон » стал владельц 50 % акц « евросет »</td>\n",
       "    </tr>\n",
       "    <tr>\n",
       "      <th>2</th>\n",
       "      <td>-1</td>\n",
       "      <td>RT @fuckkiev: “@EvaKobb: МТС Россия прислала жителям Херсонщины сообщения, в которых обозвала украинцев фашистами? http://t.co/RbSesXlOUZ” …</td>\n",
       "      <td>rt “ мтс россия прислать житель херсонщина сообщение , в который обозвать украинец фашист ? …</td>\n",
       "      <td>RT “ мтс росс присла жител херсонщин сообщен , в котор обозва украинц фашист ? …</td>\n",
       "    </tr>\n",
       "    <tr>\n",
       "      <th>3</th>\n",
       "      <td>1</td>\n",
       "      <td>ВИДЕО: http://t.co/PSMLAhR4fI Реклама со смехом МТС - Супер 0</td>\n",
       "      <td>видео : реклама с смех мтс - супер 0</td>\n",
       "      <td>виде : реклам со смех мтс - супер 0</td>\n",
       "    </tr>\n",
       "    <tr>\n",
       "      <th>4</th>\n",
       "      <td>-1</td>\n",
       "      <td>@parfenov1960 потому что МТС достало, а пчел ненавижу с детства, как и их мёд!</td>\n",
       "      <td>потому что мтс достать , а пчела ненавидеть с детство , как и они мёд !</td>\n",
       "      <td>пот что мтс доста , а пчел ненавиж с детств , как и их мед !</td>\n",
       "    </tr>\n",
       "  </tbody>\n",
       "</table>\n",
       "</div>"
      ],
      "text/plain": [
       "   label  \\\n",
       "0      0   \n",
       "1      0   \n",
       "2     -1   \n",
       "3      1   \n",
       "4     -1   \n",
       "\n",
       "                                                                                                                                           text  \\\n",
       "0            @mkomov Максим, Вашем письмо мы получили. Наши сотрудники свяжутся с Вами завтра и направят запрос инженерам для проверки. #билайн   \n",
       "1                                                                                                «Мегафон» стал владельцем 50% акций «Евросети»   \n",
       "2  RT @fuckkiev: “@EvaKobb: МТС Россия прислала жителям Херсонщины сообщения, в которых обозвала украинцев фашистами? http://t.co/RbSesXlOUZ” …   \n",
       "3                                                                                 ВИДЕО: http://t.co/PSMLAhR4fI Реклама со смехом МТС - Супер 0   \n",
       "4                                                                @parfenov1960 потому что МТС достало, а пчел ненавижу с детства, как и их мёд!   \n",
       "\n",
       "                                                                                                                normalized  \\\n",
       "0  максим , ваш письмо мы получить . наш сотрудник связаться с вы завтра и направить запрос инженер для проверка . #билайн   \n",
       "1                                                                       « мегафон » стать владелец 50 % акция « евросеть »   \n",
       "2                            rt “ мтс россия прислать житель херсонщина сообщение , в который обозвать украинец фашист ? …   \n",
       "3                                                                                     видео : реклама с смех мтс - супер 0   \n",
       "4                                                  потому что мтс достать , а пчела ненавидеть с детство , как и они мёд !   \n",
       "\n",
       "                                                                                                     stemming  \n",
       "0  макс , ваш письм мы получ . наш сотрудник свяжут с вам завтр и направ запрос инженер для проверк . #билайн  \n",
       "1                                                              « мегафон » стал владельц 50 % акц « евросет »  \n",
       "2                            RT “ мтс росс присла жител херсонщин сообщен , в котор обозва украинц фашист ? …  \n",
       "3                                                                         виде : реклам со смех мтс - супер 0  \n",
       "4                                                пот что мтс доста , а пчел ненавиж с детств , как и их мед !  "
      ]
     },
     "execution_count": 429,
     "metadata": {},
     "output_type": "execute_result"
    }
   ],
   "source": [
    "train_data.head()"
   ]
  },
  {
   "cell_type": "markdown",
   "metadata": {},
   "source": [
    "Наша задача: избавиться от разных ссылок, включая ники людей, так как они не дают никакой информации о тональности текста."
   ]
  },
  {
   "cell_type": "markdown",
   "metadata": {},
   "source": [
    "Удаляем адреса:"
   ]
  },
  {
   "cell_type": "code",
   "execution_count": 430,
   "metadata": {
    "collapsed": true
   },
   "outputs": [],
   "source": [
    "def remove_sites(text):\n",
    "    no_sites_text = re.sub(r'(https?:\\/\\/)?([\\da-z\\.-]+)\\.([a-z\\.]{2,6})([\\/\\w\\.-]*)*\\/?\\S', ' ', text, flags=re.MULTILINE)\n",
    "    no_space_sequences_text = re.sub('  +', ' ', no_sites_text)\n",
    "    return no_space_sequences_text"
   ]
  },
  {
   "cell_type": "markdown",
   "metadata": {},
   "source": [
    "Упоминания о людях:"
   ]
  },
  {
   "cell_type": "code",
   "execution_count": 431,
   "metadata": {
    "collapsed": true
   },
   "outputs": [],
   "source": [
    "def remove_people(text):\n",
    "    no_people_text = re.sub('@.+? ', ' ', text, flags=re.MULTILINE)\n",
    "    no_space_sequences_text = re.sub('  +', ' ', no_people_text)\n",
    "    return no_people_text"
   ]
  },
  {
   "cell_type": "markdown",
   "metadata": {},
   "source": [
    "Пользуюсь специальным токенайзером для твиттера, так как он учитывает \"разговорный\" язык твитов (в том числе считает смайлики, не разделяет слова с апострофами)."
   ]
  },
  {
   "cell_type": "code",
   "execution_count": 432,
   "metadata": {
    "collapsed": true
   },
   "outputs": [],
   "source": [
    "from nltk.tokenize import TweetTokenizer\n",
    "tknzr = TweetTokenizer()\n",
    "stops = stopwords.words('russian')"
   ]
  },
  {
   "cell_type": "markdown",
   "metadata": {},
   "source": [
    "Убираем стоп-слова (служебные части речи ничего в редких случая могут сказать о тональности текста):"
   ]
  },
  {
   "cell_type": "code",
   "execution_count": 433,
   "metadata": {},
   "outputs": [],
   "source": [
    "def normalize_stop(text):\n",
    "    text = remove_sites(text)\n",
    "    text = remove_people(text) \n",
    "    lemmas = [morph.parse(token)[0].normal_form for token in tknzr.tokenize(text)]\n",
    "    return ' '.join(lemmas) "
   ]
  },
  {
   "cell_type": "code",
   "execution_count": 434,
   "metadata": {
    "collapsed": true
   },
   "outputs": [],
   "source": [
    "def clean(text):\n",
    "    text = remove_sites(text)\n",
    "    text = remove_people(text)\n",
    "    text = normalize_stop(text)\n",
    "    return text"
   ]
  },
  {
   "cell_type": "markdown",
   "metadata": {},
   "source": [
    "Использую pymorphy, так как при незнакомых словах он предугадывает их начальную форму, mystem в этом случае проигрывает."
   ]
  },
  {
   "cell_type": "code",
   "execution_count": 435,
   "metadata": {
    "collapsed": true
   },
   "outputs": [],
   "source": [
    "from pymorphy2 import MorphAnalyzer\n",
    "from nltk.corpus import stopwords\n",
    "morph = MorphAnalyzer()"
   ]
  },
  {
   "cell_type": "code",
   "execution_count": 436,
   "metadata": {},
   "outputs": [],
   "source": [
    "train_data['normalized'] = train_data['text'].apply(clean)"
   ]
  },
  {
   "cell_type": "code",
   "execution_count": 437,
   "metadata": {},
   "outputs": [
    {
     "data": {
      "text/html": [
       "<div>\n",
       "<style scoped>\n",
       "    .dataframe tbody tr th:only-of-type {\n",
       "        vertical-align: middle;\n",
       "    }\n",
       "\n",
       "    .dataframe tbody tr th {\n",
       "        vertical-align: top;\n",
       "    }\n",
       "\n",
       "    .dataframe thead th {\n",
       "        text-align: right;\n",
       "    }\n",
       "</style>\n",
       "<table border=\"1\" class=\"dataframe\">\n",
       "  <thead>\n",
       "    <tr style=\"text-align: right;\">\n",
       "      <th></th>\n",
       "      <th>label</th>\n",
       "      <th>text</th>\n",
       "      <th>normalized</th>\n",
       "      <th>stemming</th>\n",
       "    </tr>\n",
       "  </thead>\n",
       "  <tbody>\n",
       "    <tr>\n",
       "      <th>0</th>\n",
       "      <td>0</td>\n",
       "      <td>@mkomov Максим, Вашем письмо мы получили. Наши сотрудники свяжутся с Вами завтра и направят запрос инженерам для проверки. #билайн</td>\n",
       "      <td>максим , ваш письмо мы получить . наш сотрудник связаться с вы завтра и направить запрос инженер для проверка . #билайн</td>\n",
       "      <td>макс , ваш письм мы получ . наш сотрудник свяжут с вам завтр и направ запрос инженер для проверк . #билайн</td>\n",
       "    </tr>\n",
       "    <tr>\n",
       "      <th>1</th>\n",
       "      <td>0</td>\n",
       "      <td>«Мегафон» стал владельцем 50% акций «Евросети»</td>\n",
       "      <td>« мегафон » стать владелец 50 % акция « евросеть »</td>\n",
       "      <td>« мегафон » стал владельц 50 % акц « евросет »</td>\n",
       "    </tr>\n",
       "    <tr>\n",
       "      <th>2</th>\n",
       "      <td>-1</td>\n",
       "      <td>RT @fuckkiev: “@EvaKobb: МТС Россия прислала жителям Херсонщины сообщения, в которых обозвала украинцев фашистами? http://t.co/RbSesXlOUZ” …</td>\n",
       "      <td>rt “ мтс россия прислать житель херсонщина сообщение , в который обозвать украинец фашист ? …</td>\n",
       "      <td>RT “ мтс росс присла жител херсонщин сообщен , в котор обозва украинц фашист ? …</td>\n",
       "    </tr>\n",
       "    <tr>\n",
       "      <th>3</th>\n",
       "      <td>1</td>\n",
       "      <td>ВИДЕО: http://t.co/PSMLAhR4fI Реклама со смехом МТС - Супер 0</td>\n",
       "      <td>видео : реклама с смех мтс - супер 0</td>\n",
       "      <td>виде : реклам со смех мтс - супер 0</td>\n",
       "    </tr>\n",
       "    <tr>\n",
       "      <th>4</th>\n",
       "      <td>-1</td>\n",
       "      <td>@parfenov1960 потому что МТС достало, а пчел ненавижу с детства, как и их мёд!</td>\n",
       "      <td>потому что мтс достать , а пчела ненавидеть с детство , как и они мёд !</td>\n",
       "      <td>пот что мтс доста , а пчел ненавиж с детств , как и их мед !</td>\n",
       "    </tr>\n",
       "  </tbody>\n",
       "</table>\n",
       "</div>"
      ],
      "text/plain": [
       "   label  \\\n",
       "0      0   \n",
       "1      0   \n",
       "2     -1   \n",
       "3      1   \n",
       "4     -1   \n",
       "\n",
       "                                                                                                                                           text  \\\n",
       "0            @mkomov Максим, Вашем письмо мы получили. Наши сотрудники свяжутся с Вами завтра и направят запрос инженерам для проверки. #билайн   \n",
       "1                                                                                                «Мегафон» стал владельцем 50% акций «Евросети»   \n",
       "2  RT @fuckkiev: “@EvaKobb: МТС Россия прислала жителям Херсонщины сообщения, в которых обозвала украинцев фашистами? http://t.co/RbSesXlOUZ” …   \n",
       "3                                                                                 ВИДЕО: http://t.co/PSMLAhR4fI Реклама со смехом МТС - Супер 0   \n",
       "4                                                                @parfenov1960 потому что МТС достало, а пчел ненавижу с детства, как и их мёд!   \n",
       "\n",
       "                                                                                                                normalized  \\\n",
       "0  максим , ваш письмо мы получить . наш сотрудник связаться с вы завтра и направить запрос инженер для проверка . #билайн   \n",
       "1                                                                       « мегафон » стать владелец 50 % акция « евросеть »   \n",
       "2                            rt “ мтс россия прислать житель херсонщина сообщение , в который обозвать украинец фашист ? …   \n",
       "3                                                                                     видео : реклама с смех мтс - супер 0   \n",
       "4                                                  потому что мтс достать , а пчела ненавидеть с детство , как и они мёд !   \n",
       "\n",
       "                                                                                                     stemming  \n",
       "0  макс , ваш письм мы получ . наш сотрудник свяжут с вам завтр и направ запрос инженер для проверк . #билайн  \n",
       "1                                                              « мегафон » стал владельц 50 % акц « евросет »  \n",
       "2                            RT “ мтс росс присла жител херсонщин сообщен , в котор обозва украинц фашист ? …  \n",
       "3                                                                         виде : реклам со смех мтс - супер 0  \n",
       "4                                                пот что мтс доста , а пчел ненавиж с детств , как и их мед !  "
      ]
     },
     "execution_count": 437,
     "metadata": {},
     "output_type": "execute_result"
    }
   ],
   "source": [
    "train_data.head()"
   ]
  },
  {
   "cell_type": "code",
   "execution_count": 438,
   "metadata": {
    "collapsed": true
   },
   "outputs": [],
   "source": [
    "test_data['normalized'] = test_data['text'].apply(clean)"
   ]
  },
  {
   "cell_type": "code",
   "execution_count": 439,
   "metadata": {
    "collapsed": true
   },
   "outputs": [],
   "source": [
    "tfidf = TfidfVectorizer(stop_words=stops)\n",
    "tfidf.fit(train_data['normalized'].values)\n",
    "\n",
    "X_train = tfidf.transform(train_data['normalized'].values)\n",
    "X_test = tfidf.transform(test_data['normalized'].values)"
   ]
  },
  {
   "cell_type": "code",
   "execution_count": 440,
   "metadata": {
    "collapsed": true
   },
   "outputs": [],
   "source": [
    "clf = LogisticRegression()\n",
    "clf.fit(X_train, y_train)\n",
    "y_pred = clf.predict(X_test)"
   ]
  },
  {
   "cell_type": "code",
   "execution_count": 441,
   "metadata": {},
   "outputs": [
    {
     "name": "stdout",
     "output_type": "stream",
     "text": [
      "             precision    recall  f1-score   support\n",
      "\n",
      "         -1       0.76      0.56      0.64       902\n",
      "          0       0.62      0.86      0.72       972\n",
      "          1       0.49      0.12      0.19       180\n",
      "\n",
      "avg / total       0.67      0.66      0.64      2054\n",
      "\n",
      "Макросредняя F1 мера -  0.51797162790908\n",
      "Микросредняя F1 мера -  0.6635832521908471\n"
     ]
    }
   ],
   "source": [
    "print(classification_report(y_test, y_pred))\n",
    "print('Макросредняя F1 мера - ',f1_score(y_test, y_pred, average='macro'))\n",
    "print('Микросредняя F1 мера - ',f1_score(y_test, y_pred, average='micro'))"
   ]
  },
  {
   "cell_type": "code",
   "execution_count": 442,
   "metadata": {
    "collapsed": true
   },
   "outputs": [],
   "source": [
    "compare['TfidfVectorizer c нормализацией (лемматизация)'] = [round(f1_score(y_test, y_pred, average='macro'),4), round(f1_score(y_test, y_pred, average='micro'),4)]"
   ]
  },
  {
   "cell_type": "code",
   "execution_count": 443,
   "metadata": {},
   "outputs": [
    {
     "data": {
      "image/png": "[encoded data removed]",
      "text/plain": [
       "<matplotlib.figure.Figure at 0x1121c5780>"
      ]
     },
     "metadata": {},
     "output_type": "display_data"
    }
   ],
   "source": [
    "labels = clf.classes_\n",
    "fig, ax = plt.subplots(figsize=(10,5))\n",
    "sns.heatmap(data=confusion_matrix(y_test, y_pred), annot=True, \n",
    "            fmt=\"d\", xticklabels=labels, yticklabels=labels, ax=ax)\n",
    "plt.title(\"Confusion matrix\")\n",
    "plt.show()"
   ]
  },
  {
   "cell_type": "markdown",
   "metadata": {},
   "source": [
    "Макросредняя F1 мера увеличилась. Микросредняя F1 мера уменьшилась."
   ]
  },
  {
   "cell_type": "markdown",
   "metadata": {},
   "source": [
    "# 2.1"
   ]
  },
  {
   "cell_type": "markdown",
   "metadata": {},
   "source": [
    "# Выбор важных признаков"
   ]
  },
  {
   "cell_type": "markdown",
   "metadata": {},
   "source": [
    "l1 зануляет ненужные признаки и увеличивает значения важных"
   ]
  },
  {
   "cell_type": "code",
   "execution_count": 444,
   "metadata": {
    "collapsed": true
   },
   "outputs": [],
   "source": [
    "tfidf = TfidfVectorizer(stop_words=stops)\n",
    "tfidf.fit(train_data['normalized'].values)\n",
    "\n",
    "X_train = tfidf.transform(train_data['normalized'].values)\n",
    "X_test = tfidf.transform(test_data['normalized'].values)"
   ]
  },
  {
   "cell_type": "code",
   "execution_count": 445,
   "metadata": {},
   "outputs": [
    {
     "name": "stdout",
     "output_type": "stream",
     "text": [
      "При С = 0.01\n",
      "             precision    recall  f1-score   support\n",
      "\n",
      "         -1       0.00      0.00      0.00       902\n",
      "          0       0.47      1.00      0.64       972\n",
      "          1       0.00      0.00      0.00       180\n",
      "\n",
      "avg / total       0.22      0.47      0.30      2054\n",
      "\n",
      "Макросредняя F1 мера -  0.2141440846001322\n",
      "Микросредняя F1 мера -  0.47322297955209347\n",
      "При С = 0.1\n",
      "             precision    recall  f1-score   support\n",
      "\n",
      "         -1       0.68      0.09      0.17       902\n",
      "          0       0.49      0.97      0.65       972\n",
      "          1       1.00      0.01      0.01       180\n",
      "\n",
      "avg / total       0.62      0.50      0.38      2054\n",
      "\n",
      "Макросредняя F1 мера -  0.2749520858952191\n",
      "Микросредняя F1 мера -  0.49951314508276534\n",
      "При С = 1\n",
      "             precision    recall  f1-score   support\n",
      "\n",
      "         -1       0.72      0.52      0.60       902\n",
      "          0       0.60      0.82      0.69       972\n",
      "          1       0.44      0.17      0.25       180\n",
      "\n",
      "avg / total       0.64      0.63      0.61      2054\n",
      "\n",
      "Макросредняя F1 мера -  0.5141735459457094\n",
      "Микросредняя F1 мера -  0.6314508276533592\n"
     ]
    },
    {
     "name": "stderr",
     "output_type": "stream",
     "text": [
      "/anaconda3/lib/python3.6/site-packages/sklearn/metrics/classification.py:1135: UndefinedMetricWarning: Precision and F-score are ill-defined and being set to 0.0 in labels with no predicted samples.\n",
      "  'precision', 'predicted', average, warn_for)\n",
      "/anaconda3/lib/python3.6/site-packages/sklearn/metrics/classification.py:1135: UndefinedMetricWarning: F-score is ill-defined and being set to 0.0 in labels with no predicted samples.\n",
      "  'precision', 'predicted', average, warn_for)\n"
     ]
    },
    {
     "name": "stdout",
     "output_type": "stream",
     "text": [
      "При С = 10\n",
      "             precision    recall  f1-score   support\n",
      "\n",
      "         -1       0.72      0.61      0.66       902\n",
      "          0       0.65      0.76      0.70       972\n",
      "          1       0.35      0.31      0.33       180\n",
      "\n",
      "avg / total       0.66      0.65      0.65      2054\n",
      "\n",
      "Макросредняя F1 мера -  0.5646082216837843\n",
      "Микросредняя F1 мера -  0.6548198636806232\n",
      "При С = 100\n",
      "             precision    recall  f1-score   support\n",
      "\n",
      "         -1       0.69      0.58      0.63       902\n",
      "          0       0.63      0.73      0.68       972\n",
      "          1       0.34      0.33      0.34       180\n",
      "\n",
      "avg / total       0.63      0.63      0.63      2054\n",
      "\n",
      "Макросредняя F1 мера -  0.548872867753081\n",
      "Микросредняя F1 мера -  0.6299902629016553\n"
     ]
    }
   ],
   "source": [
    "for every_c in [0.01, 0.1, 1, 10, 100]:\n",
    "    clf = LogisticRegression(penalty=\"l1\", C=every_c)\n",
    "    clf.fit(X_train, y_train)\n",
    "    y_pred = clf.predict(X_test)\n",
    "    print('При С = ' + str(every_c))\n",
    "    print(classification_report(y_test, y_pred))\n",
    "    print('Макросредняя F1 мера - ',f1_score(y_test, y_pred, average='macro'))\n",
    "    print('Микросредняя F1 мера - ',f1_score(y_test, y_pred, average='micro'))"
   ]
  },
  {
   "cell_type": "code",
   "execution_count": 446,
   "metadata": {},
   "outputs": [
    {
     "name": "stdout",
     "output_type": "stream",
     "text": [
      "             precision    recall  f1-score   support\n",
      "\n",
      "         -1       0.72      0.61      0.66       902\n",
      "          0       0.65      0.76      0.70       972\n",
      "          1       0.36      0.31      0.33       180\n",
      "\n",
      "avg / total       0.66      0.66      0.65      2054\n",
      "\n",
      "Макросредняя F1 мера -  0.565377557562694\n",
      "Микросредняя F1 мера -  0.6553067185978578\n"
     ]
    },
    {
     "data": {
      "image/png": "[encoded data removed]",
      "text/plain": [
       "<matplotlib.figure.Figure at 0x10f2453c8>"
      ]
     },
     "metadata": {},
     "output_type": "display_data"
    }
   ],
   "source": [
    "clf = LogisticRegression(penalty=\"l1\", C=10)\n",
    "clf.fit(X_train, y_train)\n",
    "y_pred = clf.predict(X_test)\n",
    "print(classification_report(y_test, y_pred))\n",
    "print('Макросредняя F1 мера - ',f1_score(y_test, y_pred, average='macro'))\n",
    "print('Микросредняя F1 мера - ',f1_score(y_test, y_pred, average='micro'))\n",
    "\n",
    "labels = clf.classes_\n",
    "fig, ax = plt.subplots(figsize=(10,5))\n",
    "sns.heatmap(data=confusion_matrix(y_test, y_pred), annot=True, \n",
    "            fmt=\"d\", xticklabels=labels, yticklabels=labels, ax=ax)\n",
    "plt.title(\"Confusion matrix\")\n",
    "plt.show()"
   ]
  },
  {
   "cell_type": "code",
   "execution_count": 447,
   "metadata": {
    "collapsed": true
   },
   "outputs": [],
   "source": [
    "compare['Зануление неважных признаков'] = [round(f1_score(y_test, y_pred, average='macro'),4), round(f1_score(y_test, y_pred, average='micro'),4)]"
   ]
  },
  {
   "cell_type": "markdown",
   "metadata": {},
   "source": [
    "При регуляризации при лучшем коэффиценте (10) макросредняя F1 мера увеличилась. Микросредняя F1 мера стала чуть меньше."
   ]
  },
  {
   "cell_type": "markdown",
   "metadata": {},
   "source": [
    "# Стемминг"
   ]
  },
  {
   "cell_type": "code",
   "execution_count": 448,
   "metadata": {
    "collapsed": true
   },
   "outputs": [],
   "source": [
    "from nltk.stem.snowball import SnowballStemmer \n",
    "stemmer = SnowballStemmer('russian')\n",
    "\n",
    "def normalize_stem(text):\n",
    "    text = remove_sites(text)\n",
    "    text = remove_people(text)\n",
    "    stems = [stemmer.stem(token) for token in tknzr.tokenize(text)]\n",
    "    return ' '.join(stems)\n",
    "\n",
    "def clean_stem(text):\n",
    "    text = remove_sites(text)\n",
    "    text = remove_people(text)\n",
    "    text = normalize_stem(text)\n",
    "    return text"
   ]
  },
  {
   "cell_type": "code",
   "execution_count": 449,
   "metadata": {},
   "outputs": [],
   "source": [
    "train_data['stemming'] = train_data['text'].apply(clean_stem)\n",
    "test_data['stemming'] = test_data['text'].apply(clean_stem)"
   ]
  },
  {
   "cell_type": "code",
   "execution_count": 450,
   "metadata": {},
   "outputs": [
    {
     "data": {
      "text/html": [
       "<div>\n",
       "<style scoped>\n",
       "    .dataframe tbody tr th:only-of-type {\n",
       "        vertical-align: middle;\n",
       "    }\n",
       "\n",
       "    .dataframe tbody tr th {\n",
       "        vertical-align: top;\n",
       "    }\n",
       "\n",
       "    .dataframe thead th {\n",
       "        text-align: right;\n",
       "    }\n",
       "</style>\n",
       "<table border=\"1\" class=\"dataframe\">\n",
       "  <thead>\n",
       "    <tr style=\"text-align: right;\">\n",
       "      <th></th>\n",
       "      <th>label</th>\n",
       "      <th>text</th>\n",
       "      <th>normalized</th>\n",
       "      <th>stemming</th>\n",
       "    </tr>\n",
       "  </thead>\n",
       "  <tbody>\n",
       "    <tr>\n",
       "      <th>0</th>\n",
       "      <td>0</td>\n",
       "      <td>@mkomov Максим, Вашем письмо мы получили. Наши сотрудники свяжутся с Вами завтра и направят запрос инженерам для проверки. #билайн</td>\n",
       "      <td>максим , ваш письмо мы получить . наш сотрудник связаться с вы завтра и направить запрос инженер для проверка . #билайн</td>\n",
       "      <td>макс , ваш письм мы получ . наш сотрудник свяжут с вам завтр и направ запрос инженер для проверк . #билайн</td>\n",
       "    </tr>\n",
       "    <tr>\n",
       "      <th>1</th>\n",
       "      <td>0</td>\n",
       "      <td>«Мегафон» стал владельцем 50% акций «Евросети»</td>\n",
       "      <td>« мегафон » стать владелец 50 % акция « евросеть »</td>\n",
       "      <td>« мегафон » стал владельц 50 % акц « евросет »</td>\n",
       "    </tr>\n",
       "    <tr>\n",
       "      <th>2</th>\n",
       "      <td>-1</td>\n",
       "      <td>RT @fuckkiev: “@EvaKobb: МТС Россия прислала жителям Херсонщины сообщения, в которых обозвала украинцев фашистами? http://t.co/RbSesXlOUZ” …</td>\n",
       "      <td>rt “ мтс россия прислать житель херсонщина сообщение , в который обозвать украинец фашист ? …</td>\n",
       "      <td>RT “ мтс росс присла жител херсонщин сообщен , в котор обозва украинц фашист ? …</td>\n",
       "    </tr>\n",
       "    <tr>\n",
       "      <th>3</th>\n",
       "      <td>1</td>\n",
       "      <td>ВИДЕО: http://t.co/PSMLAhR4fI Реклама со смехом МТС - Супер 0</td>\n",
       "      <td>видео : реклама с смех мтс - супер 0</td>\n",
       "      <td>виде : реклам со смех мтс - супер 0</td>\n",
       "    </tr>\n",
       "    <tr>\n",
       "      <th>4</th>\n",
       "      <td>-1</td>\n",
       "      <td>@parfenov1960 потому что МТС достало, а пчел ненавижу с детства, как и их мёд!</td>\n",
       "      <td>потому что мтс достать , а пчела ненавидеть с детство , как и они мёд !</td>\n",
       "      <td>пот что мтс доста , а пчел ненавиж с детств , как и их мед !</td>\n",
       "    </tr>\n",
       "  </tbody>\n",
       "</table>\n",
       "</div>"
      ],
      "text/plain": [
       "   label  \\\n",
       "0      0   \n",
       "1      0   \n",
       "2     -1   \n",
       "3      1   \n",
       "4     -1   \n",
       "\n",
       "                                                                                                                                           text  \\\n",
       "0            @mkomov Максим, Вашем письмо мы получили. Наши сотрудники свяжутся с Вами завтра и направят запрос инженерам для проверки. #билайн   \n",
       "1                                                                                                «Мегафон» стал владельцем 50% акций «Евросети»   \n",
       "2  RT @fuckkiev: “@EvaKobb: МТС Россия прислала жителям Херсонщины сообщения, в которых обозвала украинцев фашистами? http://t.co/RbSesXlOUZ” …   \n",
       "3                                                                                 ВИДЕО: http://t.co/PSMLAhR4fI Реклама со смехом МТС - Супер 0   \n",
       "4                                                                @parfenov1960 потому что МТС достало, а пчел ненавижу с детства, как и их мёд!   \n",
       "\n",
       "                                                                                                                normalized  \\\n",
       "0  максим , ваш письмо мы получить . наш сотрудник связаться с вы завтра и направить запрос инженер для проверка . #билайн   \n",
       "1                                                                       « мегафон » стать владелец 50 % акция « евросеть »   \n",
       "2                            rt “ мтс россия прислать житель херсонщина сообщение , в который обозвать украинец фашист ? …   \n",
       "3                                                                                     видео : реклама с смех мтс - супер 0   \n",
       "4                                                  потому что мтс достать , а пчела ненавидеть с детство , как и они мёд !   \n",
       "\n",
       "                                                                                                     stemming  \n",
       "0  макс , ваш письм мы получ . наш сотрудник свяжут с вам завтр и направ запрос инженер для проверк . #билайн  \n",
       "1                                                              « мегафон » стал владельц 50 % акц « евросет »  \n",
       "2                            RT “ мтс росс присла жител херсонщин сообщен , в котор обозва украинц фашист ? …  \n",
       "3                                                                         виде : реклам со смех мтс - супер 0  \n",
       "4                                                пот что мтс доста , а пчел ненавиж с детств , как и их мед !  "
      ]
     },
     "execution_count": 450,
     "metadata": {},
     "output_type": "execute_result"
    }
   ],
   "source": [
    "train_data.head()"
   ]
  },
  {
   "cell_type": "code",
   "execution_count": 451,
   "metadata": {},
   "outputs": [
    {
     "name": "stdout",
     "output_type": "stream",
     "text": [
      "             precision    recall  f1-score   support\n",
      "\n",
      "         -1       0.74      0.63      0.68       902\n",
      "          0       0.67      0.77      0.71       972\n",
      "          1       0.30      0.29      0.29       180\n",
      "\n",
      "avg / total       0.67      0.66      0.66      2054\n",
      "\n",
      "Макросредняя F1 мера -  0.561783916893594\n",
      "Микросредняя F1 мера -  0.6630963972736125\n"
     ]
    },
    {
     "data": {
      "image/png": "[encoded data removed]",
      "text/plain": [
       "<matplotlib.figure.Figure at 0x11567f5c0>"
      ]
     },
     "metadata": {},
     "output_type": "display_data"
    }
   ],
   "source": [
    "tfidf = TfidfVectorizer(stop_words=stops)\n",
    "tfidf.fit(train_data['stemming'].values)\n",
    "\n",
    "X_train = tfidf.transform(train_data['stemming'].values)\n",
    "X_test = tfidf.transform(test_data['stemming'].values)\n",
    "\n",
    "clf = LogisticRegression(penalty=\"l1\", C=10)\n",
    "clf.fit(X_train, y_train)\n",
    "y_pred = clf.predict(X_test)\n",
    "print(classification_report(y_test, y_pred))\n",
    "print('Макросредняя F1 мера - ',f1_score(y_test, y_pred, average='macro'))\n",
    "print('Микросредняя F1 мера - ',f1_score(y_test, y_pred, average='micro'))\n",
    "\n",
    "labels = clf.classes_\n",
    "fig, ax = plt.subplots(figsize=(10,5))\n",
    "sns.heatmap(data=confusion_matrix(y_test, y_pred), annot=True, \n",
    "            fmt=\"d\", xticklabels=labels, yticklabels=labels, ax=ax)\n",
    "plt.title(\"Confusion matrix\")\n",
    "plt.show()"
   ]
  },
  {
   "cell_type": "markdown",
   "metadata": {},
   "source": [
    "Микросредняя F1 мера немного улучшилась. Но пока это лучший вариант. Подберём параметры."
   ]
  },
  {
   "cell_type": "code",
   "execution_count": 452,
   "metadata": {
    "collapsed": true
   },
   "outputs": [],
   "source": [
    "compare['Стемминг'] = [round(f1_score(y_test, y_pred, average='macro'),4), round(f1_score(y_test, y_pred, average='micro'),4)]"
   ]
  },
  {
   "cell_type": "markdown",
   "metadata": {},
   "source": [
    "# Подбор параметры в классификаторе и векторайзере"
   ]
  },
  {
   "cell_type": "markdown",
   "metadata": {},
   "source": [
    "Какие есть параметры?\n",
    "\n",
    "TfidfVectorizer: ngram_range (учитывание n-грамм; token_pattern='\\S+' (учитывает знаки препинания, смайлики: для нас это важно, так как учитывает когда много, например, знаков восклицания)\n",
    "\n",
    "LogisticRegression: class_weight=balanced (у нас несбалансированные классы, как было раньше указано, это сбалансирует выборку)"
   ]
  },
  {
   "cell_type": "code",
   "execution_count": 465,
   "metadata": {},
   "outputs": [],
   "source": [
    "from sklearn.pipeline import Pipeline\n",
    "from sklearn.grid_search import GridSearchCV"
   ]
  },
  {
   "cell_type": "code",
   "execution_count": 466,
   "metadata": {
    "collapsed": true
   },
   "outputs": [],
   "source": [
    "X_train = train_data['stemming'].values"
   ]
  },
  {
   "cell_type": "code",
   "execution_count": 467,
   "metadata": {},
   "outputs": [
    {
     "data": {
      "text/plain": [
       "(8208,)"
      ]
     },
     "execution_count": 467,
     "metadata": {},
     "output_type": "execute_result"
    }
   ],
   "source": [
    "X_train.shape"
   ]
  },
  {
   "cell_type": "code",
   "execution_count": 468,
   "metadata": {},
   "outputs": [
    {
     "data": {
      "text/plain": [
       "GridSearchCV(cv=3, error_score='raise',\n",
       "       estimator=Pipeline(memory=None,\n",
       "     steps=[('vect', TfidfVectorizer(analyzer='word', binary=False, decode_error='strict',\n",
       "        dtype=<class 'numpy.int64'>, encoding='utf-8', input='content',\n",
       "        lowercase=True, max_df=1.0, max_features=None, min_df=1,\n",
       "        ngram_range=(1, 1), norm='l2', preprocessor=None, smooth_idf=True,\n",
       "  ...ty='l1', random_state=None,\n",
       "          solver='liblinear', tol=0.0001, verbose=0, warm_start=False))]),\n",
       "       fit_params={}, iid=True, n_jobs=1,\n",
       "       param_grid={'vect__ngram_range': [(1, 1), (1, 2), (1, 3)]},\n",
       "       pre_dispatch='2*n_jobs', refit=True, scoring='f1_weighted',\n",
       "       verbose=0)"
      ]
     },
     "execution_count": 468,
     "metadata": {},
     "output_type": "execute_result"
    }
   ],
   "source": [
    "pipeline = Pipeline([\n",
    "    ('vect', TfidfVectorizer(stop_words=stops, token_pattern='\\S+')),\n",
    "    ('clf', LogisticRegression(penalty=\"l1\", C=10, class_weight='balanced')),\n",
    "])\n",
    "\n",
    "parameters = {\n",
    "    'vect__ngram_range': [(1, 1), (1, 2), (1, 3)]\n",
    "}\n",
    "\n",
    "grid = GridSearchCV(pipeline, parameters, cv=3, scoring='f1_weighted')\n",
    "grid.fit(X_train, y_train)"
   ]
  },
  {
   "cell_type": "code",
   "execution_count": 469,
   "metadata": {},
   "outputs": [],
   "source": [
    "X_test = test_data['stemming'].values"
   ]
  },
  {
   "cell_type": "code",
   "execution_count": 470,
   "metadata": {},
   "outputs": [
    {
     "name": "stdout",
     "output_type": "stream",
     "text": [
      "             precision    recall  f1-score   support\n",
      "\n",
      "         -1       0.70      0.71      0.70       902\n",
      "          0       0.72      0.69      0.70       972\n",
      "          1       0.27      0.32      0.30       180\n",
      "\n",
      "avg / total       0.67      0.66      0.67      2054\n",
      "\n",
      "Макросредняя F1 мера -  0.567481623735922\n",
      "Микросредняя F1 мера -  0.6645569620253164\n"
     ]
    },
    {
     "data": {
      "image/png": "[encoded data removed]",
      "text/plain": [
       "<matplotlib.figure.Figure at 0x1136b0dd8>"
      ]
     },
     "metadata": {},
     "output_type": "display_data"
    }
   ],
   "source": [
    "y_pred = grid.predict(X_test)\n",
    "print(classification_report(y_test, y_pred))\n",
    "print('Макросредняя F1 мера - ',f1_score(y_test, y_pred, average='macro'))\n",
    "print('Микросредняя F1 мера - ',f1_score(y_test, y_pred, average='micro'))\n",
    "\n",
    "labels = clf.classes_\n",
    "fig, ax = plt.subplots(figsize=(10,5))\n",
    "sns.heatmap(data=confusion_matrix(y_test, y_pred), annot=True, \n",
    "            fmt=\"d\", xticklabels=labels, yticklabels=labels, ax=ax)\n",
    "plt.title(\"Confusion matrix\")\n",
    "plt.ylabel('True label')\n",
    "plt.xlabel('Predicted label')\n",
    "plt.show()"
   ]
  },
  {
   "cell_type": "code",
   "execution_count": 459,
   "metadata": {
    "collapsed": true
   },
   "outputs": [],
   "source": [
    "compare['Лучшая модель'] = [round(f1_score(y_test, y_pred, average='macro'),4), round(f1_score(y_test, y_pred, average='micro'),4)]"
   ]
  },
  {
   "cell_type": "code",
   "execution_count": 460,
   "metadata": {},
   "outputs": [
    {
     "data": {
      "text/plain": [
       "{'vect__ngram_range': (1, 1)}"
      ]
     },
     "execution_count": 460,
     "metadata": {},
     "output_type": "execute_result"
    }
   ],
   "source": [
    "grid.best_params_"
   ]
  },
  {
   "cell_type": "markdown",
   "metadata": {},
   "source": [
    "Так метрики значительно улучшились, но проверим на всякий случай, как они работают на лемматизации."
   ]
  },
  {
   "cell_type": "code",
   "execution_count": 461,
   "metadata": {},
   "outputs": [
    {
     "name": "stdout",
     "output_type": "stream",
     "text": [
      "             precision    recall  f1-score   support\n",
      "\n",
      "         -1       0.73      0.64      0.68       902\n",
      "          0       0.67      0.75      0.71       972\n",
      "          1       0.35      0.36      0.35       180\n",
      "\n",
      "avg / total       0.67      0.67      0.67      2054\n",
      "\n",
      "Макросредняя F1 мера -  0.5808725480250316\n",
      "Микросредняя F1 мера -  0.6660175267770204\n"
     ]
    },
    {
     "data": {
      "image/png": "[encoded data removed]",
      "text/plain": [
       "<matplotlib.figure.Figure at 0x116eb8d30>"
      ]
     },
     "metadata": {},
     "output_type": "display_data"
    }
   ],
   "source": [
    "tfidf = TfidfVectorizer(stop_words=stops, token_pattern='\\S+', ngram_range=(1, 1))\n",
    "tfidf.fit(train_data['normalized'].values)\n",
    "\n",
    "X_train = tfidf.transform(train_data['normalized'].values)\n",
    "X_test = tfidf.transform(test_data['normalized'].values)\n",
    "\n",
    "clf = LogisticRegression(penalty=\"l1\", C=10, class_weight='balanced')\n",
    "clf.fit(X_train, y_train)\n",
    "y_pred = clf.predict(X_test)\n",
    "print(classification_report(y_test, y_pred))\n",
    "print('Макросредняя F1 мера - ',f1_score(y_test, y_pred, average='macro'))\n",
    "print('Микросредняя F1 мера - ',f1_score(y_test, y_pred, average='micro'))\n",
    "\n",
    "labels = clf.classes_\n",
    "fig, ax = plt.subplots(figsize=(10,5))\n",
    "sns.heatmap(data=confusion_matrix(y_test, y_pred), annot=True, \n",
    "            fmt=\"d\", xticklabels=labels, yticklabels=labels, ax=ax)\n",
    "plt.title(\"Confusion matrix\")\n",
    "plt.show()"
   ]
  },
  {
   "cell_type": "markdown",
   "metadata": {},
   "source": [
    "Результаты микросредней F1 меры ухудшились. Поэтому используем стеммер."
   ]
  },
  {
   "cell_type": "code",
   "execution_count": 462,
   "metadata": {
    "collapsed": true
   },
   "outputs": [],
   "source": [
    "compare_df = pd.DataFrame(data=compare)"
   ]
  },
  {
   "cell_type": "code",
   "execution_count": 463,
   "metadata": {},
   "outputs": [
    {
     "data": {
      "text/html": [
       "<div>\n",
       "<style scoped>\n",
       "    .dataframe tbody tr th:only-of-type {\n",
       "        vertical-align: middle;\n",
       "    }\n",
       "\n",
       "    .dataframe tbody tr th {\n",
       "        vertical-align: top;\n",
       "    }\n",
       "\n",
       "    .dataframe thead th {\n",
       "        text-align: right;\n",
       "    }\n",
       "</style>\n",
       "<table border=\"1\" class=\"dataframe\">\n",
       "  <thead>\n",
       "    <tr style=\"text-align: right;\">\n",
       "      <th></th>\n",
       "      <th>CountVectorizer</th>\n",
       "      <th>TfidfVectorizer</th>\n",
       "      <th>TfidfVectorizer c нормализацией (лемматизация)</th>\n",
       "      <th>Зануление неважных признаков</th>\n",
       "      <th>Лучшая модель</th>\n",
       "      <th>Стемминг</th>\n",
       "    </tr>\n",
       "  </thead>\n",
       "  <tbody>\n",
       "    <tr>\n",
       "      <th>0</th>\n",
       "      <td>0.4631</td>\n",
       "      <td>0.5176</td>\n",
       "      <td>0.5180</td>\n",
       "      <td>0.5654</td>\n",
       "      <td>0.5814</td>\n",
       "      <td>0.5618</td>\n",
       "    </tr>\n",
       "    <tr>\n",
       "      <th>1</th>\n",
       "      <td>0.6388</td>\n",
       "      <td>0.6714</td>\n",
       "      <td>0.6636</td>\n",
       "      <td>0.6553</td>\n",
       "      <td>0.6767</td>\n",
       "      <td>0.6631</td>\n",
       "    </tr>\n",
       "  </tbody>\n",
       "</table>\n",
       "</div>"
      ],
      "text/plain": [
       "   CountVectorizer  TfidfVectorizer  \\\n",
       "0           0.4631           0.5176   \n",
       "1           0.6388           0.6714   \n",
       "\n",
       "   TfidfVectorizer c нормализацией (лемматизация)  \\\n",
       "0                                          0.5180   \n",
       "1                                          0.6636   \n",
       "\n",
       "   Зануление неважных признаков  Лучшая модель  Стемминг  \n",
       "0                        0.5654         0.5814    0.5618  \n",
       "1                        0.6553         0.6767    0.6631  "
      ]
     },
     "execution_count": 463,
     "metadata": {},
     "output_type": "execute_result"
    }
   ],
   "source": [
    "compare_df"
   ]
  },
  {
   "cell_type": "markdown",
   "metadata": {},
   "source": [
    "# Признаки"
   ]
  },
  {
   "cell_type": "code",
   "execution_count": 397,
   "metadata": {},
   "outputs": [],
   "source": [
    "def print_important(vectorizer, clf, topn=10):\n",
    "    features = vectorizer.get_feature_names()\n",
    "    classes = clf.classes_\n",
    "    importances = clf.coef_\n",
    "    d = {}\n",
    "    for i, cls in enumerate(classes):\n",
    "        #print('Значимые слова для класса - ', cls)\n",
    "        important_words = sorted(list(zip(features, importances[i])), key=lambda x: abs(x[1]), reverse=True)[:topn]\n",
    "        #print(important_words)\n",
    "        d[cls] = important_words\n",
    "    return d   "
   ]
  },
  {
   "cell_type": "code",
   "execution_count": 398,
   "metadata": {},
   "outputs": [],
   "source": [
    "d = print_important(tfidf, clf)"
   ]
  },
  {
   "cell_type": "code",
   "execution_count": 399,
   "metadata": {
    "collapsed": true
   },
   "outputs": [],
   "source": [
    "d = pd.DataFrame(data=d)"
   ]
  },
  {
   "cell_type": "code",
   "execution_count": 400,
   "metadata": {},
   "outputs": [
    {
     "data": {
      "text/html": [
       "<div>\n",
       "<style scoped>\n",
       "    .dataframe tbody tr th:only-of-type {\n",
       "        vertical-align: middle;\n",
       "    }\n",
       "\n",
       "    .dataframe tbody tr th {\n",
       "        vertical-align: top;\n",
       "    }\n",
       "\n",
       "    .dataframe thead th {\n",
       "        text-align: right;\n",
       "    }\n",
       "</style>\n",
       "<table border=\"1\" class=\"dataframe\">\n",
       "  <thead>\n",
       "    <tr style=\"text-align: right;\">\n",
       "      <th></th>\n",
       "      <th>-1</th>\n",
       "      <th>0</th>\n",
       "      <th>1</th>\n",
       "    </tr>\n",
       "  </thead>\n",
       "  <tbody>\n",
       "    <tr>\n",
       "      <th>0</th>\n",
       "      <td>(задолженность, 21.425914074039255)</td>\n",
       "      <td>(задолженность, -20.54003479324421)</td>\n",
       "      <td>(свести, 28.05396321783229)</td>\n",
       "    </tr>\n",
       "    <tr>\n",
       "      <th>1</th>\n",
       "      <td>(оштрафовать, 21.08986630895202)</td>\n",
       "      <td>(гавный, -19.41637426495607)</td>\n",
       "      <td>(понравиться, 26.070250840958536)</td>\n",
       "    </tr>\n",
       "    <tr>\n",
       "      <th>2</th>\n",
       "      <td>(неужели, 18.427556630588672)</td>\n",
       "      <td>(восстановление, 18.40196658940615)</td>\n",
       "      <td>(топ, 20.66550295222239)</td>\n",
       "    </tr>\n",
       "    <tr>\n",
       "      <th>3</th>\n",
       "      <td>(говно, 18.11479503260317)</td>\n",
       "      <td>(доллар, 15.641164898738596)</td>\n",
       "      <td>(подарочек, 20.139561405829184)</td>\n",
       "    </tr>\n",
       "    <tr>\n",
       "      <th>4</th>\n",
       "      <td>(tele, -18.051877200830894)</td>\n",
       "      <td>(вспомнить, 15.538204373633416)</td>\n",
       "      <td>(вброса, 20.098063165425465)</td>\n",
       "    </tr>\n",
       "    <tr>\n",
       "      <th>5</th>\n",
       "      <td>(расценка, 17.686777514621916)</td>\n",
       "      <td>(заебал, -15.419531099973296)</td>\n",
       "      <td>(мтс-россия, 18.85422859898097)</td>\n",
       "    </tr>\n",
       "    <tr>\n",
       "      <th>6</th>\n",
       "      <td>(#сбербанк, 17.434075666619634)</td>\n",
       "      <td>(ловить, -15.169939029113488)</td>\n",
       "      <td>(интернет-магазин, 17.86130114456101)</td>\n",
       "    </tr>\n",
       "    <tr>\n",
       "      <th>7</th>\n",
       "      <td>(хуй, 17.129957082617516)</td>\n",
       "      <td>(иа, 15.101087722157727)</td>\n",
       "      <td>(интернетом-доступ, -17.73313378756862)</td>\n",
       "    </tr>\n",
       "    <tr>\n",
       "      <th>8</th>\n",
       "      <td>(атаковать, 16.73396645272344)</td>\n",
       "      <td>(расторгнуть, -15.048798522717693)</td>\n",
       "      <td>(защита, 17.72065453567373)</td>\n",
       "    </tr>\n",
       "    <tr>\n",
       "      <th>9</th>\n",
       "      <td>(угроза, 16.620545347025395)</td>\n",
       "      <td>(оштрафовать, -14.989840015452613)</td>\n",
       "      <td>(ёмкость, 17.612651390008395)</td>\n",
       "    </tr>\n",
       "  </tbody>\n",
       "</table>\n",
       "</div>"
      ],
      "text/plain": [
       "                                    -1                                    0  \\\n",
       "0  (задолженность, 21.425914074039255)  (задолженность, -20.54003479324421)   \n",
       "1     (оштрафовать, 21.08986630895202)         (гавный, -19.41637426495607)   \n",
       "2        (неужели, 18.427556630588672)  (восстановление, 18.40196658940615)   \n",
       "3           (говно, 18.11479503260317)         (доллар, 15.641164898738596)   \n",
       "4          (tele, -18.051877200830894)      (вспомнить, 15.538204373633416)   \n",
       "5       (расценка, 17.686777514621916)        (заебал, -15.419531099973296)   \n",
       "6      (#сбербанк, 17.434075666619634)        (ловить, -15.169939029113488)   \n",
       "7            (хуй, 17.129957082617516)             (иа, 15.101087722157727)   \n",
       "8       (атаковать, 16.73396645272344)   (расторгнуть, -15.048798522717693)   \n",
       "9         (угроза, 16.620545347025395)   (оштрафовать, -14.989840015452613)   \n",
       "\n",
       "                                         1  \n",
       "0              (свести, 28.05396321783229)  \n",
       "1        (понравиться, 26.070250840958536)  \n",
       "2                 (топ, 20.66550295222239)  \n",
       "3          (подарочек, 20.139561405829184)  \n",
       "4             (вброса, 20.098063165425465)  \n",
       "5          (мтс-россия, 18.85422859898097)  \n",
       "6    (интернет-магазин, 17.86130114456101)  \n",
       "7  (интернетом-доступ, -17.73313378756862)  \n",
       "8              (защита, 17.72065453567373)  \n",
       "9            (ёмкость, 17.612651390008395)  "
      ]
     },
     "execution_count": 400,
     "metadata": {},
     "output_type": "execute_result"
    }
   ],
   "source": [
    "d"
   ]
  }
 ],
 "metadata": {
  "kernelspec": {
   "display_name": "Python 3",
   "language": "python",
   "name": "python3"
  },
  "language_info": {
   "codemirror_mode": {
    "name": "ipython",
    "version": 3
   },
   "file_extension": ".py",
   "mimetype": "text/x-python",
   "name": "python",
   "nbconvert_exporter": "python",
   "pygments_lexer": "ipython3",
   "version": "3.6.3"
  }
 },
 "nbformat": 4,
 "nbformat_minor": 2
}
