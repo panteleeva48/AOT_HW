{
 "cells": [
  {
   "cell_type": "code",
   "execution_count": 439,
   "metadata": {
    "collapsed": true
   },
   "outputs": [],
   "source": [
    "from pymystem3 import Mystem\n",
    "mystem = Mystem()\n",
    "from string import punctuation\n",
    "import re\n",
    "import os\n",
    "import string\n",
    "import pandas as pd\n",
    "from sklearn.feature_extraction.text import TfidfVectorizer\n",
    "from nltk.corpus import stopwords\n",
    "import numpy as np\n",
    "import nltk\n",
    "import re\n",
    "from math import *"
   ]
  },
  {
   "cell_type": "code",
   "execution_count": 440,
   "metadata": {
    "collapsed": true
   },
   "outputs": [],
   "source": [
    "def read_file(name_file):\n",
    "    f = open(name_file, 'r')\n",
    "    f_r = f.read()\n",
    "    return f_r"
   ]
  },
  {
   "cell_type": "code",
   "execution_count": 441,
   "metadata": {
    "collapsed": true
   },
   "outputs": [],
   "source": [
    "def remove_tags(text):\n",
    "    no_tags_text = re.sub(r'<[^>]+>', ' ', text)\n",
    "    no_space_sequences_text = re.sub('  +', ' ', no_tags_text)\n",
    "    return no_space_sequences_text"
   ]
  },
  {
   "cell_type": "code",
   "execution_count": 442,
   "metadata": {
    "collapsed": true
   },
   "outputs": [],
   "source": [
    "def remove_sites(text):\n",
    "    no_sites_text = re.sub(r'(https?:\\/\\/)?([\\da-z\\.-]+)\\.([a-z\\.]{2,6})([\\/\\w\\.-]*)*\\/?\\S', ' ', text, flags=re.MULTILINE)\n",
    "    no_space_sequences_text = re.sub('  +', ' ', no_sites_text)\n",
    "    return no_space_sequences_text"
   ]
  },
  {
   "cell_type": "code",
   "execution_count": 443,
   "metadata": {
    "collapsed": true
   },
   "outputs": [],
   "source": [
    "file_paths_lst = []\n",
    "for root, dirs, files in os.walk('/Users/irene/Downloads/HW1/texts'):  \n",
    "    for filename in files:\n",
    "        path = '/Users/irene/Downloads/HW1/texts/' + filename\n",
    "        file_paths_lst.append(path)"
   ]
  },
  {
   "cell_type": "code",
   "execution_count": 444,
   "metadata": {},
   "outputs": [
    {
     "data": {
      "text/plain": [
       "['/Users/irene/Downloads/HW1/texts/100_1.txt',\n",
       " '/Users/irene/Downloads/HW1/texts/100_10.txt',\n",
       " '/Users/irene/Downloads/HW1/texts/100_2.txt',\n",
       " '/Users/irene/Downloads/HW1/texts/100_3.txt',\n",
       " '/Users/irene/Downloads/HW1/texts/100_4.txt',\n",
       " '/Users/irene/Downloads/HW1/texts/100_5.txt',\n",
       " '/Users/irene/Downloads/HW1/texts/100_6.txt',\n",
       " '/Users/irene/Downloads/HW1/texts/100_7.txt',\n",
       " '/Users/irene/Downloads/HW1/texts/100_8.txt',\n",
       " '/Users/irene/Downloads/HW1/texts/100_9.txt']"
      ]
     },
     "execution_count": 444,
     "metadata": {},
     "output_type": "execute_result"
    }
   ],
   "source": [
    "file_paths_lst[0:10]"
   ]
  },
  {
   "cell_type": "markdown",
   "metadata": {},
   "source": [
    "# 1.1"
   ]
  },
  {
   "cell_type": "markdown",
   "metadata": {},
   "source": [
    "## Ключевые слова выделены жирным курсивом."
   ]
  },
  {
   "cell_type": "markdown",
   "metadata": {},
   "source": [
    " Российская газета \n",
    "   Автор: Наталья Козлова \n",
    "Регион: Общероссийский выпуск \n",
    "  \n",
    "Появился новый  **свидетель** **ДТП**, в котором  **погибла** Марина **Голуб**\n",
    "     После санкции суда на арест виновника аварии, в которой погибла \n",
    "известная **актриса**, можно утверждать, что расследование пошло полным ходом. \n",
    "     Сразу после первых очных ставок стало понятно - очевидцы страшной \n",
    "**аварии** на юго-западе Москвы опознали 31-летнего Алексея Русакова как \n",
    "водителя автомобиля, протаранившего авто, в котором ехала актриса Марина \n",
    "Голуб. Об этом сообщил следователь в Тверском районном суде Москвы, когда \n",
    "попросил у суда санкции на арест Русакова. \n",
    "     А вчера все информагентства распространили слова одного из ключевых \n",
    "свидетелей по делу. Как рассказал водитель машины, которая пострадала в том \n",
    "же ДТП, где погибла Голуб, автомобиль с актрисой начал движение на \n",
    "перекрестке чуть раньше, чем на светофоре загорелся зеленый. Русаков \n",
    "утверждает, что начал движение на желтый и газанул, чтобы завершить маневр. \n",
    "Со слов еще одного потерпевшего выходило, что его автомобиль двигался \n",
    "навстречу машине с актрисой, и если бы он поехал чуть раньше, то виновник \n",
    "аварии врезался бы в него. \n",
    "     Интернет тут же взорвался комментариями этих слов, большинство из \n",
    "которых сводилось к нехитрой формуле - адвокаты договорились и теперь будут \n",
    "выгораживать **виновника** аварии. Действительно ли подобные показания, когда \n",
    "правила нарушили оба водителя, могут повлиять на результаты расследования? \n",
    "     Ну, во-первых, пока слова свидетеля и потерпевшего всего лишь слова. \n",
    "Их оценку еще предстоит дать и следствию, и потом **суду**. Но одних слов для \n",
    "перевода аварии в \"обоюдное\" неправильное действие мало. Это должны \n",
    "подтвердить несколько экспертиз. В первую очередь автотехническая. \n",
    "Специалисты должны снять показания светофора и составить схему-график, из \n",
    "которой будет понятно, кто когда и куда ехал. \n",
    "      Свое слово скажет и экспертное заключение картинки с камер \n",
    "видеонаблюдения. Напомним, авария попала, пусть не полностью, в объективы \n",
    "камер. Так что появление свидетеля с другой версией еще ровным счетом \n",
    "ничего не значит. А все журналисты ухватились за новые детали, не \n",
    "выгораживая виновника аварии, а лишь потому, что следствие ушло в глухую \n",
    "защиту, не считая возможным сообщать общественности о расследовании, \n",
    "которое сегодня волнует очень многих. Русаков уже заявил, что признает свою \n",
    "вину, и попросил прощения у родных погибших. Но продолжает настаивать на \n",
    "том, что его появление на людях - это явка с повинной. Следствие не \n",
    "согласно. \n",
    "     Пока лихачу предъявили обвинение по двум статьям УК. Невесту Русакова \n",
    "подозревают в укрывательстве. Но ей пока ничего не предъявили. \n",
    " \n",
    " Школьникам сделают социальную сеть и поисковик  "
   ]
  },
  {
   "cell_type": "code",
   "execution_count": 445,
   "metadata": {
    "collapsed": true
   },
   "outputs": [],
   "source": [
    "ws = ['свидетель', 'ДТП', 'погибнуть', 'Голуб', 'актриса', 'авария', 'виновник', 'суд']"
   ]
  },
  {
   "cell_type": "code",
   "execution_count": 446,
   "metadata": {},
   "outputs": [
    {
     "name": "stdout",
     "output_type": "stream",
     "text": [
      "Ключевыми словами по моему мнению являются:\n",
      "свидетель\n",
      "ДТП\n",
      "погибнуть\n",
      "Голуб\n",
      "актриса\n",
      "авария\n",
      "виновник\n",
      "суд\n"
     ]
    }
   ],
   "source": [
    "print('Ключевыми словами по моему мнению являются:')\n",
    "for w in ws:\n",
    "    print(w)"
   ]
  },
  {
   "cell_type": "code",
   "execution_count": 447,
   "metadata": {
    "collapsed": true
   },
   "outputs": [],
   "source": [
    "df_fr = pd.read_csv('/Users/irene/Downloads/HW1/freqrnc2011.csv', header=None, sep='\\t')"
   ]
  },
  {
   "cell_type": "code",
   "execution_count": 448,
   "metadata": {},
   "outputs": [
    {
     "data": {
      "text/html": [
       "<div>\n",
       "<style scoped>\n",
       "    .dataframe tbody tr th:only-of-type {\n",
       "        vertical-align: middle;\n",
       "    }\n",
       "\n",
       "    .dataframe tbody tr th {\n",
       "        vertical-align: top;\n",
       "    }\n",
       "\n",
       "    .dataframe thead th {\n",
       "        text-align: right;\n",
       "    }\n",
       "</style>\n",
       "<table border=\"1\" class=\"dataframe\">\n",
       "  <thead>\n",
       "    <tr style=\"text-align: right;\">\n",
       "      <th></th>\n",
       "      <th>0</th>\n",
       "      <th>1</th>\n",
       "      <th>2</th>\n",
       "      <th>3</th>\n",
       "      <th>4</th>\n",
       "      <th>5</th>\n",
       "    </tr>\n",
       "  </thead>\n",
       "  <tbody>\n",
       "    <tr>\n",
       "      <th>0</th>\n",
       "      <td>а</td>\n",
       "      <td>conj</td>\n",
       "      <td>8198.0</td>\n",
       "      <td>100</td>\n",
       "      <td>97</td>\n",
       "      <td>32332</td>\n",
       "    </tr>\n",
       "    <tr>\n",
       "      <th>1</th>\n",
       "      <td>а</td>\n",
       "      <td>intj</td>\n",
       "      <td>19.8</td>\n",
       "      <td>99</td>\n",
       "      <td>90</td>\n",
       "      <td>757</td>\n",
       "    </tr>\n",
       "    <tr>\n",
       "      <th>2</th>\n",
       "      <td>а</td>\n",
       "      <td>part</td>\n",
       "      <td>6.1</td>\n",
       "      <td>59</td>\n",
       "      <td>79</td>\n",
       "      <td>128</td>\n",
       "    </tr>\n",
       "    <tr>\n",
       "      <th>3</th>\n",
       "      <td>а</td>\n",
       "      <td>s</td>\n",
       "      <td>2.7</td>\n",
       "      <td>59</td>\n",
       "      <td>85</td>\n",
       "      <td>160</td>\n",
       "    </tr>\n",
       "    <tr>\n",
       "      <th>4</th>\n",
       "      <td>аа</td>\n",
       "      <td>intj</td>\n",
       "      <td>1.5</td>\n",
       "      <td>47</td>\n",
       "      <td>80</td>\n",
       "      <td>68</td>\n",
       "    </tr>\n",
       "  </tbody>\n",
       "</table>\n",
       "</div>"
      ],
      "text/plain": [
       "    0     1       2    3   4      5\n",
       "0   а  conj  8198.0  100  97  32332\n",
       "1   а  intj    19.8   99  90    757\n",
       "2   а  part     6.1   59  79    128\n",
       "3   а     s     2.7   59  85    160\n",
       "4  аа  intj     1.5   47  80     68"
      ]
     },
     "execution_count": 448,
     "metadata": {},
     "output_type": "execute_result"
    }
   ],
   "source": [
    "df_fr.head()"
   ]
  },
  {
   "cell_type": "code",
   "execution_count": 449,
   "metadata": {
    "collapsed": true
   },
   "outputs": [],
   "source": [
    "new_df = df_fr.loc[df_fr[0].isin(ws)][[0, 1, 2]].sort_values(by=2, ascending=0)"
   ]
  },
  {
   "cell_type": "code",
   "execution_count": 450,
   "metadata": {
    "collapsed": true
   },
   "outputs": [],
   "source": [
    "df2_fr = pd.DataFrame([['Голуб', 's.PROP', 0]], columns=[0, 1, 2])\n",
    "new_df = new_df.append(df2_fr)"
   ]
  },
  {
   "cell_type": "code",
   "execution_count": 451,
   "metadata": {},
   "outputs": [
    {
     "data": {
      "text/html": [
       "<div>\n",
       "<style scoped>\n",
       "    .dataframe tbody tr th:only-of-type {\n",
       "        vertical-align: middle;\n",
       "    }\n",
       "\n",
       "    .dataframe tbody tr th {\n",
       "        vertical-align: top;\n",
       "    }\n",
       "\n",
       "    .dataframe thead th {\n",
       "        text-align: right;\n",
       "    }\n",
       "</style>\n",
       "<table border=\"1\" class=\"dataframe\">\n",
       "  <thead>\n",
       "    <tr style=\"text-align: right;\">\n",
       "      <th></th>\n",
       "      <th>0</th>\n",
       "      <th>1</th>\n",
       "      <th>2</th>\n",
       "    </tr>\n",
       "  </thead>\n",
       "  <tbody>\n",
       "    <tr>\n",
       "      <th>44416</th>\n",
       "      <td>суд</td>\n",
       "      <td>s</td>\n",
       "      <td>371.1</td>\n",
       "    </tr>\n",
       "    <tr>\n",
       "      <th>31226</th>\n",
       "      <td>погибнуть</td>\n",
       "      <td>v</td>\n",
       "      <td>95.4</td>\n",
       "    </tr>\n",
       "    <tr>\n",
       "      <th>40653</th>\n",
       "      <td>свидетель</td>\n",
       "      <td>s</td>\n",
       "      <td>55.7</td>\n",
       "    </tr>\n",
       "    <tr>\n",
       "      <th>486</th>\n",
       "      <td>актриса</td>\n",
       "      <td>s</td>\n",
       "      <td>40.4</td>\n",
       "    </tr>\n",
       "    <tr>\n",
       "      <th>80</th>\n",
       "      <td>авария</td>\n",
       "      <td>s</td>\n",
       "      <td>29.6</td>\n",
       "    </tr>\n",
       "    <tr>\n",
       "      <th>4705</th>\n",
       "      <td>виновник</td>\n",
       "      <td>s</td>\n",
       "      <td>8.5</td>\n",
       "    </tr>\n",
       "    <tr>\n",
       "      <th>10738</th>\n",
       "      <td>ДТП</td>\n",
       "      <td>s.PROP</td>\n",
       "      <td>5.7</td>\n",
       "    </tr>\n",
       "    <tr>\n",
       "      <th>0</th>\n",
       "      <td>Голуб</td>\n",
       "      <td>s.PROP</td>\n",
       "      <td>0.0</td>\n",
       "    </tr>\n",
       "  </tbody>\n",
       "</table>\n",
       "</div>"
      ],
      "text/plain": [
       "               0       1      2\n",
       "44416        суд       s  371.1\n",
       "31226  погибнуть       v   95.4\n",
       "40653  свидетель       s   55.7\n",
       "486      актриса       s   40.4\n",
       "80        авария       s   29.6\n",
       "4705    виновник       s    8.5\n",
       "10738        ДТП  s.PROP    5.7\n",
       "0          Голуб  s.PROP    0.0"
      ]
     },
     "execution_count": 451,
     "metadata": {},
     "output_type": "execute_result"
    }
   ],
   "source": [
    "new_df"
   ]
  },
  {
   "cell_type": "markdown",
   "metadata": {},
   "source": [
    "### Есть ли среди выбранных вами ключевых слов редкие слова?\n",
    "Да, есть. Во-первых, это **Голуб** (не встретилось в частотном словаре, но мне показалось, что это имя может считаться ключевым, так как может возникать во многих новостных текстах). Во-вторых, с маленькой частотностью можно считать слова **виновник**, **ДТП**(те, что ipm меньше 10)."
   ]
  },
  {
   "cell_type": "code",
   "execution_count": 452,
   "metadata": {
    "collapsed": true
   },
   "outputs": [],
   "source": [
    "stop_words = stopwords.words('russian')"
   ]
  },
  {
   "cell_type": "code",
   "execution_count": 453,
   "metadata": {},
   "outputs": [],
   "source": [
    "df_fr_without_stop = df_fr.loc[~df_fr[0].isin(stop_words)][[0, 1, 2]].sort_values(by=2, ascending=0)"
   ]
  },
  {
   "cell_type": "code",
   "execution_count": 454,
   "metadata": {},
   "outputs": [],
   "source": [
    "topfh = df_fr_without_stop.iloc[500][2]"
   ]
  },
  {
   "cell_type": "code",
   "execution_count": 455,
   "metadata": {},
   "outputs": [
    {
     "name": "stdout",
     "output_type": "stream",
     "text": [
      "Топ 500 по частоте заканчивается на 183.9.\n"
     ]
    }
   ],
   "source": [
    "print('Топ 500 по частоте заканчивается на ' + str(topfh) + '.')"
   ]
  },
  {
   "cell_type": "markdown",
   "metadata": {},
   "source": [
    "### Есть ли среди выбранных вами слов слова, вошедшие в топ 500 по частоте?\n",
    "Да, есть. Это слово **суд** (371.1 > 183.9)."
   ]
  },
  {
   "cell_type": "markdown",
   "metadata": {},
   "source": [
    "### К каким частям речи относятся выбранные вами слова, слов какой части речи больше?\n",
    "1 глагол (**погибнуть**)), остальные 7 существительные (включая имена собственные: **ДТП**, **Голуб**)"
   ]
  },
  {
   "cell_type": "code",
   "execution_count": 456,
   "metadata": {
    "collapsed": true
   },
   "outputs": [],
   "source": [
    "def string_text(text_path):\n",
    "    t = read_file(text_path)\n",
    "    tt = remove_tags(t.lower())\n",
    "    ttt = remove_sites(tt)\n",
    "    ttt = re.sub('[0-9]', '', ttt)\n",
    "    punct_extended = string.punctuation + '«»—…“”'\n",
    "    table = str.maketrans({ch: None for ch in punct_extended})\n",
    "    tokens_lst = k = [word.translate(table) for word in ttt.split()]\n",
    "    string_tokens = ''\n",
    "    for token in tokens_lst:\n",
    "        string_tokens = string_tokens + token + ' '\n",
    "    lemmas_lst = mystem.lemmatize(string_tokens)\n",
    "    string_lemmas = ''\n",
    "    length =len(lemmas_lst)\n",
    "    for lemma in lemmas_lst:\n",
    "        string_lemmas = string_lemmas + lemma + ''\n",
    "    string_lemmas = re.sub('  +', ' ', string_lemmas)\n",
    "    return string_lemmas[0:-2], length"
   ]
  },
  {
   "cell_type": "code",
   "execution_count": 457,
   "metadata": {
    "collapsed": true
   },
   "outputs": [],
   "source": [
    "d = {'name': [], 'string': [], 'length': []}\n",
    "for path in file_paths_lst[0:350]:\n",
    "    string_lemmas, length = string_text(path)\n",
    "    d['name'].append(path)\n",
    "    d['string'].append(string_lemmas)\n",
    "    d['length'].append(length)"
   ]
  },
  {
   "cell_type": "code",
   "execution_count": 458,
   "metadata": {
    "collapsed": true
   },
   "outputs": [],
   "source": [
    "df = pd.DataFrame(data=d)"
   ]
  },
  {
   "cell_type": "code",
   "execution_count": 459,
   "metadata": {},
   "outputs": [
    {
     "name": "stdout",
     "output_type": "stream",
     "text": [
      "Документов: 350. Количество словоупотреблений: 558894\n"
     ]
    }
   ],
   "source": [
    "print('Документов: 350. ' + 'Количество словоупотреблений: ' + str(sum(df['length'])))"
   ]
  },
  {
   "cell_type": "code",
   "execution_count": 460,
   "metadata": {
    "collapsed": true
   },
   "outputs": [],
   "source": [
    "def find_w(strings, word):\n",
    "    i = 0\n",
    "    for every_str in strings:\n",
    "        if word in every_str:\n",
    "            i += 1\n",
    "    return i"
   ]
  },
  {
   "cell_type": "code",
   "execution_count": 461,
   "metadata": {},
   "outputs": [
    {
     "name": "stdout",
     "output_type": "stream",
     "text": [
      "свидетель встретилось в 35 текстах.\n",
      "ДТП встретилось в 0 текстах.\n",
      "погибнуть встретилось в 0 текстах.\n",
      "Голуб встретилось в 0 текстах.\n",
      "актриса встретилось в 11 текстах.\n",
      "авария встретилось в 7 текстах.\n",
      "виновник встретилось в 3 текстах.\n",
      "суд встретилось в 196 текстах.\n"
     ]
    }
   ],
   "source": [
    "for w in ws:\n",
    "    i = find_w(d['string'], w)\n",
    "    print(w, 'встретилось в', str(i), 'текстах.')"
   ]
  },
  {
   "cell_type": "markdown",
   "metadata": {},
   "source": [
    "### Какие слова встретились во всех или в большинстве документов? Каковы их грамматические характеристики\n",
    "**суд** встретился в большинстве текстах (196 из 350). Это существительное."
   ]
  },
  {
   "cell_type": "code",
   "execution_count": 462,
   "metadata": {
    "collapsed": true
   },
   "outputs": [],
   "source": [
    "w_f = []\n",
    "f_f = []\n",
    "for one in new_df[0]:\n",
    "    w_f.append(one)"
   ]
  },
  {
   "cell_type": "code",
   "execution_count": 463,
   "metadata": {
    "collapsed": true
   },
   "outputs": [],
   "source": [
    "for one1 in new_df[2]:\n",
    "    f_f.append(one1)"
   ]
  },
  {
   "cell_type": "code",
   "execution_count": 464,
   "metadata": {
    "collapsed": true
   },
   "outputs": [],
   "source": [
    "k = 0\n",
    "string_f = ''\n",
    "for w in w_f:\n",
    "    string_f = string_f + w + '; ' + str(f_f[k]) + '\\n'\n",
    "    k += 1"
   ]
  },
  {
   "cell_type": "code",
   "execution_count": 465,
   "metadata": {},
   "outputs": [
    {
     "data": {
      "text/plain": [
       "'суд; 371.1\\nпогибнуть; 95.4\\nсвидетель; 55.7\\nактриса; 40.4\\nавария; 29.6\\nвиновник; 8.5\\nДТП; 5.7\\nГолуб; 0.0\\n'"
      ]
     },
     "execution_count": 465,
     "metadata": {},
     "output_type": "execute_result"
    }
   ],
   "source": [
    "string_f"
   ]
  },
  {
   "cell_type": "code",
   "execution_count": 466,
   "metadata": {},
   "outputs": [],
   "source": [
    "f = open('HW1_Panteleeva_KeyWords.txt', 'w')\n",
    "f.write(string_f)\n",
    "f.close()"
   ]
  },
  {
   "cell_type": "markdown",
   "metadata": {},
   "source": [
    "# 1.2"
   ]
  },
  {
   "cell_type": "code",
   "execution_count": 467,
   "metadata": {
    "collapsed": true
   },
   "outputs": [],
   "source": [
    "corpus = df['string']\n",
    "tfidf = TfidfVectorizer(stop_words=stop_words)\n",
    "tfs = tfidf.fit_transform(corpus)"
   ]
  },
  {
   "cell_type": "code",
   "execution_count": 468,
   "metadata": {},
   "outputs": [
    {
     "data": {
      "text/plain": [
       "(350, 22381)"
      ]
     },
     "execution_count": 468,
     "metadata": {},
     "output_type": "execute_result"
    }
   ],
   "source": [
    "tfs.shape"
   ]
  },
  {
   "cell_type": "code",
   "execution_count": 469,
   "metadata": {
    "collapsed": true
   },
   "outputs": [],
   "source": [
    "feature_names = tfidf.get_feature_names()"
   ]
  },
  {
   "cell_type": "code",
   "execution_count": 470,
   "metadata": {},
   "outputs": [],
   "source": [
    "matrix = pd.DataFrame(tfs.toarray(), columns=feature_names)"
   ]
  },
  {
   "cell_type": "markdown",
   "metadata": {},
   "source": [
    "## Матрица tеrm*document с указанием tf.idf для для всей коллекции"
   ]
  },
  {
   "cell_type": "code",
   "execution_count": 471,
   "metadata": {},
   "outputs": [
    {
     "data": {
      "text/html": [
       "<div>\n",
       "<style scoped>\n",
       "    .dataframe tbody tr th:only-of-type {\n",
       "        vertical-align: middle;\n",
       "    }\n",
       "\n",
       "    .dataframe tbody tr th {\n",
       "        vertical-align: top;\n",
       "    }\n",
       "\n",
       "    .dataframe thead th {\n",
       "        text-align: right;\n",
       "    }\n",
       "</style>\n",
       "<table border=\"1\" class=\"dataframe\">\n",
       "  <thead>\n",
       "    <tr style=\"text-align: right;\">\n",
       "      <th></th>\n",
       "      <th>abba</th>\n",
       "      <th>abbyy</th>\n",
       "      <th>abrt</th>\n",
       "      <th>accompli</th>\n",
       "      <th>acer</th>\n",
       "      <th>act</th>\n",
       "      <th>administration</th>\n",
       "      <th>adsense</th>\n",
       "      <th>advanced</th>\n",
       "      <th>advertising</th>\n",
       "      <th>...</th>\n",
       "      <th>яф</th>\n",
       "      <th>яхта</th>\n",
       "      <th>яхъяевич</th>\n",
       "      <th>яценко</th>\n",
       "      <th>ячейка</th>\n",
       "      <th>яшин</th>\n",
       "      <th>яшлавский</th>\n",
       "      <th>ящик</th>\n",
       "      <th>ящичек</th>\n",
       "      <th>яэль</th>\n",
       "    </tr>\n",
       "  </thead>\n",
       "  <tbody>\n",
       "    <tr>\n",
       "      <th>0</th>\n",
       "      <td>0.0</td>\n",
       "      <td>0.0</td>\n",
       "      <td>0.0</td>\n",
       "      <td>0.0</td>\n",
       "      <td>0.0</td>\n",
       "      <td>0.0</td>\n",
       "      <td>0.0</td>\n",
       "      <td>0.0</td>\n",
       "      <td>0.0</td>\n",
       "      <td>0.0</td>\n",
       "      <td>...</td>\n",
       "      <td>0.0</td>\n",
       "      <td>0.0</td>\n",
       "      <td>0.0</td>\n",
       "      <td>0.0</td>\n",
       "      <td>0.0</td>\n",
       "      <td>0.0</td>\n",
       "      <td>0.0</td>\n",
       "      <td>0.0</td>\n",
       "      <td>0.0</td>\n",
       "      <td>0.0</td>\n",
       "    </tr>\n",
       "    <tr>\n",
       "      <th>1</th>\n",
       "      <td>0.0</td>\n",
       "      <td>0.0</td>\n",
       "      <td>0.0</td>\n",
       "      <td>0.0</td>\n",
       "      <td>0.0</td>\n",
       "      <td>0.0</td>\n",
       "      <td>0.0</td>\n",
       "      <td>0.0</td>\n",
       "      <td>0.0</td>\n",
       "      <td>0.0</td>\n",
       "      <td>...</td>\n",
       "      <td>0.0</td>\n",
       "      <td>0.0</td>\n",
       "      <td>0.0</td>\n",
       "      <td>0.0</td>\n",
       "      <td>0.0</td>\n",
       "      <td>0.0</td>\n",
       "      <td>0.0</td>\n",
       "      <td>0.0</td>\n",
       "      <td>0.0</td>\n",
       "      <td>0.0</td>\n",
       "    </tr>\n",
       "    <tr>\n",
       "      <th>2</th>\n",
       "      <td>0.0</td>\n",
       "      <td>0.0</td>\n",
       "      <td>0.0</td>\n",
       "      <td>0.0</td>\n",
       "      <td>0.0</td>\n",
       "      <td>0.0</td>\n",
       "      <td>0.0</td>\n",
       "      <td>0.0</td>\n",
       "      <td>0.0</td>\n",
       "      <td>0.0</td>\n",
       "      <td>...</td>\n",
       "      <td>0.0</td>\n",
       "      <td>0.0</td>\n",
       "      <td>0.0</td>\n",
       "      <td>0.0</td>\n",
       "      <td>0.0</td>\n",
       "      <td>0.0</td>\n",
       "      <td>0.0</td>\n",
       "      <td>0.0</td>\n",
       "      <td>0.0</td>\n",
       "      <td>0.0</td>\n",
       "    </tr>\n",
       "    <tr>\n",
       "      <th>3</th>\n",
       "      <td>0.0</td>\n",
       "      <td>0.0</td>\n",
       "      <td>0.0</td>\n",
       "      <td>0.0</td>\n",
       "      <td>0.0</td>\n",
       "      <td>0.0</td>\n",
       "      <td>0.0</td>\n",
       "      <td>0.0</td>\n",
       "      <td>0.0</td>\n",
       "      <td>0.0</td>\n",
       "      <td>...</td>\n",
       "      <td>0.0</td>\n",
       "      <td>0.0</td>\n",
       "      <td>0.0</td>\n",
       "      <td>0.0</td>\n",
       "      <td>0.0</td>\n",
       "      <td>0.0</td>\n",
       "      <td>0.0</td>\n",
       "      <td>0.0</td>\n",
       "      <td>0.0</td>\n",
       "      <td>0.0</td>\n",
       "    </tr>\n",
       "    <tr>\n",
       "      <th>4</th>\n",
       "      <td>0.0</td>\n",
       "      <td>0.0</td>\n",
       "      <td>0.0</td>\n",
       "      <td>0.0</td>\n",
       "      <td>0.0</td>\n",
       "      <td>0.0</td>\n",
       "      <td>0.0</td>\n",
       "      <td>0.0</td>\n",
       "      <td>0.0</td>\n",
       "      <td>0.0</td>\n",
       "      <td>...</td>\n",
       "      <td>0.0</td>\n",
       "      <td>0.0</td>\n",
       "      <td>0.0</td>\n",
       "      <td>0.0</td>\n",
       "      <td>0.0</td>\n",
       "      <td>0.0</td>\n",
       "      <td>0.0</td>\n",
       "      <td>0.0</td>\n",
       "      <td>0.0</td>\n",
       "      <td>0.0</td>\n",
       "    </tr>\n",
       "  </tbody>\n",
       "</table>\n",
       "<p>5 rows × 22381 columns</p>\n",
       "</div>"
      ],
      "text/plain": [
       "   abba  abbyy  abrt  accompli  acer  act  administration  adsense  advanced  \\\n",
       "0   0.0    0.0   0.0       0.0   0.0  0.0             0.0      0.0       0.0   \n",
       "1   0.0    0.0   0.0       0.0   0.0  0.0             0.0      0.0       0.0   \n",
       "2   0.0    0.0   0.0       0.0   0.0  0.0             0.0      0.0       0.0   \n",
       "3   0.0    0.0   0.0       0.0   0.0  0.0             0.0      0.0       0.0   \n",
       "4   0.0    0.0   0.0       0.0   0.0  0.0             0.0      0.0       0.0   \n",
       "\n",
       "   advertising  ...    яф  яхта  яхъяевич  яценко  ячейка  яшин  яшлавский  \\\n",
       "0          0.0  ...   0.0   0.0       0.0     0.0     0.0   0.0        0.0   \n",
       "1          0.0  ...   0.0   0.0       0.0     0.0     0.0   0.0        0.0   \n",
       "2          0.0  ...   0.0   0.0       0.0     0.0     0.0   0.0        0.0   \n",
       "3          0.0  ...   0.0   0.0       0.0     0.0     0.0   0.0        0.0   \n",
       "4          0.0  ...   0.0   0.0       0.0     0.0     0.0   0.0        0.0   \n",
       "\n",
       "   ящик  ящичек  яэль  \n",
       "0   0.0     0.0   0.0  \n",
       "1   0.0     0.0   0.0  \n",
       "2   0.0     0.0   0.0  \n",
       "3   0.0     0.0   0.0  \n",
       "4   0.0     0.0   0.0  \n",
       "\n",
       "[5 rows x 22381 columns]"
      ]
     },
     "execution_count": 471,
     "metadata": {},
     "output_type": "execute_result"
    }
   ],
   "source": [
    "matrix.head()"
   ]
  },
  {
   "cell_type": "code",
   "execution_count": 472,
   "metadata": {},
   "outputs": [
    {
     "data": {
      "text/html": [
       "<div>\n",
       "<style scoped>\n",
       "    .dataframe tbody tr th:only-of-type {\n",
       "        vertical-align: middle;\n",
       "    }\n",
       "\n",
       "    .dataframe tbody tr th {\n",
       "        vertical-align: top;\n",
       "    }\n",
       "\n",
       "    .dataframe thead th {\n",
       "        text-align: right;\n",
       "    }\n",
       "</style>\n",
       "<table border=\"1\" class=\"dataframe\">\n",
       "  <thead>\n",
       "    <tr style=\"text-align: right;\">\n",
       "      <th></th>\n",
       "      <th>0</th>\n",
       "      <th>1</th>\n",
       "      <th>2</th>\n",
       "    </tr>\n",
       "  </thead>\n",
       "  <tbody>\n",
       "    <tr>\n",
       "      <th>51821</th>\n",
       "      <td>это</td>\n",
       "      <td>spro</td>\n",
       "      <td>5707.8</td>\n",
       "    </tr>\n",
       "    <tr>\n",
       "      <th>17702</th>\n",
       "      <td>который</td>\n",
       "      <td>apro</td>\n",
       "      <td>4209.0</td>\n",
       "    </tr>\n",
       "    <tr>\n",
       "      <th>40727</th>\n",
       "      <td>свой</td>\n",
       "      <td>apro</td>\n",
       "      <td>3825.5</td>\n",
       "    </tr>\n",
       "    <tr>\n",
       "      <th>4313</th>\n",
       "      <td>весь</td>\n",
       "      <td>apro</td>\n",
       "      <td>3786.3</td>\n",
       "    </tr>\n",
       "    <tr>\n",
       "      <th>8015</th>\n",
       "      <td>год</td>\n",
       "      <td>s</td>\n",
       "      <td>3727.5</td>\n",
       "    </tr>\n",
       "    <tr>\n",
       "      <th>21708</th>\n",
       "      <td>мочь</td>\n",
       "      <td>v</td>\n",
       "      <td>2912.3</td>\n",
       "    </tr>\n",
       "    <tr>\n",
       "      <th>49992</th>\n",
       "      <td>человек</td>\n",
       "      <td>s</td>\n",
       "      <td>2723.0</td>\n",
       "    </tr>\n",
       "    <tr>\n",
       "      <th>41553</th>\n",
       "      <td>сказать</td>\n",
       "      <td>v</td>\n",
       "      <td>2396.6</td>\n",
       "    </tr>\n",
       "    <tr>\n",
       "      <th>5955</th>\n",
       "      <td>время</td>\n",
       "      <td>s</td>\n",
       "      <td>2015.7</td>\n",
       "    </tr>\n",
       "    <tr>\n",
       "      <th>7999</th>\n",
       "      <td>говорить</td>\n",
       "      <td>v</td>\n",
       "      <td>1755.0</td>\n",
       "    </tr>\n",
       "  </tbody>\n",
       "</table>\n",
       "</div>"
      ],
      "text/plain": [
       "              0     1       2\n",
       "51821       это  spro  5707.8\n",
       "17702   который  apro  4209.0\n",
       "40727      свой  apro  3825.5\n",
       "4313       весь  apro  3786.3\n",
       "8015        год     s  3727.5\n",
       "21708      мочь     v  2912.3\n",
       "49992   человек     s  2723.0\n",
       "41553   сказать     v  2396.6\n",
       "5955      время     s  2015.7\n",
       "7999   говорить     v  1755.0"
      ]
     },
     "execution_count": 472,
     "metadata": {},
     "output_type": "execute_result"
    }
   ],
   "source": [
    "df_fr_without_stop.head(10)"
   ]
  },
  {
   "cell_type": "markdown",
   "metadata": {},
   "source": [
    "Возьмём каких-нибудь 3 частотных слова: **год**, **человек**, **время**. Найдём Word1&Word2&¬Word3"
   ]
  },
  {
   "cell_type": "code",
   "execution_count": 473,
   "metadata": {},
   "outputs": [],
   "source": [
    "three = pd.DataFrame(data=matrix[['год', 'человек', 'время']])"
   ]
  },
  {
   "cell_type": "code",
   "execution_count": 474,
   "metadata": {},
   "outputs": [],
   "source": [
    "text_cond = list(three.loc[(three['год'] != 0) & (three['человек'] != 0) & (three['время'] == 0)].index)"
   ]
  },
  {
   "cell_type": "markdown",
   "metadata": {},
   "source": [
    "##  Тексты, удовлетворяющие запросу Word1&Word2&¬Word3"
   ]
  },
  {
   "cell_type": "code",
   "execution_count": 475,
   "metadata": {},
   "outputs": [
    {
     "data": {
      "text/plain": [
       "['/Users/irene/Downloads/HW1/texts/100_3.txt',\n",
       " '/Users/irene/Downloads/HW1/texts/100_5.txt',\n",
       " '/Users/irene/Downloads/HW1/texts/100_7.txt',\n",
       " '/Users/irene/Downloads/HW1/texts/101_10.txt',\n",
       " '/Users/irene/Downloads/HW1/texts/102_5.txt',\n",
       " '/Users/irene/Downloads/HW1/texts/103_6.txt',\n",
       " '/Users/irene/Downloads/HW1/texts/104_7.txt',\n",
       " '/Users/irene/Downloads/HW1/texts/105_10.txt',\n",
       " '/Users/irene/Downloads/HW1/texts/105_8.txt',\n",
       " '/Users/irene/Downloads/HW1/texts/106_10.txt',\n",
       " '/Users/irene/Downloads/HW1/texts/106_6.txt',\n",
       " '/Users/irene/Downloads/HW1/texts/106_8.txt',\n",
       " '/Users/irene/Downloads/HW1/texts/108_8.txt',\n",
       " '/Users/irene/Downloads/HW1/texts/109_10.txt',\n",
       " '/Users/irene/Downloads/HW1/texts/109_7.txt',\n",
       " '/Users/irene/Downloads/HW1/texts/109_9.txt',\n",
       " '/Users/irene/Downloads/HW1/texts/111_9.txt',\n",
       " '/Users/irene/Downloads/HW1/texts/114_16.txt',\n",
       " '/Users/irene/Downloads/HW1/texts/114_9.txt',\n",
       " '/Users/irene/Downloads/HW1/texts/115_9.txt',\n",
       " '/Users/irene/Downloads/HW1/texts/116_3.txt',\n",
       " '/Users/irene/Downloads/HW1/texts/116_9.txt',\n",
       " '/Users/irene/Downloads/HW1/texts/117_4.txt',\n",
       " '/Users/irene/Downloads/HW1/texts/118_4.txt',\n",
       " '/Users/irene/Downloads/HW1/texts/119_10.txt',\n",
       " '/Users/irene/Downloads/HW1/texts/119_4.txt',\n",
       " '/Users/irene/Downloads/HW1/texts/120_7.txt',\n",
       " '/Users/irene/Downloads/HW1/texts/120_9.txt',\n",
       " '/Users/irene/Downloads/HW1/texts/121_6.txt',\n",
       " '/Users/irene/Downloads/HW1/texts/122_4.txt',\n",
       " '/Users/irene/Downloads/HW1/texts/123_1.txt',\n",
       " '/Users/irene/Downloads/HW1/texts/123_8.txt',\n",
       " '/Users/irene/Downloads/HW1/texts/124_4.txt',\n",
       " '/Users/irene/Downloads/HW1/texts/125_5.txt',\n",
       " '/Users/irene/Downloads/HW1/texts/125_9.txt',\n",
       " '/Users/irene/Downloads/HW1/texts/126_6.txt',\n",
       " '/Users/irene/Downloads/HW1/texts/127_3.txt',\n",
       " '/Users/irene/Downloads/HW1/texts/127_7.txt',\n",
       " '/Users/irene/Downloads/HW1/texts/129_4.txt',\n",
       " '/Users/irene/Downloads/HW1/texts/12_4.txt',\n",
       " '/Users/irene/Downloads/HW1/texts/12_7.txt',\n",
       " '/Users/irene/Downloads/HW1/texts/12_9.txt',\n",
       " '/Users/irene/Downloads/HW1/texts/130_4.txt',\n",
       " '/Users/irene/Downloads/HW1/texts/130_9.txt',\n",
       " '/Users/irene/Downloads/HW1/texts/131_1.txt',\n",
       " '/Users/irene/Downloads/HW1/texts/131_2.txt',\n",
       " '/Users/irene/Downloads/HW1/texts/132_3.txt',\n",
       " '/Users/irene/Downloads/HW1/texts/132_9.txt',\n",
       " '/Users/irene/Downloads/HW1/texts/133_4.txt',\n",
       " '/Users/irene/Downloads/HW1/texts/133_5.txt',\n",
       " '/Users/irene/Downloads/HW1/texts/134_10.txt']"
      ]
     },
     "execution_count": 475,
     "metadata": {},
     "output_type": "execute_result"
    }
   ],
   "source": [
    "list(file_paths_lst[i] for i in text_cond)"
   ]
  },
  {
   "cell_type": "markdown",
   "metadata": {},
   "source": [
    "## Назовите те слова, у которых мощность обратного индекса (количество документов, в которых слово встречается) равна количеству документов в коллекции."
   ]
  },
  {
   "cell_type": "code",
   "execution_count": 476,
   "metadata": {},
   "outputs": [],
   "source": [
    "matrix_tr = pd.DataFrame(tfs.transpose().toarray())"
   ]
  },
  {
   "cell_type": "code",
   "execution_count": 477,
   "metadata": {},
   "outputs": [
    {
     "data": {
      "text/html": [
       "<div>\n",
       "<style scoped>\n",
       "    .dataframe tbody tr th:only-of-type {\n",
       "        vertical-align: middle;\n",
       "    }\n",
       "\n",
       "    .dataframe tbody tr th {\n",
       "        vertical-align: top;\n",
       "    }\n",
       "\n",
       "    .dataframe thead th {\n",
       "        text-align: right;\n",
       "    }\n",
       "</style>\n",
       "<table border=\"1\" class=\"dataframe\">\n",
       "  <thead>\n",
       "    <tr style=\"text-align: right;\">\n",
       "      <th></th>\n",
       "      <th>0</th>\n",
       "      <th>1</th>\n",
       "      <th>2</th>\n",
       "      <th>3</th>\n",
       "      <th>4</th>\n",
       "      <th>5</th>\n",
       "      <th>6</th>\n",
       "      <th>7</th>\n",
       "      <th>8</th>\n",
       "      <th>9</th>\n",
       "      <th>...</th>\n",
       "      <th>340</th>\n",
       "      <th>341</th>\n",
       "      <th>342</th>\n",
       "      <th>343</th>\n",
       "      <th>344</th>\n",
       "      <th>345</th>\n",
       "      <th>346</th>\n",
       "      <th>347</th>\n",
       "      <th>348</th>\n",
       "      <th>349</th>\n",
       "    </tr>\n",
       "  </thead>\n",
       "  <tbody>\n",
       "    <tr>\n",
       "      <th>0</th>\n",
       "      <td>0.0</td>\n",
       "      <td>0.0</td>\n",
       "      <td>0.0</td>\n",
       "      <td>0.0</td>\n",
       "      <td>0.0</td>\n",
       "      <td>0.0</td>\n",
       "      <td>0.0</td>\n",
       "      <td>0.0</td>\n",
       "      <td>0.0</td>\n",
       "      <td>0.0</td>\n",
       "      <td>...</td>\n",
       "      <td>0.0</td>\n",
       "      <td>0.0</td>\n",
       "      <td>0.000000</td>\n",
       "      <td>0.0</td>\n",
       "      <td>0.0</td>\n",
       "      <td>0.0</td>\n",
       "      <td>0.0</td>\n",
       "      <td>0.0</td>\n",
       "      <td>0.0</td>\n",
       "      <td>0.0</td>\n",
       "    </tr>\n",
       "    <tr>\n",
       "      <th>1</th>\n",
       "      <td>0.0</td>\n",
       "      <td>0.0</td>\n",
       "      <td>0.0</td>\n",
       "      <td>0.0</td>\n",
       "      <td>0.0</td>\n",
       "      <td>0.0</td>\n",
       "      <td>0.0</td>\n",
       "      <td>0.0</td>\n",
       "      <td>0.0</td>\n",
       "      <td>0.0</td>\n",
       "      <td>...</td>\n",
       "      <td>0.0</td>\n",
       "      <td>0.0</td>\n",
       "      <td>0.000000</td>\n",
       "      <td>0.0</td>\n",
       "      <td>0.0</td>\n",
       "      <td>0.0</td>\n",
       "      <td>0.0</td>\n",
       "      <td>0.0</td>\n",
       "      <td>0.0</td>\n",
       "      <td>0.0</td>\n",
       "    </tr>\n",
       "    <tr>\n",
       "      <th>2</th>\n",
       "      <td>0.0</td>\n",
       "      <td>0.0</td>\n",
       "      <td>0.0</td>\n",
       "      <td>0.0</td>\n",
       "      <td>0.0</td>\n",
       "      <td>0.0</td>\n",
       "      <td>0.0</td>\n",
       "      <td>0.0</td>\n",
       "      <td>0.0</td>\n",
       "      <td>0.0</td>\n",
       "      <td>...</td>\n",
       "      <td>0.0</td>\n",
       "      <td>0.0</td>\n",
       "      <td>0.000000</td>\n",
       "      <td>0.0</td>\n",
       "      <td>0.0</td>\n",
       "      <td>0.0</td>\n",
       "      <td>0.0</td>\n",
       "      <td>0.0</td>\n",
       "      <td>0.0</td>\n",
       "      <td>0.0</td>\n",
       "    </tr>\n",
       "    <tr>\n",
       "      <th>3</th>\n",
       "      <td>0.0</td>\n",
       "      <td>0.0</td>\n",
       "      <td>0.0</td>\n",
       "      <td>0.0</td>\n",
       "      <td>0.0</td>\n",
       "      <td>0.0</td>\n",
       "      <td>0.0</td>\n",
       "      <td>0.0</td>\n",
       "      <td>0.0</td>\n",
       "      <td>0.0</td>\n",
       "      <td>...</td>\n",
       "      <td>0.0</td>\n",
       "      <td>0.0</td>\n",
       "      <td>0.000000</td>\n",
       "      <td>0.0</td>\n",
       "      <td>0.0</td>\n",
       "      <td>0.0</td>\n",
       "      <td>0.0</td>\n",
       "      <td>0.0</td>\n",
       "      <td>0.0</td>\n",
       "      <td>0.0</td>\n",
       "    </tr>\n",
       "    <tr>\n",
       "      <th>4</th>\n",
       "      <td>0.0</td>\n",
       "      <td>0.0</td>\n",
       "      <td>0.0</td>\n",
       "      <td>0.0</td>\n",
       "      <td>0.0</td>\n",
       "      <td>0.0</td>\n",
       "      <td>0.0</td>\n",
       "      <td>0.0</td>\n",
       "      <td>0.0</td>\n",
       "      <td>0.0</td>\n",
       "      <td>...</td>\n",
       "      <td>0.0</td>\n",
       "      <td>0.0</td>\n",
       "      <td>0.039989</td>\n",
       "      <td>0.0</td>\n",
       "      <td>0.0</td>\n",
       "      <td>0.0</td>\n",
       "      <td>0.0</td>\n",
       "      <td>0.0</td>\n",
       "      <td>0.0</td>\n",
       "      <td>0.0</td>\n",
       "    </tr>\n",
       "  </tbody>\n",
       "</table>\n",
       "<p>5 rows × 350 columns</p>\n",
       "</div>"
      ],
      "text/plain": [
       "   0    1    2    3    4    5    6    7    8    9   ...   340  341       342  \\\n",
       "0  0.0  0.0  0.0  0.0  0.0  0.0  0.0  0.0  0.0  0.0 ...   0.0  0.0  0.000000   \n",
       "1  0.0  0.0  0.0  0.0  0.0  0.0  0.0  0.0  0.0  0.0 ...   0.0  0.0  0.000000   \n",
       "2  0.0  0.0  0.0  0.0  0.0  0.0  0.0  0.0  0.0  0.0 ...   0.0  0.0  0.000000   \n",
       "3  0.0  0.0  0.0  0.0  0.0  0.0  0.0  0.0  0.0  0.0 ...   0.0  0.0  0.000000   \n",
       "4  0.0  0.0  0.0  0.0  0.0  0.0  0.0  0.0  0.0  0.0 ...   0.0  0.0  0.039989   \n",
       "\n",
       "   343  344  345  346  347  348  349  \n",
       "0  0.0  0.0  0.0  0.0  0.0  0.0  0.0  \n",
       "1  0.0  0.0  0.0  0.0  0.0  0.0  0.0  \n",
       "2  0.0  0.0  0.0  0.0  0.0  0.0  0.0  \n",
       "3  0.0  0.0  0.0  0.0  0.0  0.0  0.0  \n",
       "4  0.0  0.0  0.0  0.0  0.0  0.0  0.0  \n",
       "\n",
       "[5 rows x 350 columns]"
      ]
     },
     "execution_count": 477,
     "metadata": {},
     "output_type": "execute_result"
    }
   ],
   "source": [
    "matrix_tr.head()"
   ]
  },
  {
   "cell_type": "code",
   "execution_count": 478,
   "metadata": {},
   "outputs": [],
   "source": [
    "matrix_nan = matrix_tr.replace(0, np.nan)"
   ]
  },
  {
   "cell_type": "code",
   "execution_count": 479,
   "metadata": {
    "scrolled": true
   },
   "outputs": [
    {
     "data": {
      "text/html": [
       "<div>\n",
       "<style scoped>\n",
       "    .dataframe tbody tr th:only-of-type {\n",
       "        vertical-align: middle;\n",
       "    }\n",
       "\n",
       "    .dataframe tbody tr th {\n",
       "        vertical-align: top;\n",
       "    }\n",
       "\n",
       "    .dataframe thead th {\n",
       "        text-align: right;\n",
       "    }\n",
       "</style>\n",
       "<table border=\"1\" class=\"dataframe\">\n",
       "  <thead>\n",
       "    <tr style=\"text-align: right;\">\n",
       "      <th></th>\n",
       "      <th>0</th>\n",
       "      <th>1</th>\n",
       "      <th>2</th>\n",
       "      <th>3</th>\n",
       "      <th>4</th>\n",
       "      <th>5</th>\n",
       "      <th>6</th>\n",
       "      <th>7</th>\n",
       "      <th>8</th>\n",
       "      <th>9</th>\n",
       "      <th>...</th>\n",
       "      <th>340</th>\n",
       "      <th>341</th>\n",
       "      <th>342</th>\n",
       "      <th>343</th>\n",
       "      <th>344</th>\n",
       "      <th>345</th>\n",
       "      <th>346</th>\n",
       "      <th>347</th>\n",
       "      <th>348</th>\n",
       "      <th>349</th>\n",
       "    </tr>\n",
       "  </thead>\n",
       "  <tbody>\n",
       "    <tr>\n",
       "      <th>0</th>\n",
       "      <td>NaN</td>\n",
       "      <td>NaN</td>\n",
       "      <td>NaN</td>\n",
       "      <td>NaN</td>\n",
       "      <td>NaN</td>\n",
       "      <td>NaN</td>\n",
       "      <td>NaN</td>\n",
       "      <td>NaN</td>\n",
       "      <td>NaN</td>\n",
       "      <td>NaN</td>\n",
       "      <td>...</td>\n",
       "      <td>NaN</td>\n",
       "      <td>NaN</td>\n",
       "      <td>NaN</td>\n",
       "      <td>NaN</td>\n",
       "      <td>NaN</td>\n",
       "      <td>NaN</td>\n",
       "      <td>NaN</td>\n",
       "      <td>NaN</td>\n",
       "      <td>NaN</td>\n",
       "      <td>NaN</td>\n",
       "    </tr>\n",
       "    <tr>\n",
       "      <th>1</th>\n",
       "      <td>NaN</td>\n",
       "      <td>NaN</td>\n",
       "      <td>NaN</td>\n",
       "      <td>NaN</td>\n",
       "      <td>NaN</td>\n",
       "      <td>NaN</td>\n",
       "      <td>NaN</td>\n",
       "      <td>NaN</td>\n",
       "      <td>NaN</td>\n",
       "      <td>NaN</td>\n",
       "      <td>...</td>\n",
       "      <td>NaN</td>\n",
       "      <td>NaN</td>\n",
       "      <td>NaN</td>\n",
       "      <td>NaN</td>\n",
       "      <td>NaN</td>\n",
       "      <td>NaN</td>\n",
       "      <td>NaN</td>\n",
       "      <td>NaN</td>\n",
       "      <td>NaN</td>\n",
       "      <td>NaN</td>\n",
       "    </tr>\n",
       "    <tr>\n",
       "      <th>2</th>\n",
       "      <td>NaN</td>\n",
       "      <td>NaN</td>\n",
       "      <td>NaN</td>\n",
       "      <td>NaN</td>\n",
       "      <td>NaN</td>\n",
       "      <td>NaN</td>\n",
       "      <td>NaN</td>\n",
       "      <td>NaN</td>\n",
       "      <td>NaN</td>\n",
       "      <td>NaN</td>\n",
       "      <td>...</td>\n",
       "      <td>NaN</td>\n",
       "      <td>NaN</td>\n",
       "      <td>NaN</td>\n",
       "      <td>NaN</td>\n",
       "      <td>NaN</td>\n",
       "      <td>NaN</td>\n",
       "      <td>NaN</td>\n",
       "      <td>NaN</td>\n",
       "      <td>NaN</td>\n",
       "      <td>NaN</td>\n",
       "    </tr>\n",
       "    <tr>\n",
       "      <th>3</th>\n",
       "      <td>NaN</td>\n",
       "      <td>NaN</td>\n",
       "      <td>NaN</td>\n",
       "      <td>NaN</td>\n",
       "      <td>NaN</td>\n",
       "      <td>NaN</td>\n",
       "      <td>NaN</td>\n",
       "      <td>NaN</td>\n",
       "      <td>NaN</td>\n",
       "      <td>NaN</td>\n",
       "      <td>...</td>\n",
       "      <td>NaN</td>\n",
       "      <td>NaN</td>\n",
       "      <td>NaN</td>\n",
       "      <td>NaN</td>\n",
       "      <td>NaN</td>\n",
       "      <td>NaN</td>\n",
       "      <td>NaN</td>\n",
       "      <td>NaN</td>\n",
       "      <td>NaN</td>\n",
       "      <td>NaN</td>\n",
       "    </tr>\n",
       "    <tr>\n",
       "      <th>4</th>\n",
       "      <td>NaN</td>\n",
       "      <td>NaN</td>\n",
       "      <td>NaN</td>\n",
       "      <td>NaN</td>\n",
       "      <td>NaN</td>\n",
       "      <td>NaN</td>\n",
       "      <td>NaN</td>\n",
       "      <td>NaN</td>\n",
       "      <td>NaN</td>\n",
       "      <td>NaN</td>\n",
       "      <td>...</td>\n",
       "      <td>NaN</td>\n",
       "      <td>NaN</td>\n",
       "      <td>0.039989</td>\n",
       "      <td>NaN</td>\n",
       "      <td>NaN</td>\n",
       "      <td>NaN</td>\n",
       "      <td>NaN</td>\n",
       "      <td>NaN</td>\n",
       "      <td>NaN</td>\n",
       "      <td>NaN</td>\n",
       "    </tr>\n",
       "  </tbody>\n",
       "</table>\n",
       "<p>5 rows × 350 columns</p>\n",
       "</div>"
      ],
      "text/plain": [
       "   0    1    2    3    4    5    6    7    8    9   ...   340  341       342  \\\n",
       "0  NaN  NaN  NaN  NaN  NaN  NaN  NaN  NaN  NaN  NaN ...   NaN  NaN       NaN   \n",
       "1  NaN  NaN  NaN  NaN  NaN  NaN  NaN  NaN  NaN  NaN ...   NaN  NaN       NaN   \n",
       "2  NaN  NaN  NaN  NaN  NaN  NaN  NaN  NaN  NaN  NaN ...   NaN  NaN       NaN   \n",
       "3  NaN  NaN  NaN  NaN  NaN  NaN  NaN  NaN  NaN  NaN ...   NaN  NaN       NaN   \n",
       "4  NaN  NaN  NaN  NaN  NaN  NaN  NaN  NaN  NaN  NaN ...   NaN  NaN  0.039989   \n",
       "\n",
       "   343  344  345  346  347  348  349  \n",
       "0  NaN  NaN  NaN  NaN  NaN  NaN  NaN  \n",
       "1  NaN  NaN  NaN  NaN  NaN  NaN  NaN  \n",
       "2  NaN  NaN  NaN  NaN  NaN  NaN  NaN  \n",
       "3  NaN  NaN  NaN  NaN  NaN  NaN  NaN  \n",
       "4  NaN  NaN  NaN  NaN  NaN  NaN  NaN  \n",
       "\n",
       "[5 rows x 350 columns]"
      ]
     },
     "execution_count": 479,
     "metadata": {},
     "output_type": "execute_result"
    }
   ],
   "source": [
    "matrix_nan.head()"
   ]
  },
  {
   "cell_type": "code",
   "execution_count": 480,
   "metadata": {},
   "outputs": [],
   "source": [
    "nan = matrix_nan[~matrix_nan.isnull().any(axis=1)].index"
   ]
  },
  {
   "cell_type": "code",
   "execution_count": 481,
   "metadata": {},
   "outputs": [
    {
     "data": {
      "text/plain": [
       "0"
      ]
     },
     "execution_count": 481,
     "metadata": {},
     "output_type": "execute_result"
    }
   ],
   "source": [
    "len(nan)"
   ]
  },
  {
   "cell_type": "markdown",
   "metadata": {},
   "source": [
    "## Следовательно ни одно слово не встречается во всех текстах (мы убрали стопслова, которые встречаются в каждом тексте)"
   ]
  },
  {
   "cell_type": "markdown",
   "metadata": {},
   "source": [
    "# Если не убирать слова, что получится:"
   ]
  },
  {
   "cell_type": "code",
   "execution_count": 482,
   "metadata": {},
   "outputs": [],
   "source": [
    "corpus1 = df['string']\n",
    "tfidf1 = TfidfVectorizer(stop_words=None)\n",
    "tfs1 = tfidf1.fit_transform(corpus1)\n",
    "feature_names1 = tfidf1.get_feature_names()\n",
    "matrix1 = pd.DataFrame(tfs1.toarray(), columns=feature_names1)"
   ]
  },
  {
   "cell_type": "code",
   "execution_count": 486,
   "metadata": {
    "collapsed": true
   },
   "outputs": [],
   "source": [
    "matrix_tr1 = pd.DataFrame(tfs1.transpose().toarray())\n",
    "matrix_nan1 = matrix_tr1.replace(0, np.nan)\n",
    "nan1 = matrix_nan1[~matrix_nan1.isnull().any(axis=1)].index"
   ]
  },
  {
   "cell_type": "code",
   "execution_count": 487,
   "metadata": {},
   "outputs": [
    {
     "data": {
      "text/plain": [
       "0"
      ]
     },
     "execution_count": 487,
     "metadata": {},
     "output_type": "execute_result"
    }
   ],
   "source": [
    "len(nan1)"
   ]
  },
  {
   "cell_type": "markdown",
   "metadata": {},
   "source": [
    "Получается так, что даже частотные слова не встречаются во всех текстах."
   ]
  },
  {
   "cell_type": "markdown",
   "metadata": {},
   "source": [
    "# 1.3"
   ]
  },
  {
   "cell_type": "markdown",
   "metadata": {},
   "source": [
    "Составьте список из 10 лексем/словоформ одного из документов коллекции; в список должны войти:\n",
    "\n",
    "1) шесть ключевых слов \n",
    "\n",
    "2) два частотных слова из топ-100 по частотному словарю\n",
    "\n",
    "3) два редких слова (встретившихся во всей Вашей коллекции не больше трех раз, а в Вашем тексте - не больше одного)."
   ]
  },
  {
   "cell_type": "code",
   "execution_count": 49,
   "metadata": {},
   "outputs": [],
   "source": [
    "analized_text, length = string_text(file_paths_lst[4])\n",
    "response = tfidf.transform([analized_text])\n",
    "feature_names = tfidf.get_feature_names()\n",
    "d_lemma_tfidf = {'lemma': [], 'tfidf': []}\n",
    "for col in response.nonzero()[1]:\n",
    "    d_lemma_tfidf['lemma'].append(feature_names[col])\n",
    "    d_lemma_tfidf['tfidf'].append(response[0, col])"
   ]
  },
  {
   "cell_type": "code",
   "execution_count": 50,
   "metadata": {
    "collapsed": true
   },
   "outputs": [],
   "source": [
    "df_lemma_tfidf = pd.DataFrame(data=d_lemma_tfidf)"
   ]
  },
  {
   "cell_type": "code",
   "execution_count": 51,
   "metadata": {},
   "outputs": [
    {
     "data": {
      "text/html": [
       "<div>\n",
       "<style scoped>\n",
       "    .dataframe tbody tr th:only-of-type {\n",
       "        vertical-align: middle;\n",
       "    }\n",
       "\n",
       "    .dataframe tbody tr th {\n",
       "        vertical-align: top;\n",
       "    }\n",
       "\n",
       "    .dataframe thead th {\n",
       "        text-align: right;\n",
       "    }\n",
       "</style>\n",
       "<table border=\"1\" class=\"dataframe\">\n",
       "  <thead>\n",
       "    <tr style=\"text-align: right;\">\n",
       "      <th></th>\n",
       "      <th>lemma</th>\n",
       "      <th>tfidf</th>\n",
       "    </tr>\n",
       "  </thead>\n",
       "  <tbody>\n",
       "    <tr>\n",
       "      <th>0</th>\n",
       "      <td>явка</td>\n",
       "      <td>0.052999</td>\n",
       "    </tr>\n",
       "    <tr>\n",
       "      <th>1</th>\n",
       "      <td>югозапад</td>\n",
       "      <td>0.068366</td>\n",
       "    </tr>\n",
       "    <tr>\n",
       "      <th>2</th>\n",
       "      <td>это</td>\n",
       "      <td>0.038144</td>\n",
       "    </tr>\n",
       "    <tr>\n",
       "      <th>3</th>\n",
       "      <td>экспертный</td>\n",
       "      <td>0.050526</td>\n",
       "    </tr>\n",
       "    <tr>\n",
       "      <th>4</th>\n",
       "      <td>экспертиза</td>\n",
       "      <td>0.049469</td>\n",
       "    </tr>\n",
       "  </tbody>\n",
       "</table>\n",
       "</div>"
      ],
      "text/plain": [
       "        lemma     tfidf\n",
       "0        явка  0.052999\n",
       "1    югозапад  0.068366\n",
       "2         это  0.038144\n",
       "3  экспертный  0.050526\n",
       "4  экспертиза  0.049469"
      ]
     },
     "execution_count": 51,
     "metadata": {},
     "output_type": "execute_result"
    }
   ],
   "source": [
    "df_lemma_tfidf.head()"
   ]
  },
  {
   "cell_type": "code",
   "execution_count": 52,
   "metadata": {},
   "outputs": [
    {
     "data": {
      "text/html": [
       "<div>\n",
       "<style scoped>\n",
       "    .dataframe tbody tr th:only-of-type {\n",
       "        vertical-align: middle;\n",
       "    }\n",
       "\n",
       "    .dataframe tbody tr th {\n",
       "        vertical-align: top;\n",
       "    }\n",
       "\n",
       "    .dataframe thead th {\n",
       "        text-align: right;\n",
       "    }\n",
       "</style>\n",
       "<table border=\"1\" class=\"dataframe\">\n",
       "  <thead>\n",
       "    <tr style=\"text-align: right;\">\n",
       "      <th></th>\n",
       "      <th>lemma</th>\n",
       "      <th>tfidf</th>\n",
       "    </tr>\n",
       "  </thead>\n",
       "  <tbody>\n",
       "    <tr>\n",
       "      <th>176</th>\n",
       "      <td>авария</td>\n",
       "      <td>0.381355</td>\n",
       "    </tr>\n",
       "    <tr>\n",
       "      <th>42</th>\n",
       "      <td>русаков</td>\n",
       "      <td>0.341829</td>\n",
       "    </tr>\n",
       "    <tr>\n",
       "      <th>161</th>\n",
       "      <td>виновник</td>\n",
       "      <td>0.242730</td>\n",
       "    </tr>\n",
       "    <tr>\n",
       "      <th>39</th>\n",
       "      <td>свидетель</td>\n",
       "      <td>0.202103</td>\n",
       "    </tr>\n",
       "    <tr>\n",
       "      <th>170</th>\n",
       "      <td>актриса</td>\n",
       "      <td>0.202103</td>\n",
       "    </tr>\n",
       "    <tr>\n",
       "      <th>148</th>\n",
       "      <td>голуб</td>\n",
       "      <td>0.191614</td>\n",
       "    </tr>\n",
       "    <tr>\n",
       "      <th>30</th>\n",
       "      <td>слово</td>\n",
       "      <td>0.142529</td>\n",
       "    </tr>\n",
       "    <tr>\n",
       "      <th>160</th>\n",
       "      <td>водитель</td>\n",
       "      <td>0.138094</td>\n",
       "    </tr>\n",
       "    <tr>\n",
       "      <th>154</th>\n",
       "      <td>выгораживать</td>\n",
       "      <td>0.136731</td>\n",
       "    </tr>\n",
       "    <tr>\n",
       "      <th>63</th>\n",
       "      <td>потерпевший</td>\n",
       "      <td>0.136731</td>\n",
       "    </tr>\n",
       "    <tr>\n",
       "      <th>48</th>\n",
       "      <td>расследование</td>\n",
       "      <td>0.132031</td>\n",
       "    </tr>\n",
       "    <tr>\n",
       "      <th>40</th>\n",
       "      <td>светофор</td>\n",
       "      <td>0.127743</td>\n",
       "    </tr>\n",
       "    <tr>\n",
       "      <th>79</th>\n",
       "      <td>погибать</td>\n",
       "      <td>0.125358</td>\n",
       "    </tr>\n",
       "    <tr>\n",
       "      <th>31</th>\n",
       "      <td>следствие</td>\n",
       "      <td>0.122465</td>\n",
       "    </tr>\n",
       "    <tr>\n",
       "      <th>174</th>\n",
       "      <td>автомобиль</td>\n",
       "      <td>0.119803</td>\n",
       "    </tr>\n",
       "    <tr>\n",
       "      <th>18</th>\n",
       "      <td>суд</td>\n",
       "      <td>0.118434</td>\n",
       "    </tr>\n",
       "    <tr>\n",
       "      <th>138</th>\n",
       "      <td>дтп</td>\n",
       "      <td>0.108959</td>\n",
       "    </tr>\n",
       "    <tr>\n",
       "      <th>70</th>\n",
       "      <td>показание</td>\n",
       "      <td>0.108959</td>\n",
       "    </tr>\n",
       "    <tr>\n",
       "      <th>41</th>\n",
       "      <td>санкция</td>\n",
       "      <td>0.097010</td>\n",
       "    </tr>\n",
       "    <tr>\n",
       "      <th>113</th>\n",
       "      <td>марина</td>\n",
       "      <td>0.097010</td>\n",
       "    </tr>\n",
       "  </tbody>\n",
       "</table>\n",
       "</div>"
      ],
      "text/plain": [
       "             lemma     tfidf\n",
       "176         авария  0.381355\n",
       "42         русаков  0.341829\n",
       "161       виновник  0.242730\n",
       "39       свидетель  0.202103\n",
       "170        актриса  0.202103\n",
       "148          голуб  0.191614\n",
       "30           слово  0.142529\n",
       "160       водитель  0.138094\n",
       "154   выгораживать  0.136731\n",
       "63     потерпевший  0.136731\n",
       "48   расследование  0.132031\n",
       "40        светофор  0.127743\n",
       "79        погибать  0.125358\n",
       "31       следствие  0.122465\n",
       "174     автомобиль  0.119803\n",
       "18             суд  0.118434\n",
       "138            дтп  0.108959\n",
       "70       показание  0.108959\n",
       "41         санкция  0.097010\n",
       "113         марина  0.097010"
      ]
     },
     "execution_count": 52,
     "metadata": {},
     "output_type": "execute_result"
    }
   ],
   "source": [
    "df_lemma_tfidf.sort_values(by='tfidf', ascending=0).head(20)"
   ]
  },
  {
   "cell_type": "markdown",
   "metadata": {
    "collapsed": true
   },
   "source": [
    "Выберем 6 слов: **авария**, **виновник**, **свидетель**, **актриса**, **голуб**, **водитель**"
   ]
  },
  {
   "cell_type": "code",
   "execution_count": 53,
   "metadata": {},
   "outputs": [
    {
     "data": {
      "text/html": [
       "<div>\n",
       "<style scoped>\n",
       "    .dataframe tbody tr th:only-of-type {\n",
       "        vertical-align: middle;\n",
       "    }\n",
       "\n",
       "    .dataframe tbody tr th {\n",
       "        vertical-align: top;\n",
       "    }\n",
       "\n",
       "    .dataframe thead th {\n",
       "        text-align: right;\n",
       "    }\n",
       "</style>\n",
       "<table border=\"1\" class=\"dataframe\">\n",
       "  <thead>\n",
       "    <tr style=\"text-align: right;\">\n",
       "      <th></th>\n",
       "      <th>0</th>\n",
       "      <th>1</th>\n",
       "      <th>2</th>\n",
       "    </tr>\n",
       "  </thead>\n",
       "  <tbody>\n",
       "    <tr>\n",
       "      <th>51821</th>\n",
       "      <td>это</td>\n",
       "      <td>spro</td>\n",
       "      <td>5707.8</td>\n",
       "    </tr>\n",
       "    <tr>\n",
       "      <th>17702</th>\n",
       "      <td>который</td>\n",
       "      <td>apro</td>\n",
       "      <td>4209.0</td>\n",
       "    </tr>\n",
       "    <tr>\n",
       "      <th>40727</th>\n",
       "      <td>свой</td>\n",
       "      <td>apro</td>\n",
       "      <td>3825.5</td>\n",
       "    </tr>\n",
       "    <tr>\n",
       "      <th>4313</th>\n",
       "      <td>весь</td>\n",
       "      <td>apro</td>\n",
       "      <td>3786.3</td>\n",
       "    </tr>\n",
       "    <tr>\n",
       "      <th>8015</th>\n",
       "      <td>год</td>\n",
       "      <td>s</td>\n",
       "      <td>3727.5</td>\n",
       "    </tr>\n",
       "    <tr>\n",
       "      <th>21708</th>\n",
       "      <td>мочь</td>\n",
       "      <td>v</td>\n",
       "      <td>2912.3</td>\n",
       "    </tr>\n",
       "    <tr>\n",
       "      <th>49992</th>\n",
       "      <td>человек</td>\n",
       "      <td>s</td>\n",
       "      <td>2723.0</td>\n",
       "    </tr>\n",
       "    <tr>\n",
       "      <th>41553</th>\n",
       "      <td>сказать</td>\n",
       "      <td>v</td>\n",
       "      <td>2396.6</td>\n",
       "    </tr>\n",
       "    <tr>\n",
       "      <th>5955</th>\n",
       "      <td>время</td>\n",
       "      <td>s</td>\n",
       "      <td>2015.7</td>\n",
       "    </tr>\n",
       "    <tr>\n",
       "      <th>7999</th>\n",
       "      <td>говорить</td>\n",
       "      <td>v</td>\n",
       "      <td>1755.0</td>\n",
       "    </tr>\n",
       "    <tr>\n",
       "      <th>23302</th>\n",
       "      <td>наш</td>\n",
       "      <td>apro</td>\n",
       "      <td>1731.8</td>\n",
       "    </tr>\n",
       "    <tr>\n",
       "      <th>13670</th>\n",
       "      <td>знать</td>\n",
       "      <td>v</td>\n",
       "      <td>1713.8</td>\n",
       "    </tr>\n",
       "    <tr>\n",
       "      <th>43800</th>\n",
       "      <td>стать</td>\n",
       "      <td>v</td>\n",
       "      <td>1621.8</td>\n",
       "    </tr>\n",
       "    <tr>\n",
       "      <th>9304</th>\n",
       "      <td>дело</td>\n",
       "      <td>s</td>\n",
       "      <td>1412.1</td>\n",
       "    </tr>\n",
       "    <tr>\n",
       "      <th>11456</th>\n",
       "      <td>жизнь</td>\n",
       "      <td>s</td>\n",
       "      <td>1389.8</td>\n",
       "    </tr>\n",
       "    <tr>\n",
       "      <th>29603</th>\n",
       "      <td>первый</td>\n",
       "      <td>anum</td>\n",
       "      <td>1345.6</td>\n",
       "    </tr>\n",
       "    <tr>\n",
       "      <th>28860</th>\n",
       "      <td>очень</td>\n",
       "      <td>adv</td>\n",
       "      <td>1286.8</td>\n",
       "    </tr>\n",
       "    <tr>\n",
       "      <th>9392</th>\n",
       "      <td>день</td>\n",
       "      <td>s</td>\n",
       "      <td>1258.4</td>\n",
       "    </tr>\n",
       "    <tr>\n",
       "      <th>25279</th>\n",
       "      <td>новый</td>\n",
       "      <td>a</td>\n",
       "      <td>1217.5</td>\n",
       "    </tr>\n",
       "    <tr>\n",
       "      <th>39785</th>\n",
       "      <td>рука</td>\n",
       "      <td>s</td>\n",
       "      <td>1200.6</td>\n",
       "    </tr>\n",
       "  </tbody>\n",
       "</table>\n",
       "</div>"
      ],
      "text/plain": [
       "              0     1       2\n",
       "51821       это  spro  5707.8\n",
       "17702   который  apro  4209.0\n",
       "40727      свой  apro  3825.5\n",
       "4313       весь  apro  3786.3\n",
       "8015        год     s  3727.5\n",
       "21708      мочь     v  2912.3\n",
       "49992   человек     s  2723.0\n",
       "41553   сказать     v  2396.6\n",
       "5955      время     s  2015.7\n",
       "7999   говорить     v  1755.0\n",
       "23302       наш  apro  1731.8\n",
       "13670     знать     v  1713.8\n",
       "43800     стать     v  1621.8\n",
       "9304       дело     s  1412.1\n",
       "11456     жизнь     s  1389.8\n",
       "29603    первый  anum  1345.6\n",
       "28860     очень   adv  1286.8\n",
       "9392       день     s  1258.4\n",
       "25279     новый     a  1217.5\n",
       "39785      рука     s  1200.6"
      ]
     },
     "execution_count": 53,
     "metadata": {},
     "output_type": "execute_result"
    }
   ],
   "source": [
    "df_fr_without_stop.head(20)"
   ]
  },
  {
   "cell_type": "markdown",
   "metadata": {},
   "source": [
    "Выберем 2 слова: **жизнь**, **человек**"
   ]
  },
  {
   "cell_type": "code",
   "execution_count": 178,
   "metadata": {},
   "outputs": [],
   "source": [
    "hole_text = ''\n",
    "for text in corpus:\n",
    "    hole_text = hole_text + text + ' '"
   ]
  },
  {
   "cell_type": "code",
   "execution_count": 179,
   "metadata": {
    "collapsed": true
   },
   "outputs": [],
   "source": [
    "data_one = analized_text.split(' ')\n",
    "fdist2 = nltk.FreqDist(data_one)"
   ]
  },
  {
   "cell_type": "code",
   "execution_count": 182,
   "metadata": {},
   "outputs": [],
   "source": [
    "one_time = []\n",
    "for each2 in fdist2:\n",
    "    if fdist2[each2] == 1:\n",
    "        one_time.append([each2])"
   ]
  },
  {
   "cell_type": "code",
   "execution_count": 183,
   "metadata": {},
   "outputs": [],
   "source": [
    "for o_w in one_time:\n",
    "    find_in_hole = len(re.findall(o_w[0], hole_text))\n",
    "    o_w.append(find_in_hole)"
   ]
  },
  {
   "cell_type": "code",
   "execution_count": 185,
   "metadata": {},
   "outputs": [
    {
     "name": "stdout",
     "output_type": "stream",
     "text": [
      "['югозапад', 2]\n",
      "['опознавать', 3]\n",
      "['протаранивать', 3]\n",
      "['информагентство', 2]\n",
      "['перекресток', 3]\n",
      "['загораться', 3]\n",
      "['газануть', 1]\n",
      "['врезаться', 1]\n",
      "['нехитрый', 3]\n",
      "['обоюдный', 2]\n",
      "['автотехнический', 1]\n",
      "['схемуграфик', 1]\n",
      "['ухватываться', 2]\n",
      "['глухой', 1]\n",
      "['родные', 3]\n",
      "['повинная', 3]\n",
      "['укрывательство', 1]\n"
     ]
    }
   ],
   "source": [
    "for on in one_time:\n",
    "    if on[1] <= 3:\n",
    "        print(on)"
   ]
  },
  {
   "cell_type": "markdown",
   "metadata": {},
   "source": [
    "Редкие слова: **загораться**, **газануть**"
   ]
  },
  {
   "cell_type": "code",
   "execution_count": 260,
   "metadata": {
    "collapsed": true
   },
   "outputs": [],
   "source": [
    "lexemes = ['загораться', 'газануть', 'авария', 'виновник', 'свидетель', 'актриса', 'водитель', 'голуб', 'жизнь', 'человек']"
   ]
  },
  {
   "cell_type": "code",
   "execution_count": 284,
   "metadata": {
    "collapsed": true
   },
   "outputs": [],
   "source": [
    "string_l = ''\n",
    "for ll in lexemes:\n",
    "    string_l = string_l + ll + '\\n'"
   ]
  },
  {
   "cell_type": "code",
   "execution_count": 285,
   "metadata": {
    "collapsed": true
   },
   "outputs": [],
   "source": [
    "f = open('HW1_Panteleeva_WordListTest.txt', 'w')\n",
    "f.write(string_l)\n",
    "f.close()"
   ]
  },
  {
   "cell_type": "code",
   "execution_count": 286,
   "metadata": {},
   "outputs": [
    {
     "data": {
      "text/plain": [
       "10"
      ]
     },
     "execution_count": 286,
     "metadata": {},
     "output_type": "execute_result"
    }
   ],
   "source": [
    "len(lexemes)"
   ]
  },
  {
   "cell_type": "code",
   "execution_count": 287,
   "metadata": {
    "collapsed": true
   },
   "outputs": [],
   "source": [
    "l = df_fr.loc[df_fr[0].isin(lexemes)][[0, 2]][0]\n",
    "fr_l = df_fr.loc[df_fr[0].isin(lexemes)][[0, 2]][2]"
   ]
  },
  {
   "cell_type": "code",
   "execution_count": 288,
   "metadata": {},
   "outputs": [],
   "source": [
    "l = list(l)\n",
    "l.append('голуб')\n",
    "fr_l = list(fr_l)\n",
    "fr_l.append(0)"
   ]
  },
  {
   "cell_type": "code",
   "execution_count": 289,
   "metadata": {},
   "outputs": [],
   "source": [
    "def countcoll(hole_text, word):\n",
    "    num = len(re.findall(word, hole_text))\n",
    "    if num == None:\n",
    "        num = 0\n",
    "    return num"
   ]
  },
  {
   "cell_type": "code",
   "execution_count": 290,
   "metadata": {
    "collapsed": true
   },
   "outputs": [],
   "source": [
    "n_colls = sum(df['length'])"
   ]
  },
  {
   "cell_type": "code",
   "execution_count": 291,
   "metadata": {},
   "outputs": [
    {
     "data": {
      "text/plain": [
       "['авария',\n",
       " 'актриса',\n",
       " 'виновник',\n",
       " 'водитель',\n",
       " 'газануть',\n",
       " 'жизнь',\n",
       " 'загораться',\n",
       " 'свидетель',\n",
       " 'человек',\n",
       " 'голуб']"
      ]
     },
     "execution_count": 291,
     "metadata": {},
     "output_type": "execute_result"
    }
   ],
   "source": [
    "l"
   ]
  },
  {
   "cell_type": "code",
   "execution_count": 292,
   "metadata": {},
   "outputs": [],
   "source": [
    "fr_coll = []\n",
    "for ww in l:\n",
    "    num = countcoll(hole_text, ww)\n",
    "    fr_coll.append(num/n_colls)"
   ]
  },
  {
   "cell_type": "code",
   "execution_count": 293,
   "metadata": {
    "collapsed": true
   },
   "outputs": [],
   "source": [
    "doc_length = length"
   ]
  },
  {
   "cell_type": "code",
   "execution_count": 294,
   "metadata": {},
   "outputs": [],
   "source": [
    "count_wi = []\n",
    "tf = []\n",
    "for lex in l:\n",
    "    count_wi.append(fdist2[lex])\n",
    "    tf.append(fdist2[lex]/doc_length)"
   ]
  },
  {
   "cell_type": "code",
   "execution_count": 295,
   "metadata": {},
   "outputs": [
    {
     "data": {
      "text/plain": [
       "10"
      ]
     },
     "execution_count": 295,
     "metadata": {},
     "output_type": "execute_result"
    }
   ],
   "source": [
    "len(fr_coll)"
   ]
  },
  {
   "cell_type": "code",
   "execution_count": 296,
   "metadata": {
    "collapsed": true
   },
   "outputs": [],
   "source": [
    "ten = {'Слово (Лексема)': l, 'Fr (L)': fr_l, 'Fr(Coll)': fr_coll, 'Count(wi)': count_wi, 'tf': tf}"
   ]
  },
  {
   "cell_type": "code",
   "execution_count": 297,
   "metadata": {},
   "outputs": [],
   "source": [
    "ten_df = pd.DataFrame(data=ten)"
   ]
  },
  {
   "cell_type": "code",
   "execution_count": 298,
   "metadata": {},
   "outputs": [
    {
     "data": {
      "text/html": [
       "<div>\n",
       "<style scoped>\n",
       "    .dataframe tbody tr th:only-of-type {\n",
       "        vertical-align: middle;\n",
       "    }\n",
       "\n",
       "    .dataframe tbody tr th {\n",
       "        vertical-align: top;\n",
       "    }\n",
       "\n",
       "    .dataframe thead th {\n",
       "        text-align: right;\n",
       "    }\n",
       "</style>\n",
       "<table border=\"1\" class=\"dataframe\">\n",
       "  <thead>\n",
       "    <tr style=\"text-align: right;\">\n",
       "      <th></th>\n",
       "      <th>Count(wi)</th>\n",
       "      <th>Fr (L)</th>\n",
       "      <th>Fr(Coll)</th>\n",
       "      <th>tf</th>\n",
       "      <th>Слово (Лексема)</th>\n",
       "    </tr>\n",
       "  </thead>\n",
       "  <tbody>\n",
       "    <tr>\n",
       "      <th>0</th>\n",
       "      <td>7</td>\n",
       "      <td>29.6</td>\n",
       "      <td>0.000030</td>\n",
       "      <td>0.009409</td>\n",
       "      <td>авария</td>\n",
       "    </tr>\n",
       "    <tr>\n",
       "      <th>1</th>\n",
       "      <td>4</td>\n",
       "      <td>40.4</td>\n",
       "      <td>0.000029</td>\n",
       "      <td>0.005376</td>\n",
       "      <td>актриса</td>\n",
       "    </tr>\n",
       "    <tr>\n",
       "      <th>2</th>\n",
       "      <td>4</td>\n",
       "      <td>8.5</td>\n",
       "      <td>0.000011</td>\n",
       "      <td>0.005376</td>\n",
       "      <td>виновник</td>\n",
       "    </tr>\n",
       "    <tr>\n",
       "      <th>3</th>\n",
       "      <td>3</td>\n",
       "      <td>65.9</td>\n",
       "      <td>0.000429</td>\n",
       "      <td>0.004032</td>\n",
       "      <td>водитель</td>\n",
       "    </tr>\n",
       "    <tr>\n",
       "      <th>4</th>\n",
       "      <td>1</td>\n",
       "      <td>0.6</td>\n",
       "      <td>0.000002</td>\n",
       "      <td>0.001344</td>\n",
       "      <td>газануть</td>\n",
       "    </tr>\n",
       "    <tr>\n",
       "      <th>5</th>\n",
       "      <td>0</td>\n",
       "      <td>1389.8</td>\n",
       "      <td>0.000542</td>\n",
       "      <td>0.000000</td>\n",
       "      <td>жизнь</td>\n",
       "    </tr>\n",
       "    <tr>\n",
       "      <th>6</th>\n",
       "      <td>1</td>\n",
       "      <td>5.0</td>\n",
       "      <td>0.000005</td>\n",
       "      <td>0.001344</td>\n",
       "      <td>загораться</td>\n",
       "    </tr>\n",
       "    <tr>\n",
       "      <th>7</th>\n",
       "      <td>4</td>\n",
       "      <td>55.7</td>\n",
       "      <td>0.000109</td>\n",
       "      <td>0.005376</td>\n",
       "      <td>свидетель</td>\n",
       "    </tr>\n",
       "    <tr>\n",
       "      <th>8</th>\n",
       "      <td>1</td>\n",
       "      <td>2723.0</td>\n",
       "      <td>0.001465</td>\n",
       "      <td>0.001344</td>\n",
       "      <td>человек</td>\n",
       "    </tr>\n",
       "    <tr>\n",
       "      <th>9</th>\n",
       "      <td>3</td>\n",
       "      <td>0.0</td>\n",
       "      <td>0.000021</td>\n",
       "      <td>0.004032</td>\n",
       "      <td>голуб</td>\n",
       "    </tr>\n",
       "  </tbody>\n",
       "</table>\n",
       "</div>"
      ],
      "text/plain": [
       "   Count(wi)  Fr (L)  Fr(Coll)        tf Слово (Лексема)\n",
       "0          7    29.6  0.000030  0.009409          авария\n",
       "1          4    40.4  0.000029  0.005376         актриса\n",
       "2          4     8.5  0.000011  0.005376        виновник\n",
       "3          3    65.9  0.000429  0.004032        водитель\n",
       "4          1     0.6  0.000002  0.001344        газануть\n",
       "5          0  1389.8  0.000542  0.000000           жизнь\n",
       "6          1     5.0  0.000005  0.001344      загораться\n",
       "7          4    55.7  0.000109  0.005376       свидетель\n",
       "8          1  2723.0  0.001465  0.001344         человек\n",
       "9          3     0.0  0.000021  0.004032           голуб"
      ]
     },
     "execution_count": 298,
     "metadata": {},
     "output_type": "execute_result"
    }
   ],
   "source": [
    "ten_df"
   ]
  },
  {
   "cell_type": "code",
   "execution_count": 307,
   "metadata": {
    "collapsed": true
   },
   "outputs": [],
   "source": [
    "doc_lengths = []\n",
    "Ns = []\n",
    "for h in range(10):\n",
    "    doc_lengths.append(doc_length)\n",
    "    Ns.append(350)"
   ]
  },
  {
   "cell_type": "code",
   "execution_count": 323,
   "metadata": {},
   "outputs": [],
   "source": [
    "dfs = []\n",
    "idfs = []\n",
    "for lll in l:\n",
    "    df = find_w(d['string'], lll)\n",
    "    dfs.append(df)\n",
    "    idfs.append(log((350/df)**2, 10))"
   ]
  },
  {
   "cell_type": "code",
   "execution_count": 324,
   "metadata": {
    "collapsed": true
   },
   "outputs": [],
   "source": [
    "ten_tfidf = {'Лексема': l, 'Count(w)': count_wi, 'tf': tf, 'LengthDoc': doc_lengths, 'N': Ns, 'df': dfs, 'idf': idfs}"
   ]
  },
  {
   "cell_type": "code",
   "execution_count": 327,
   "metadata": {
    "collapsed": true
   },
   "outputs": [],
   "source": [
    "ten_tfidf_df = pd.DataFrame(data=ten_tfidf)\n",
    "ten_tfidf_df['tfidf'] = ten_tfidf_df.idf * ten_tfidf_df.tf"
   ]
  },
  {
   "cell_type": "code",
   "execution_count": 329,
   "metadata": {},
   "outputs": [
    {
     "data": {
      "text/html": [
       "<div>\n",
       "<style scoped>\n",
       "    .dataframe tbody tr th:only-of-type {\n",
       "        vertical-align: middle;\n",
       "    }\n",
       "\n",
       "    .dataframe tbody tr th {\n",
       "        vertical-align: top;\n",
       "    }\n",
       "\n",
       "    .dataframe thead th {\n",
       "        text-align: right;\n",
       "    }\n",
       "</style>\n",
       "<table border=\"1\" class=\"dataframe\">\n",
       "  <thead>\n",
       "    <tr style=\"text-align: right;\">\n",
       "      <th></th>\n",
       "      <th>Count(w)</th>\n",
       "      <th>LengthDoc</th>\n",
       "      <th>N</th>\n",
       "      <th>df</th>\n",
       "      <th>idf</th>\n",
       "      <th>tf</th>\n",
       "      <th>Лексема</th>\n",
       "      <th>tfidf</th>\n",
       "    </tr>\n",
       "  </thead>\n",
       "  <tbody>\n",
       "    <tr>\n",
       "      <th>0</th>\n",
       "      <td>7</td>\n",
       "      <td>744</td>\n",
       "      <td>350</td>\n",
       "      <td>7</td>\n",
       "      <td>3.397940</td>\n",
       "      <td>0.009409</td>\n",
       "      <td>авария</td>\n",
       "      <td>0.031970</td>\n",
       "    </tr>\n",
       "    <tr>\n",
       "      <th>2</th>\n",
       "      <td>4</td>\n",
       "      <td>744</td>\n",
       "      <td>350</td>\n",
       "      <td>3</td>\n",
       "      <td>4.133894</td>\n",
       "      <td>0.005376</td>\n",
       "      <td>виновник</td>\n",
       "      <td>0.022225</td>\n",
       "    </tr>\n",
       "    <tr>\n",
       "      <th>1</th>\n",
       "      <td>4</td>\n",
       "      <td>744</td>\n",
       "      <td>350</td>\n",
       "      <td>11</td>\n",
       "      <td>3.005351</td>\n",
       "      <td>0.005376</td>\n",
       "      <td>актриса</td>\n",
       "      <td>0.016158</td>\n",
       "    </tr>\n",
       "    <tr>\n",
       "      <th>9</th>\n",
       "      <td>3</td>\n",
       "      <td>744</td>\n",
       "      <td>350</td>\n",
       "      <td>10</td>\n",
       "      <td>3.088136</td>\n",
       "      <td>0.004032</td>\n",
       "      <td>голуб</td>\n",
       "      <td>0.012452</td>\n",
       "    </tr>\n",
       "    <tr>\n",
       "      <th>7</th>\n",
       "      <td>4</td>\n",
       "      <td>744</td>\n",
       "      <td>350</td>\n",
       "      <td>35</td>\n",
       "      <td>2.000000</td>\n",
       "      <td>0.005376</td>\n",
       "      <td>свидетель</td>\n",
       "      <td>0.010753</td>\n",
       "    </tr>\n",
       "    <tr>\n",
       "      <th>4</th>\n",
       "      <td>1</td>\n",
       "      <td>744</td>\n",
       "      <td>350</td>\n",
       "      <td>1</td>\n",
       "      <td>5.088136</td>\n",
       "      <td>0.001344</td>\n",
       "      <td>газануть</td>\n",
       "      <td>0.006839</td>\n",
       "    </tr>\n",
       "    <tr>\n",
       "      <th>6</th>\n",
       "      <td>1</td>\n",
       "      <td>744</td>\n",
       "      <td>350</td>\n",
       "      <td>3</td>\n",
       "      <td>4.133894</td>\n",
       "      <td>0.001344</td>\n",
       "      <td>загораться</td>\n",
       "      <td>0.005556</td>\n",
       "    </tr>\n",
       "    <tr>\n",
       "      <th>3</th>\n",
       "      <td>3</td>\n",
       "      <td>744</td>\n",
       "      <td>350</td>\n",
       "      <td>120</td>\n",
       "      <td>0.929774</td>\n",
       "      <td>0.004032</td>\n",
       "      <td>водитель</td>\n",
       "      <td>0.003749</td>\n",
       "    </tr>\n",
       "    <tr>\n",
       "      <th>8</th>\n",
       "      <td>1</td>\n",
       "      <td>744</td>\n",
       "      <td>350</td>\n",
       "      <td>222</td>\n",
       "      <td>0.395430</td>\n",
       "      <td>0.001344</td>\n",
       "      <td>человек</td>\n",
       "      <td>0.000531</td>\n",
       "    </tr>\n",
       "    <tr>\n",
       "      <th>5</th>\n",
       "      <td>0</td>\n",
       "      <td>744</td>\n",
       "      <td>350</td>\n",
       "      <td>135</td>\n",
       "      <td>0.827469</td>\n",
       "      <td>0.000000</td>\n",
       "      <td>жизнь</td>\n",
       "      <td>0.000000</td>\n",
       "    </tr>\n",
       "  </tbody>\n",
       "</table>\n",
       "</div>"
      ],
      "text/plain": [
       "   Count(w)  LengthDoc    N   df       idf        tf     Лексема     tfidf\n",
       "0         7        744  350    7  3.397940  0.009409      авария  0.031970\n",
       "2         4        744  350    3  4.133894  0.005376    виновник  0.022225\n",
       "1         4        744  350   11  3.005351  0.005376     актриса  0.016158\n",
       "9         3        744  350   10  3.088136  0.004032       голуб  0.012452\n",
       "7         4        744  350   35  2.000000  0.005376   свидетель  0.010753\n",
       "4         1        744  350    1  5.088136  0.001344    газануть  0.006839\n",
       "6         1        744  350    3  4.133894  0.001344  загораться  0.005556\n",
       "3         3        744  350  120  0.929774  0.004032    водитель  0.003749\n",
       "8         1        744  350  222  0.395430  0.001344     человек  0.000531\n",
       "5         0        744  350  135  0.827469  0.000000       жизнь  0.000000"
      ]
     },
     "execution_count": 329,
     "metadata": {},
     "output_type": "execute_result"
    }
   ],
   "source": [
    "ten_tfidf_df.sort_values(by='tfidf', ascending=0)"
   ]
  },
  {
   "cell_type": "markdown",
   "metadata": {},
   "source": [
    "## Соответствуют ли те слова, которые попали вверх списка, упорядоченного по убыванию tf.idf, Вашей интуиции?\n",
    "Да, соответвуют. 5 первых слов попали в мои ключевые слова."
   ]
  },
  {
   "cell_type": "code",
   "execution_count": 332,
   "metadata": {},
   "outputs": [
    {
     "data": {
      "text/plain": [
       "['свидетель',\n",
       " 'ДТП',\n",
       " 'погибнуть',\n",
       " 'Голуб',\n",
       " 'актриса',\n",
       " 'авария',\n",
       " 'виновник',\n",
       " 'суд']"
      ]
     },
     "execution_count": 332,
     "metadata": {},
     "output_type": "execute_result"
    }
   ],
   "source": [
    "ws"
   ]
  },
  {
   "cell_type": "markdown",
   "metadata": {},
   "source": [
    "## Все ли ключевые слова попали в верхнюю часть списка (в первые шесть слов), ранжированного по tf.idf?\n",
    "Нет, не все. Я не выделила слово **газануть**."
   ]
  },
  {
   "cell_type": "markdown",
   "metadata": {},
   "source": [
    "## Какие слова попали вниз ранжированного списка? Каковы их характеристики с точки зрения грамматических характеристик, семантики\n",
    "Во-первых, туда попали глаголы (неназывательные часть речи). Во-вторых, слова с высокой частотностью (по частотному словарю русского языка), например, как **жизнь**, **человек**."
   ]
  },
  {
   "cell_type": "markdown",
   "metadata": {},
   "source": [
    "## Как, по-вашему, должен быть устроен список «стоп»-слов, данные о которых нет смысла включать в таблицу?\n",
    "Туда должны входить служебные части речи, самые частотные слова (например, эти слова у нас оказались внизу списка, ранжированнного по tf.idf), но это нужно проверить, так как возможно эти слова и могут войти в топ ключевых слов."
   ]
  },
  {
   "cell_type": "markdown",
   "metadata": {},
   "source": [
    "### Усложненное задание"
   ]
  },
  {
   "cell_type": "code",
   "execution_count": 343,
   "metadata": {
    "collapsed": true
   },
   "outputs": [],
   "source": [
    "lexems_one = set(analized_text.split())"
   ]
  },
  {
   "cell_type": "code",
   "execution_count": 348,
   "metadata": {},
   "outputs": [
    {
     "data": {
      "text/plain": [
       "228"
      ]
     },
     "execution_count": 348,
     "metadata": {},
     "output_type": "execute_result"
    }
   ],
   "source": [
    "len(lexems_one)"
   ]
  },
  {
   "cell_type": "code",
   "execution_count": 356,
   "metadata": {},
   "outputs": [
    {
     "data": {
      "text/plain": [
       "249"
      ]
     },
     "execution_count": 356,
     "metadata": {},
     "output_type": "execute_result"
    }
   ],
   "source": [
    "len(idfs2)"
   ]
  },
  {
   "cell_type": "code",
   "execution_count": 357,
   "metadata": {},
   "outputs": [],
   "source": [
    "l2 = list(df_fr.loc[df_fr[0].isin(lexems_one)][[0, 2]][0])\n",
    "fr_l2 = list(df_fr.loc[df_fr[0].isin(lexems_one)][[0, 2]][2])\n",
    "fr_coll2 = []\n",
    "for ww2 in l2:\n",
    "    num2 = countcoll(hole_text, ww2)\n",
    "    fr_coll2.append(num2/n_colls)\n",
    "count_wi2 = []\n",
    "tf2 = []\n",
    "for lex2 in l2:\n",
    "    count_wi2.append(fdist2[lex2])\n",
    "    tf2.append(fdist2[lex2]/doc_length)\n",
    "add = {'Слово (Лексема)': l2, 'Fr (L)': fr_l2, 'Fr(Coll)': fr_coll2, 'Count(wi)': count_wi2, 'tf': tf2}\n",
    "add_df = pd.DataFrame(data=add)\n",
    "doc_lengths2 = []\n",
    "Ns2 = []\n",
    "for h2 in range(249):\n",
    "    doc_lengths2.append(doc_length)\n",
    "    Ns2.append(350)\n",
    "dfs2 = []\n",
    "idfs2 = []\n",
    "for lll2 in l2:\n",
    "    df2 = find_w(d['string'], lll2)\n",
    "    dfs2.append(df2)\n",
    "    idfs2.append(log((350/df2)**2, 10))\n",
    "ten_tfidf2 = {'Лексема': l2, 'Count(w)': count_wi2, 'tf': tf2, 'LengthDoc': doc_lengths2, 'N': Ns2, 'df': dfs2, 'idf': idfs2}\n",
    "ten_tfidf_df2 = pd.DataFrame(data=ten_tfidf2)\n",
    "ten_tfidf_df2['tfidf'] = ten_tfidf_df2.idf * ten_tfidf_df2.tf"
   ]
  },
  {
   "cell_type": "code",
   "execution_count": 360,
   "metadata": {},
   "outputs": [
    {
     "data": {
      "text/html": [
       "<div>\n",
       "<style scoped>\n",
       "    .dataframe tbody tr th:only-of-type {\n",
       "        vertical-align: middle;\n",
       "    }\n",
       "\n",
       "    .dataframe tbody tr th {\n",
       "        vertical-align: top;\n",
       "    }\n",
       "\n",
       "    .dataframe thead th {\n",
       "        text-align: right;\n",
       "    }\n",
       "</style>\n",
       "<table border=\"1\" class=\"dataframe\">\n",
       "  <thead>\n",
       "    <tr style=\"text-align: right;\">\n",
       "      <th></th>\n",
       "      <th>Count(w)</th>\n",
       "      <th>LengthDoc</th>\n",
       "      <th>N</th>\n",
       "      <th>df</th>\n",
       "      <th>idf</th>\n",
       "      <th>tf</th>\n",
       "      <th>Лексема</th>\n",
       "      <th>tfidf</th>\n",
       "    </tr>\n",
       "  </thead>\n",
       "  <tbody>\n",
       "    <tr>\n",
       "      <th>4</th>\n",
       "      <td>7</td>\n",
       "      <td>744</td>\n",
       "      <td>350</td>\n",
       "      <td>7</td>\n",
       "      <td>3.397940</td>\n",
       "      <td>0.009409</td>\n",
       "      <td>авария</td>\n",
       "      <td>0.031970</td>\n",
       "    </tr>\n",
       "    <tr>\n",
       "      <th>21</th>\n",
       "      <td>4</td>\n",
       "      <td>744</td>\n",
       "      <td>350</td>\n",
       "      <td>3</td>\n",
       "      <td>4.133894</td>\n",
       "      <td>0.005376</td>\n",
       "      <td>виновник</td>\n",
       "      <td>0.022225</td>\n",
       "    </tr>\n",
       "    <tr>\n",
       "      <th>9</th>\n",
       "      <td>4</td>\n",
       "      <td>744</td>\n",
       "      <td>350</td>\n",
       "      <td>11</td>\n",
       "      <td>3.005351</td>\n",
       "      <td>0.005376</td>\n",
       "      <td>актриса</td>\n",
       "      <td>0.016158</td>\n",
       "    </tr>\n",
       "    <tr>\n",
       "      <th>163</th>\n",
       "      <td>2</td>\n",
       "      <td>744</td>\n",
       "      <td>350</td>\n",
       "      <td>1</td>\n",
       "      <td>5.088136</td>\n",
       "      <td>0.002688</td>\n",
       "      <td>потерпевший</td>\n",
       "      <td>0.013678</td>\n",
       "    </tr>\n",
       "    <tr>\n",
       "      <th>29</th>\n",
       "      <td>2</td>\n",
       "      <td>744</td>\n",
       "      <td>350</td>\n",
       "      <td>1</td>\n",
       "      <td>5.088136</td>\n",
       "      <td>0.002688</td>\n",
       "      <td>выгораживать</td>\n",
       "      <td>0.013678</td>\n",
       "    </tr>\n",
       "    <tr>\n",
       "      <th>189</th>\n",
       "      <td>2</td>\n",
       "      <td>744</td>\n",
       "      <td>350</td>\n",
       "      <td>2</td>\n",
       "      <td>4.486076</td>\n",
       "      <td>0.002688</td>\n",
       "      <td>светофор</td>\n",
       "      <td>0.012059</td>\n",
       "    </tr>\n",
       "    <tr>\n",
       "      <th>190</th>\n",
       "      <td>4</td>\n",
       "      <td>744</td>\n",
       "      <td>350</td>\n",
       "      <td>35</td>\n",
       "      <td>2.000000</td>\n",
       "      <td>0.005376</td>\n",
       "      <td>свидетель</td>\n",
       "      <td>0.010753</td>\n",
       "    </tr>\n",
       "    <tr>\n",
       "      <th>180</th>\n",
       "      <td>3</td>\n",
       "      <td>744</td>\n",
       "      <td>350</td>\n",
       "      <td>17</td>\n",
       "      <td>2.627238</td>\n",
       "      <td>0.004032</td>\n",
       "      <td>расследование</td>\n",
       "      <td>0.010594</td>\n",
       "    </tr>\n",
       "    <tr>\n",
       "      <th>142</th>\n",
       "      <td>3</td>\n",
       "      <td>744</td>\n",
       "      <td>350</td>\n",
       "      <td>21</td>\n",
       "      <td>2.443697</td>\n",
       "      <td>0.004032</td>\n",
       "      <td>погибать</td>\n",
       "      <td>0.009854</td>\n",
       "    </tr>\n",
       "    <tr>\n",
       "      <th>154</th>\n",
       "      <td>2</td>\n",
       "      <td>744</td>\n",
       "      <td>350</td>\n",
       "      <td>6</td>\n",
       "      <td>3.531834</td>\n",
       "      <td>0.002688</td>\n",
       "      <td>показание</td>\n",
       "      <td>0.009494</td>\n",
       "    </tr>\n",
       "    <tr>\n",
       "      <th>6</th>\n",
       "      <td>3</td>\n",
       "      <td>744</td>\n",
       "      <td>350</td>\n",
       "      <td>30</td>\n",
       "      <td>2.133894</td>\n",
       "      <td>0.004032</td>\n",
       "      <td>автомобиль</td>\n",
       "      <td>0.008604</td>\n",
       "    </tr>\n",
       "    <tr>\n",
       "      <th>188</th>\n",
       "      <td>2</td>\n",
       "      <td>744</td>\n",
       "      <td>350</td>\n",
       "      <td>11</td>\n",
       "      <td>3.005351</td>\n",
       "      <td>0.002688</td>\n",
       "      <td>санкция</td>\n",
       "      <td>0.008079</td>\n",
       "    </tr>\n",
       "    <tr>\n",
       "      <th>198</th>\n",
       "      <td>3</td>\n",
       "      <td>744</td>\n",
       "      <td>350</td>\n",
       "      <td>39</td>\n",
       "      <td>1.906007</td>\n",
       "      <td>0.004032</td>\n",
       "      <td>следствие</td>\n",
       "      <td>0.007686</td>\n",
       "    </tr>\n",
       "    <tr>\n",
       "      <th>166</th>\n",
       "      <td>2</td>\n",
       "      <td>744</td>\n",
       "      <td>350</td>\n",
       "      <td>18</td>\n",
       "      <td>2.577591</td>\n",
       "      <td>0.002688</td>\n",
       "      <td>появление</td>\n",
       "      <td>0.006929</td>\n",
       "    </tr>\n",
       "    <tr>\n",
       "      <th>228</th>\n",
       "      <td>1</td>\n",
       "      <td>744</td>\n",
       "      <td>350</td>\n",
       "      <td>1</td>\n",
       "      <td>5.088136</td>\n",
       "      <td>0.001344</td>\n",
       "      <td>укрывательство</td>\n",
       "      <td>0.006839</td>\n",
       "    </tr>\n",
       "    <tr>\n",
       "      <th>36</th>\n",
       "      <td>1</td>\n",
       "      <td>744</td>\n",
       "      <td>350</td>\n",
       "      <td>1</td>\n",
       "      <td>5.088136</td>\n",
       "      <td>0.001344</td>\n",
       "      <td>глухой</td>\n",
       "      <td>0.006839</td>\n",
       "    </tr>\n",
       "    <tr>\n",
       "      <th>25</th>\n",
       "      <td>1</td>\n",
       "      <td>744</td>\n",
       "      <td>350</td>\n",
       "      <td>1</td>\n",
       "      <td>5.088136</td>\n",
       "      <td>0.001344</td>\n",
       "      <td>врезаться</td>\n",
       "      <td>0.006839</td>\n",
       "    </tr>\n",
       "    <tr>\n",
       "      <th>35</th>\n",
       "      <td>1</td>\n",
       "      <td>744</td>\n",
       "      <td>350</td>\n",
       "      <td>1</td>\n",
       "      <td>5.088136</td>\n",
       "      <td>0.001344</td>\n",
       "      <td>глухой</td>\n",
       "      <td>0.006839</td>\n",
       "    </tr>\n",
       "    <tr>\n",
       "      <th>32</th>\n",
       "      <td>1</td>\n",
       "      <td>744</td>\n",
       "      <td>350</td>\n",
       "      <td>1</td>\n",
       "      <td>5.088136</td>\n",
       "      <td>0.001344</td>\n",
       "      <td>газануть</td>\n",
       "      <td>0.006839</td>\n",
       "    </tr>\n",
       "    <tr>\n",
       "      <th>199</th>\n",
       "      <td>7</td>\n",
       "      <td>744</td>\n",
       "      <td>350</td>\n",
       "      <td>156</td>\n",
       "      <td>0.701887</td>\n",
       "      <td>0.009409</td>\n",
       "      <td>слово</td>\n",
       "      <td>0.006604</td>\n",
       "    </tr>\n",
       "  </tbody>\n",
       "</table>\n",
       "</div>"
      ],
      "text/plain": [
       "     Count(w)  LengthDoc    N   df       idf        tf         Лексема  \\\n",
       "4           7        744  350    7  3.397940  0.009409          авария   \n",
       "21          4        744  350    3  4.133894  0.005376        виновник   \n",
       "9           4        744  350   11  3.005351  0.005376         актриса   \n",
       "163         2        744  350    1  5.088136  0.002688     потерпевший   \n",
       "29          2        744  350    1  5.088136  0.002688    выгораживать   \n",
       "189         2        744  350    2  4.486076  0.002688        светофор   \n",
       "190         4        744  350   35  2.000000  0.005376       свидетель   \n",
       "180         3        744  350   17  2.627238  0.004032   расследование   \n",
       "142         3        744  350   21  2.443697  0.004032        погибать   \n",
       "154         2        744  350    6  3.531834  0.002688       показание   \n",
       "6           3        744  350   30  2.133894  0.004032      автомобиль   \n",
       "188         2        744  350   11  3.005351  0.002688         санкция   \n",
       "198         3        744  350   39  1.906007  0.004032       следствие   \n",
       "166         2        744  350   18  2.577591  0.002688       появление   \n",
       "228         1        744  350    1  5.088136  0.001344  укрывательство   \n",
       "36          1        744  350    1  5.088136  0.001344          глухой   \n",
       "25          1        744  350    1  5.088136  0.001344       врезаться   \n",
       "35          1        744  350    1  5.088136  0.001344          глухой   \n",
       "32          1        744  350    1  5.088136  0.001344        газануть   \n",
       "199         7        744  350  156  0.701887  0.009409           слово   \n",
       "\n",
       "        tfidf  \n",
       "4    0.031970  \n",
       "21   0.022225  \n",
       "9    0.016158  \n",
       "163  0.013678  \n",
       "29   0.013678  \n",
       "189  0.012059  \n",
       "190  0.010753  \n",
       "180  0.010594  \n",
       "142  0.009854  \n",
       "154  0.009494  \n",
       "6    0.008604  \n",
       "188  0.008079  \n",
       "198  0.007686  \n",
       "166  0.006929  \n",
       "228  0.006839  \n",
       "36   0.006839  \n",
       "25   0.006839  \n",
       "35   0.006839  \n",
       "32   0.006839  \n",
       "199  0.006604  "
      ]
     },
     "execution_count": 360,
     "metadata": {},
     "output_type": "execute_result"
    }
   ],
   "source": [
    "ten_tfidf_df2.sort_values(by='tfidf', ascending=0)[:20]"
   ]
  },
  {
   "cell_type": "code",
   "execution_count": 361,
   "metadata": {},
   "outputs": [
    {
     "data": {
      "text/plain": [
       "['свидетель',\n",
       " 'ДТП',\n",
       " 'погибнуть',\n",
       " 'Голуб',\n",
       " 'актриса',\n",
       " 'авария',\n",
       " 'виновник',\n",
       " 'суд']"
      ]
     },
     "execution_count": 361,
     "metadata": {},
     "output_type": "execute_result"
    }
   ],
   "source": [
    "ws"
   ]
  },
  {
   "cell_type": "markdown",
   "metadata": {},
   "source": [
    "## Какие слова из списка тематически значимых слов, составленного вручную, вошли в список топ 20 слов по tf.idf, а какие не вошли\n",
    "Не вошли **ДТП**, **Голуб**, **суд**. Первые два, возможно потому что это имена собственные и их частотоность мала, или вовсе не встречаются в частотном словаре. Вошли: **свидетель**, **погибать** (я выбрала другую лемму),  **актриса**, **авария**, **виновник**, **суд**"
   ]
  },
  {
   "cell_type": "markdown",
   "metadata": {},
   "source": [
    "## Задайте пороговое значение по tf.idf для ключевых слов\n",
    "0.007686 (со слова **следствие**)"
   ]
  },
  {
   "cell_type": "markdown",
   "metadata": {},
   "source": [
    "## Какие слова, на ваш взгляд, имеют высокий tf.df (выше порогового значения), но не являются ключевыми\n",
    "Те, что редки во всей коллекции текста, но ключевыми для этого они тоже не являются (параметр df - маленький: количество документов, в которых встретилось слово)"
   ]
  },
  {
   "cell_type": "code",
   "execution_count": 386,
   "metadata": {},
   "outputs": [],
   "source": [
    "tens = [\" \".join(d[\"string\"][i*35:i*35 + 35]) for i in range(0,10)]"
   ]
  },
  {
   "cell_type": "markdown",
   "metadata": {},
   "source": [
    "C высоким tf.idf слова **авария**, **виновник**. Два частотных в языке, исключая стоп слова **который**, **это**"
   ]
  },
  {
   "cell_type": "code",
   "execution_count": 374,
   "metadata": {
    "collapsed": true
   },
   "outputs": [],
   "source": [
    "four = ['авария', 'виновник', 'который', 'это']"
   ]
  },
  {
   "cell_type": "code",
   "execution_count": 397,
   "metadata": {
    "collapsed": true
   },
   "outputs": [],
   "source": [
    "def CountColi(wj, texts):\n",
    "    coun = []\n",
    "    for one_text in texts:\n",
    "        leng = len(one_text.split(' '))\n",
    "        coun.append(len(re.findall(wj, one_text))/leng)\n",
    "    return coun"
   ]
  },
  {
   "cell_type": "code",
   "execution_count": 395,
   "metadata": {
    "collapsed": true
   },
   "outputs": [],
   "source": [
    "def CountColi(wj, texts):\n",
    "    coun = []\n",
    "    for one_text in texts:\n",
    "        coun.append(len(re.findall(wj, one_text)))\n",
    "    return coun"
   ]
  },
  {
   "cell_type": "code",
   "execution_count": 400,
   "metadata": {},
   "outputs": [],
   "source": [
    "final = {}\n",
    "for www in four:\n",
    "    final[www] = CountColi(www, tens)"
   ]
  },
  {
   "cell_type": "code",
   "execution_count": 402,
   "metadata": {},
   "outputs": [],
   "source": [
    "final_df = pd.DataFrame(data=final)"
   ]
  },
  {
   "cell_type": "code",
   "execution_count": 403,
   "metadata": {},
   "outputs": [
    {
     "data": {
      "text/html": [
       "<div>\n",
       "<style scoped>\n",
       "    .dataframe tbody tr th:only-of-type {\n",
       "        vertical-align: middle;\n",
       "    }\n",
       "\n",
       "    .dataframe tbody tr th {\n",
       "        vertical-align: top;\n",
       "    }\n",
       "\n",
       "    .dataframe thead th {\n",
       "        text-align: right;\n",
       "    }\n",
       "</style>\n",
       "<table border=\"1\" class=\"dataframe\">\n",
       "  <thead>\n",
       "    <tr style=\"text-align: right;\">\n",
       "      <th></th>\n",
       "      <th>авария</th>\n",
       "      <th>виновник</th>\n",
       "      <th>который</th>\n",
       "      <th>это</th>\n",
       "    </tr>\n",
       "  </thead>\n",
       "  <tbody>\n",
       "    <tr>\n",
       "      <th>0</th>\n",
       "      <td>0.000349</td>\n",
       "      <td>0.000155</td>\n",
       "      <td>0.006555</td>\n",
       "      <td>0.010317</td>\n",
       "    </tr>\n",
       "    <tr>\n",
       "      <th>1</th>\n",
       "      <td>0.000000</td>\n",
       "      <td>0.000000</td>\n",
       "      <td>0.005749</td>\n",
       "      <td>0.012420</td>\n",
       "    </tr>\n",
       "    <tr>\n",
       "      <th>2</th>\n",
       "      <td>0.000072</td>\n",
       "      <td>0.000000</td>\n",
       "      <td>0.007904</td>\n",
       "      <td>0.012000</td>\n",
       "    </tr>\n",
       "    <tr>\n",
       "      <th>3</th>\n",
       "      <td>0.000000</td>\n",
       "      <td>0.000071</td>\n",
       "      <td>0.005214</td>\n",
       "      <td>0.013535</td>\n",
       "    </tr>\n",
       "    <tr>\n",
       "      <th>4</th>\n",
       "      <td>0.000000</td>\n",
       "      <td>0.000000</td>\n",
       "      <td>0.005554</td>\n",
       "      <td>0.014943</td>\n",
       "    </tr>\n",
       "    <tr>\n",
       "      <th>5</th>\n",
       "      <td>0.000000</td>\n",
       "      <td>0.000000</td>\n",
       "      <td>0.007002</td>\n",
       "      <td>0.013054</td>\n",
       "    </tr>\n",
       "    <tr>\n",
       "      <th>6</th>\n",
       "      <td>0.000000</td>\n",
       "      <td>0.000000</td>\n",
       "      <td>0.006493</td>\n",
       "      <td>0.013197</td>\n",
       "    </tr>\n",
       "    <tr>\n",
       "      <th>7</th>\n",
       "      <td>0.000049</td>\n",
       "      <td>0.000000</td>\n",
       "      <td>0.004116</td>\n",
       "      <td>0.006876</td>\n",
       "    </tr>\n",
       "    <tr>\n",
       "      <th>8</th>\n",
       "      <td>0.000120</td>\n",
       "      <td>0.000000</td>\n",
       "      <td>0.007273</td>\n",
       "      <td>0.012228</td>\n",
       "    </tr>\n",
       "    <tr>\n",
       "      <th>9</th>\n",
       "      <td>0.000037</td>\n",
       "      <td>0.000000</td>\n",
       "      <td>0.006135</td>\n",
       "      <td>0.011860</td>\n",
       "    </tr>\n",
       "  </tbody>\n",
       "</table>\n",
       "</div>"
      ],
      "text/plain": [
       "     авария  виновник   который       это\n",
       "0  0.000349  0.000155  0.006555  0.010317\n",
       "1  0.000000  0.000000  0.005749  0.012420\n",
       "2  0.000072  0.000000  0.007904  0.012000\n",
       "3  0.000000  0.000071  0.005214  0.013535\n",
       "4  0.000000  0.000000  0.005554  0.014943\n",
       "5  0.000000  0.000000  0.007002  0.013054\n",
       "6  0.000000  0.000000  0.006493  0.013197\n",
       "7  0.000049  0.000000  0.004116  0.006876\n",
       "8  0.000120  0.000000  0.007273  0.012228\n",
       "9  0.000037  0.000000  0.006135  0.011860"
      ]
     },
     "execution_count": 403,
     "metadata": {},
     "output_type": "execute_result"
    }
   ],
   "source": [
    "final_df"
   ]
  },
  {
   "cell_type": "code",
   "execution_count": 404,
   "metadata": {
    "collapsed": true
   },
   "outputs": [],
   "source": [
    "import matplotlib.pyplot as plt"
   ]
  },
  {
   "cell_type": "code",
   "execution_count": 408,
   "metadata": {},
   "outputs": [
    {
     "data": {
      "image/png": "[encoded data removed]",
      "text/plain": [
       "<matplotlib.figure.Figure at 0x121865ac8>"
      ]
     },
     "metadata": {},
     "output_type": "display_data"
    }
   ],
   "source": [
    "x = np.arange(10)\n",
    "plt.bar(x, final_df['авария'])\n",
    "plt.xlabel('Авария')\n",
    "plt.show()"
   ]
  },
  {
   "cell_type": "code",
   "execution_count": 409,
   "metadata": {},
   "outputs": [
    {
     "data": {
      "image/png": "[encoded data removed]",
      "text/plain": [
       "<matplotlib.figure.Figure at 0x1224aa9b0>"
      ]
     },
     "metadata": {},
     "output_type": "display_data"
    }
   ],
   "source": [
    "x = np.arange(10)\n",
    "plt.bar(x, final_df['виновник'])\n",
    "plt.xlabel('Виновник')\n",
    "plt.show()"
   ]
  },
  {
   "cell_type": "code",
   "execution_count": 410,
   "metadata": {},
   "outputs": [
    {
     "data": {
      "image/png": "[encoded data removed]",
      "text/plain": [
       "<matplotlib.figure.Figure at 0x12193f5f8>"
      ]
     },
     "metadata": {},
     "output_type": "display_data"
    }
   ],
   "source": [
    "x = np.arange(10)\n",
    "plt.bar(x, final_df['который'])\n",
    "plt.xlabel('Который')\n",
    "plt.show()"
   ]
  },
  {
   "cell_type": "code",
   "execution_count": 411,
   "metadata": {},
   "outputs": [
    {
     "data": {
      "image/png": "[encoded data removed]",
      "text/plain": [
       "<matplotlib.figure.Figure at 0x1186eaa58>"
      ]
     },
     "metadata": {},
     "output_type": "display_data"
    }
   ],
   "source": [
    "x = np.arange(10)\n",
    "plt.bar(x, final_df['это'])\n",
    "plt.xlabel('Это')\n",
    "plt.show()"
   ]
  },
  {
   "cell_type": "markdown",
   "metadata": {},
   "source": [
    "# Отличаются ли диаграммы для самых частотных в языке слов и для слов с высоким tf.idf в Вашем списке, если отличаются, то чем?"
   ]
  },
  {
   "cell_type": "markdown",
   "metadata": {},
   "source": [
    "Да, отличаются. Выборка не совсем сбалансирована, поэтому графики частотных слов очень отличаются от слов с высоким tf-idf. Последние встречаются не во всех текстах, но если встречаются, то их частота в этом тексте высокая. Частотные слова появляются в текстах примерно равномерно."
   ]
  }
 ],
 "metadata": {
  "kernelspec": {
   "display_name": "Python 3",
   "language": "python",
   "name": "python3"
  },
  "language_info": {
   "codemirror_mode": {
    "name": "ipython",
    "version": 3
   },
   "file_extension": ".py",
   "mimetype": "text/x-python",
   "name": "python",
   "nbconvert_exporter": "python",
   "pygments_lexer": "ipython3",
   "version": "3.6.3"
  }
 },
 "nbformat": 4,
 "nbformat_minor": 2
}
